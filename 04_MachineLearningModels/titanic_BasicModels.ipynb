{
 "cells": [
  {
   "attachments": {},
   "cell_type": "markdown",
   "metadata": {},
   "source": [
    "# Basic ML Models"
   ]
  },
  {
   "cell_type": "code",
   "execution_count": 1,
   "metadata": {},
   "outputs": [
    {
     "name": "stdout",
     "output_type": "stream",
     "text": [
      "pandas version: 1.4.3\n",
      "numpy version: 1.21.5\n",
      "sklearn version: 1.1.1\n"
     ]
    },
    {
     "name": "stderr",
     "output_type": "stream",
     "text": [
      "e:\\programs\\anaconda3\\envs\\mlflow_optuna\\lib\\site-packages\\tqdm\\auto.py:22: TqdmWarning: IProgress not found. Please update jupyter and ipywidgets. See https://ipywidgets.readthedocs.io/en/stable/user_install.html\n",
      "  from .autonotebook import tqdm as notebook_tqdm\n"
     ]
    },
    {
     "name": "stdout",
     "output_type": "stream",
     "text": [
      "optuna version: 2.10.1\n",
      "mlflow version: 1.28.0\n"
     ]
    }
   ],
   "source": [
    "import pandas as pd\n",
    "print(\"pandas version: {}\". format(pd.__version__))\n",
    "\n",
    "# numpy: support for large, multi-dimensional arrays and matrices and high-level mathematical functions\n",
    "import numpy as np\n",
    "print(\"numpy version: {}\". format(np.__version__))\n",
    "\n",
    "import sklearn\n",
    "from sklearn.preprocessing import StandardScaler, MinMaxScaler\n",
    "from sklearn.linear_model import LogisticRegression\n",
    "from sklearn.tree import DecisionTreeClassifier\n",
    "from sklearn.ensemble import ExtraTreesClassifier, GradientBoostingClassifier, RandomForestClassifier\n",
    "from sklearn.svm import SVC\n",
    "from sklearn.compose import ColumnTransformer\n",
    "from sklearn.pipeline import Pipeline\n",
    "from sklearn.decomposition import PCA\n",
    "from sklearn.model_selection import ShuffleSplit, StratifiedShuffleSplit, train_test_split, cross_val_score, learning_curve\n",
    "from sklearn.feature_selection import VarianceThreshold\n",
    "from sklearn.metrics import precision_recall_curve, roc_curve, confusion_matrix, roc_auc_score\n",
    "print(\"sklearn version: {}\". format(sklearn.__version__))\n",
    "\n",
    "import optuna\n",
    "print(\"optuna version: {}\". format(optuna.__version__))\n",
    "\n",
    "import mlflow\n",
    "from mlflow.utils.mlflow_tags import MLFLOW_PARENT_RUN_ID\n",
    "from mlflow.tracking import MlflowClient\n",
    "print(\"mlflow version: {}\". format(mlflow.__version__))\n",
    "\n",
    "import matplotlib.pyplot as plt\n",
    "import seaborn as sns\n",
    "\n",
    "from datetime import datetime\n",
    "import warnings\n",
    "warnings.simplefilter('ignore')\n",
    "\n",
    "\n",
    "import yaml\n",
    "with open('ml_parameter.yaml') as file:\n",
    "  config_data= yaml.safe_load(file)"
   ]
  },
  {
   "cell_type": "code",
   "execution_count": 2,
   "metadata": {},
   "outputs": [],
   "source": [
    "client = MlflowClient()\n",
    "try:\n",
    "    experiment = client.create_experiment(config_data[\"experiment_name\"])\n",
    "except:\n",
    "    experiment = client.get_experiment_by_name(config_data[\"experiment_name\"]).experiment_id"
   ]
  },
  {
   "cell_type": "code",
   "execution_count": 3,
   "metadata": {},
   "outputs": [],
   "source": [
    "def load_data():\n",
    "    # load prepared training and test dataset\n",
    "    df_train = pd.read_pickle(config_data['path_df_train'])\n",
    "    df_test = pd.read_pickle(config_data['path_df_test'])\n",
    "\n",
    "    # split the training and test dataset to the input features (x_train, x_test) and the survival class (y_train)\n",
    "    y_train = df_train['Survived']\n",
    "    x_train = df_train.drop(['Survived'], axis=1)\n",
    "    x_test = df_test\n",
    "\n",
    "    x_train, x_validate, y_train, y_validate = train_test_split(x_train, y_train, test_size=0.2, random_state=config_data[\"RANDOM_STATE\"])\n",
    "\n",
    "    return x_train, y_train, x_validate, y_validate, x_test\n",
    "\n",
    "x_train, y_train, x_validate, y_validate, x_test = load_data()"
   ]
  },
  {
   "cell_type": "code",
   "execution_count": 4,
   "metadata": {},
   "outputs": [
    {
     "data": {
      "text/plain": [
       "['Pclass',\n",
       " 'SibSp',\n",
       " 'Parch',\n",
       " 'Family',\n",
       " 'TNlen',\n",
       " 'LeadingDigit',\n",
       " 'Fare_bin',\n",
       " 'Age_bin',\n",
       " 'x0_male',\n",
       " 'x1_C',\n",
       " 'x1_Q',\n",
       " 'x1_S',\n",
       " 'x2_adult',\n",
       " 'x2_children',\n",
       " 'x3_Alone',\n",
       " 'x3_Small',\n",
       " 'x5_Miss',\n",
       " 'x5_Mr',\n",
       " 'x5_Mrs',\n",
       " 'x6_NoPrefix',\n",
       " 'x6_pc',\n",
       " 'x8_outlier']"
      ]
     },
     "execution_count": 4,
     "metadata": {},
     "output_type": "execute_result"
    }
   ],
   "source": [
    "list(x_train)"
   ]
  },
  {
   "cell_type": "code",
   "execution_count": 14,
   "metadata": {},
   "outputs": [
    {
     "name": "stdout",
     "output_type": "stream",
     "text": [
      "['x0_male', 'x1_C', 'x1_Q', 'x1_S', 'x2_adult', 'x2_children', 'x3_Alone', 'x3_Small', 'x5_Miss', 'x5_Mr', 'x5_Mrs', 'x6_NoPrefix', 'x6_pc', 'x8_outlier']\n",
      "['Pclass', 'SibSp', 'Parch', 'Family', 'TNlen', 'LeadingDigit', 'Fare_bin', 'Age_bin']\n"
     ]
    }
   ],
   "source": [
    "transformer_not_num = [x for x in list(x_train) if (x.startswith(\"x\") & x[1].isnumeric())]\n",
    "print(transformer_not_num)\n",
    "\n",
    "transformer_num = [x for x in list(x_train) if x not in transformer_not_num]\n",
    "print(transformer_num)\n"
   ]
  },
  {
   "cell_type": "code",
   "execution_count": 4,
   "metadata": {},
   "outputs": [],
   "source": [
    "# only scale the features that are not one-hot-encoded [0,1]\n",
    "transformer_num = [\n",
    "    \"Pclass\",\n",
    "    \"SibSp\",\n",
    "    \"Parch\",\n",
    "    \"Family\",\n",
    "    \"TNlen\",\n",
    "    \"LeadingDigit\",\n",
    "    \"Fare_bin\",\n",
    "    \"Age_bin\",\n",
    "    ]\n",
    "\n",
    "\n",
    "\n",
    "# define cross validation\n",
    "cv = ShuffleSplit(\n",
    "    n_splits = 10,\n",
    "    test_size = 0.2,\n",
    "    random_state = config_data[\"RANDOM_STATE\"]\n",
    "    )"
   ]
  },
  {
   "cell_type": "code",
   "execution_count": 5,
   "metadata": {},
   "outputs": [],
   "source": [
    "def create_model(trial, model_type, parent_run):   \n",
    "\n",
    "    child_run = client.create_run(\n",
    "        experiment_id=experiment,\n",
    "        tags={\n",
    "            MLFLOW_PARENT_RUN_ID: parent_run.info.run_id\n",
    "        }\n",
    "    )\n",
    "\n",
    "\n",
    "\n",
    "    ''' columnprep '''\n",
    "    columnprep__transformers_num = trial.suggest_categorical(\"columnprep__transformers_num\", [\"StandardScaler\", \"MinMaxScaler\"])\n",
    "\n",
    "    if columnprep__transformers_num == \"StandardScaler\":\n",
    "        col_transform = ColumnTransformer(\n",
    "                    transformers=[\n",
    "                        ('num', StandardScaler(), transformer_num)\n",
    "                    ], remainder='passthrough'\n",
    "                )\n",
    "    elif columnprep__transformers_num == \"MinMaxScaler\":\n",
    "        col_transform = ColumnTransformer(\n",
    "            transformers=[\n",
    "                ('num', MinMaxScaler(), transformer_num)\n",
    "            ], remainder='passthrough'\n",
    "        )\n",
    "\n",
    "\n",
    "\n",
    "    ''' algo '''\n",
    "    if model_type == 'svm':\n",
    "        svm_kernel = trial.suggest_categorical('svm_kernel', config_data[\"svm_kernel\"])\n",
    "        svm_C = trial.suggest_float('svm_C', config_data[\"svm_C\"][0], config_data[\"svm_C\"][1], log=True)\n",
    "        svm_degree = trial.suggest_discrete_uniform('svm_degree', config_data[\"svm_degree\"][0], config_data[\"svm_degree\"][1], config_data[\"svm_degree\"][2])\n",
    "        \n",
    "        model = SVC(\n",
    "            kernel=svm_kernel,\n",
    "            C=svm_C,\n",
    "            degree=svm_degree,\n",
    "            probability=True,\n",
    "            random_state=config_data[\"RANDOM_STATE\"]\n",
    "        )\n",
    "\n",
    "        client.log_param(child_run.info.run_id, \"svm_kernel\", svm_kernel)\n",
    "        client.log_param(child_run.info.run_id, \"svm_C\", svm_C)\n",
    "        client.log_param(child_run.info.run_id, \"svm_degree\", svm_degree)\n",
    "    \n",
    "\n",
    "    if model_type == 'logistic-regression':\n",
    "        lr_C = trial.suggest_float(\"lr_C\", config_data[\"lr_C\"][0], config_data[\"lr_C\"][1], log=True)\n",
    "        lr_penalty = trial.suggest_categorical('lr_penalty', config_data[\"lr_penalty\"])\n",
    "        if lr_penalty == 'l1':\n",
    "            lr_solver = 'saga'\n",
    "        else:\n",
    "            lr_solver = 'lbfgs'\n",
    "        \n",
    "        model = LogisticRegression(\n",
    "            C=lr_C,\n",
    "            penalty=lr_penalty,\n",
    "            solver=lr_solver,\n",
    "            random_state=config_data[\"RANDOM_STATE\"],\n",
    "            n_jobs=-1\n",
    "        )\n",
    "\n",
    "        client.log_param(child_run.info.run_id, \"lr_C\", lr_C)\n",
    "        client.log_param(child_run.info.run_id, \"lr_penalty\", lr_penalty)\n",
    "        client.log_param(child_run.info.run_id, \"lr_solver\", lr_solver)\n",
    "\n",
    "\n",
    "    if model_type == 'decision-tree':\n",
    "        dt_max_depth = trial.suggest_int('dt_max_depth', config_data[\"dt_max_depth\"][0], x_train.shape[1])\n",
    "        dt_criterion = trial.suggest_categorical(\"dt_criterion\", config_data[\"dt_criterion\"])\n",
    "        dt_max_leaf_nodes = trial.suggest_int(\"dt_max_leaf_nodes\", config_data[\"dt_max_leaf_nodes\"][0], config_data[\"dt_max_leaf_nodes\"][1])\n",
    "        \n",
    "        model = DecisionTreeClassifier(\n",
    "            max_depth=dt_max_depth,\n",
    "            criterion=dt_criterion,\n",
    "            max_leaf_nodes=dt_max_leaf_nodes,\n",
    "            random_state=config_data[\"RANDOM_STATE\"]\n",
    "          )\n",
    "    \n",
    "        client.log_param(child_run.info.run_id, \"dt_max_depth\", dt_max_depth)\n",
    "        client.log_param(child_run.info.run_id, \"dt_criterion\", dt_criterion)\n",
    "        client.log_param(child_run.info.run_id, \"dt_max_leaf_nodes\", dt_max_leaf_nodes)\n",
    "    \n",
    "    \n",
    "    client.log_param(child_run.info.run_id, \"algo\", model.__class__.__name__)\n",
    "\n",
    "\n",
    "    pipeline = Pipeline(steps=[\n",
    "        ('columnprep', col_transform),\n",
    "        ('algo', model)\n",
    "    ])\n",
    "\n",
    "            \n",
    "    return pipeline, child_run"
   ]
  },
  {
   "cell_type": "code",
   "execution_count": 6,
   "metadata": {},
   "outputs": [],
   "source": [
    "def evaluate_model(x_train, y_train, y_validate, y_validate_pred, y_validate_scores, pipeline, child_run):\n",
    "    \"\"\"\n",
    "    evaluate the classification model with\n",
    "    - classification report\n",
    "    - precision-recall-curve\n",
    "    - ROC curve\n",
    "    \"\"\"\n",
    "\n",
    "    def plot_learning_curve(pipeline, x_train, y_train):\n",
    "\n",
    "        train_sizes, train_scores, test_scores = learning_curve(\n",
    "            pipeline,\n",
    "            x_train,\n",
    "            y_train,\n",
    "            cv=5,\n",
    "            n_jobs=-1,\n",
    "            train_sizes=np.linspace(.1, 1.0, 8)\n",
    "            )\n",
    "\n",
    "\n",
    "        fig1, ax1 = plt.subplots()\n",
    "        ax1.set_xlabel(\"Training examples\")\n",
    "        ax1.set_ylabel(\"Score\")\n",
    "        train_scores_mean = np.mean(train_scores, axis=1)\n",
    "        train_scores_std = np.std(train_scores, axis=1)\n",
    "        test_scores_mean = np.mean(test_scores, axis=1)\n",
    "        test_scores_std = np.std(test_scores, axis=1)\n",
    "        ax1.grid()\n",
    "\n",
    "        ax1.fill_between(train_sizes, train_scores_mean - train_scores_std,\n",
    "                        train_scores_mean + train_scores_std, alpha=0.1,\n",
    "                        color=\"r\")\n",
    "        ax1.fill_between(train_sizes, test_scores_mean - test_scores_std,\n",
    "                        test_scores_mean + test_scores_std, alpha=0.1, color=\"g\")\n",
    "        ax1.plot(train_sizes, train_scores_mean, 'o-', color=\"r\",\n",
    "                label=\"Training score\")\n",
    "        ax1.plot(train_sizes, test_scores_mean, 'o-', color=\"g\",\n",
    "                label=\"Cross-validation score\")\n",
    "\n",
    "        ax1.legend(loc=\"best\")\n",
    "        ax1.set_title(\"Difference between training and CV: \"\\\n",
    "            + str(round(test_scores_mean[7] / train_scores_mean[7] * 100, 2))\\\n",
    "            + \"%\")\n",
    "        client.log_figure(child_run.info.run_id, fig1, 'plot_learning_curve.png')\n",
    "        plt.close()\n",
    "\n",
    "\n",
    "    def plot_confusion_matrix(y_validate, y_validate_pred):\n",
    "        group_names = [\"True Neg\", \"False Pos\", \"False Neg\", \"True Pos\"]\n",
    "        group_counts = [\"{0:0.0f}\".format(value) for value in\n",
    "                        confusion_matrix(y_validate, y_validate_pred).flatten()]\n",
    "        group_percentages = [\"{0:.2%}\".format(value) for value in\n",
    "                             confusion_matrix(y_validate, y_validate_pred).flatten()/np.sum(confusion_matrix(y_validate, y_validate_pred))]\n",
    "        labels = [f\"{v1}\\n{v2}\\n{v3}\" for v1, v2, v3 in\n",
    "                  zip(group_names,group_counts,group_percentages)]\n",
    "        labels = np.asarray(labels).reshape(2,2)\n",
    "\n",
    "        fig2, ax2 = plt.subplots()\n",
    "        sns.heatmap(confusion_matrix(y_validate, y_validate_pred), annot=labels, fmt=\"\", cmap='Blues')\n",
    "        plt.xlabel('Predicted Label')\n",
    "        plt.ylabel('True Label')\n",
    "        client.log_figure(child_run.info.run_id, fig2, 'plot_confusion_matrix.png')\n",
    "        plt.close()\n",
    "\n",
    "\n",
    "    def plot_precision_recall_vs_threshold(y_validate, y_scores, child_run):\n",
    "        precisions, recalls, thresholds = precision_recall_curve(y_validate, y_scores)\n",
    "\n",
    "        # convert to f score\n",
    "        fscore = (2 * precisions * recalls) / (precisions + recalls)\n",
    "        # locate the index of the largest f score\n",
    "        ix = np.argmax(fscore)\n",
    "        \n",
    "        client.log_metric(child_run.info.run_id, \"f1_score\", round(fscore[ix], 5))\n",
    "\n",
    "        fig3, ax3 = plt.subplots()\n",
    "        ax3.plot(thresholds, precisions[:-1], \"b\", label=\"Precision\")\n",
    "        ax3.plot(thresholds, recalls[:-1], \"g\", label=\"Recall\")\n",
    "        ax3.plot(thresholds, fscore[:-1], \"r\", label=\"F1 Score\")\n",
    "        ax3.axvline(x=thresholds[ix], color='red', linestyle='--')\n",
    "        plt.axhline(y=precisions[ix], color='b', linestyle='--')\n",
    "        plt.axhline(y=recalls[ix], color='g', linestyle='--')\n",
    "        ax3.set_xlabel(\"Threshold\")\n",
    "        ax3.legend(loc=\"upper left\")\n",
    "        ax3.set_ylim([0,1])\n",
    "        client.log_figure(child_run.info.run_id, fig3, 'plot_f1.png')\n",
    "        plt.close()\n",
    "\n",
    "        fig4, ax4 = plt.subplots()\n",
    "        ax4.plot(recalls, precisions, marker='.', label='Logistic')\n",
    "        ax4.scatter(recalls[ix], precisions[ix], 200, marker='o', color='red', label='Best')\n",
    "        ax4.set_xlabel('Recall')\n",
    "        ax4.set_ylabel('Precision')\n",
    "        client.log_figure(child_run.info.run_id, fig4, 'plot_precision_recall.png')\n",
    "        plt.close()\n",
    "        \n",
    "\n",
    "    def plot_roc_curve(y_validate, y_scores, child_run):\n",
    "        fpr, tpr, thresholds = roc_curve(y_validate, y_scores)\n",
    "\n",
    "        roc_auc = round(roc_auc_score(y_validate, y_scores), 3)\n",
    "        \n",
    "        optimal_idx = np.argmax(tpr - fpr)\n",
    "\n",
    "        fig5, ax5 = plt.subplots()\n",
    "        ax5.plot(fpr, tpr, linewidth=2)\n",
    "        ax5.plot([0,1], [0,1], 'k--')\n",
    "        ax5.axis([0,1,0,1])\n",
    "        ax5.scatter(fpr[optimal_idx], tpr[optimal_idx], 200, marker='o', color='red', label='Best')\n",
    "        ax5.set_xlabel('False Positive Rate')\n",
    "        ax5.set_ylabel('True Positive Rate')\n",
    "        client.log_figure(child_run.info.run_id, fig5, 'plot_roc_curve.png')\n",
    "        plt.close()\n",
    "\n",
    "        client.log_metric(child_run.info.run_id, \"roc_auc\", roc_auc)\n",
    "\n",
    "        \n",
    "\n",
    "    plot_confusion_matrix(y_validate, y_validate_pred)\n",
    "    plot_precision_recall_vs_threshold(y_validate, y_validate_scores, child_run)\n",
    "    plot_roc_curve(y_validate, y_validate_scores, child_run)\n",
    "    plot_learning_curve(pipeline, x_train, y_train)"
   ]
  },
  {
   "cell_type": "code",
   "execution_count": 7,
   "metadata": {},
   "outputs": [],
   "source": [
    "class Objective:\n",
    "    \n",
    "    def __init__(self, model_type, parent_run):\n",
    "        self.best_model = None\n",
    "        self._model = None\n",
    "        self.model_type = model_type\n",
    "        self.parent_run = parent_run\n",
    "\n",
    "    \n",
    "    def __call__(self, trial):\n",
    "    \n",
    "        pipeline, child_run = create_model(trial, self.model_type, self.parent_run)\n",
    "        self._model = pipeline\n",
    "\n",
    "        score = cross_val_score(\n",
    "            pipeline,\n",
    "            x_train,\n",
    "            y_train,\n",
    "            cv=cv,\n",
    "            scoring=\"accuracy\",\n",
    "            n_jobs=-1\n",
    "        ).mean()\n",
    "\n",
    "        client.log_metric(child_run.info.run_id, \"cv_score\", score)\n",
    "\n",
    "        return score\n",
    "\n",
    "    def callback(self, study, trial):\n",
    "        if study.best_trial == trial:\n",
    "            self.best_model = self._model\n"
   ]
  },
  {
   "cell_type": "code",
   "execution_count": 8,
   "metadata": {},
   "outputs": [],
   "source": [
    "def create_submission(best_model, x_test, parent_run):\n",
    "    # predict the test values with the training classification model\n",
    "    y_pred = best_model.predict(x_test).astype(int)\n",
    "    \n",
    "    df_submission = pd.read_csv(\"../01_RawData/gender_submission.csv\")\n",
    "    df_submission['Survived'] = y_pred\n",
    "    \n",
    "    df_submission.to_csv('submissions/%s.csv'%parent_run.info.run_id, index=False)\n"
   ]
  },
  {
   "cell_type": "code",
   "execution_count": 9,
   "metadata": {},
   "outputs": [],
   "source": [
    "def create_new_mlrun(model_type):\n",
    "  parent_run = client.create_run(experiment_id=experiment)\n",
    "\n",
    "  objective = Objective(model_type, parent_run)\n",
    "\n",
    "  study = optuna.create_study(\n",
    "    sampler = optuna.samplers.TPESampler(),\n",
    "    direction=\"maximize\"\n",
    "    )\n",
    "\n",
    "  study.optimize(\n",
    "    objective,\n",
    "    n_trials=config_data[\"N_TRAILS\"],\n",
    "    timeout=config_data[\"TIMEOUT\"],\n",
    "    n_jobs=-1,\n",
    "    callbacks=[objective.callback]\n",
    "    )\n",
    "\n",
    "  print(\"Best trial:\")\n",
    "  print(study.best_value)\n",
    "  print(study.best_params)\n",
    "\n",
    "  client.log_metric(parent_run.info.run_id, \"best_cv_score\", round(study.best_value, 3))\n",
    "  client.log_param(parent_run.info.run_id, \"transformer_num\", str(transformer_num))\n",
    "\n",
    "  client.log_param(parent_run.info.run_id, \"cv_n_splits\", cv.n_splits)\n",
    "  client.log_param(parent_run.info.run_id, \"cv_train_size\", cv.train_size)\n",
    "  client.log_param(parent_run.info.run_id, \"cv_test_size\", cv.test_size)\n",
    "  client.log_param(parent_run.info.run_id, \"cv_random_state\", cv.random_state)\n",
    "\n",
    "  for param in study.best_params:\n",
    "    client.log_param(parent_run.info.run_id, param, study.best_params[param])\n",
    "\n",
    "\n",
    "  # save the best model as file\n",
    "  best_model = objective.best_model\n",
    "  mlflow.sklearn.save_model(best_model, \"models/%s/\"%parent_run.info.run_id)\n",
    "\n",
    "\n",
    "  # fit the pipeline to compute the validation results\n",
    "  best_model.fit(x_train, y_train)\n",
    "\n",
    "  # create submission of best model\n",
    "  create_submission(best_model, x_test, parent_run)\n",
    "\n",
    "\n",
    "  # predict the training outcome\n",
    "  y_validate_pred = best_model.predict(x_validate)\n",
    "\n",
    "  # predict probabilities\n",
    "  y_validate_proba = best_model.predict_proba(x_validate)\n",
    "  # keep probabilities for the positive outcome only\n",
    "  y_validate_scores = y_validate_proba[:, 1]\n",
    "\n",
    "  evaluate_model(x_train, y_train, y_validate, y_validate_pred, y_validate_scores, best_model, parent_run)\n",
    "\n",
    "  mlflow.end_run()\n",
    "\n",
    "  return study"
   ]
  },
  {
   "cell_type": "code",
   "execution_count": 10,
   "metadata": {},
   "outputs": [
    {
     "name": "stderr",
     "output_type": "stream",
     "text": [
      "\u001b[32m[I 2022-10-19 20:36:13,208]\u001b[0m A new study created in memory with name: no-name-bbdd6b86-bd56-47fe-bc7d-a4cd3798a3a4\u001b[0m\n",
      "\u001b[32m[I 2022-10-19 20:36:16,758]\u001b[0m Trial 0 finished with value: 0.8244755244755245 and parameters: {'columnprep__transformers_num': 'StandardScaler', 'lr_C': 2.840989527345764, 'lr_penalty': 'l2'}. Best is trial 0 with value: 0.8244755244755245.\u001b[0m\n",
      "\u001b[32m[I 2022-10-19 20:36:16,846]\u001b[0m Trial 2 finished with value: 0.8244755244755245 and parameters: {'columnprep__transformers_num': 'StandardScaler', 'lr_C': 84.2330153610002, 'lr_penalty': 'l2'}. Best is trial 0 with value: 0.8244755244755245.\u001b[0m\n",
      "\u001b[32m[I 2022-10-19 20:36:16,950]\u001b[0m Trial 3 finished with value: 0.8258741258741258 and parameters: {'columnprep__transformers_num': 'MinMaxScaler', 'lr_C': 10.900449044464558, 'lr_penalty': 'l1'}. Best is trial 3 with value: 0.8258741258741258.\u001b[0m\n",
      "\u001b[32m[I 2022-10-19 20:36:16,963]\u001b[0m Trial 1 finished with value: 0.8244755244755245 and parameters: {'columnprep__transformers_num': 'MinMaxScaler', 'lr_C': 55.1216600164295, 'lr_penalty': 'l1'}. Best is trial 3 with value: 0.8258741258741258.\u001b[0m\n",
      "\u001b[32m[I 2022-10-19 20:36:17,541]\u001b[0m Trial 4 finished with value: 0.8244755244755245 and parameters: {'columnprep__transformers_num': 'MinMaxScaler', 'lr_C': 428.64292427844214, 'lr_penalty': 'l1'}. Best is trial 3 with value: 0.8258741258741258.\u001b[0m\n",
      "\u001b[32m[I 2022-10-19 20:36:17,903]\u001b[0m Trial 5 finished with value: 0.8244755244755245 and parameters: {'columnprep__transformers_num': 'MinMaxScaler', 'lr_C': 292.7412888210899, 'lr_penalty': 'l1'}. Best is trial 3 with value: 0.8258741258741258.\u001b[0m\n",
      "\u001b[32m[I 2022-10-19 20:36:18,042]\u001b[0m Trial 6 finished with value: 0.8230769230769232 and parameters: {'columnprep__transformers_num': 'StandardScaler', 'lr_C': 142.9112010434355, 'lr_penalty': 'l1'}. Best is trial 3 with value: 0.8258741258741258.\u001b[0m\n",
      "\u001b[32m[I 2022-10-19 20:36:18,088]\u001b[0m Trial 7 finished with value: 0.8258741258741258 and parameters: {'columnprep__transformers_num': 'MinMaxScaler', 'lr_C': 1.6828927128587416, 'lr_penalty': 'l1'}. Best is trial 3 with value: 0.8258741258741258.\u001b[0m\n",
      "\u001b[32m[I 2022-10-19 20:36:18,110]\u001b[0m Trial 8 finished with value: 0.8230769230769232 and parameters: {'columnprep__transformers_num': 'StandardScaler', 'lr_C': 6.64176654795092, 'lr_penalty': 'l2'}. Best is trial 3 with value: 0.8258741258741258.\u001b[0m\n",
      "\u001b[32m[I 2022-10-19 20:36:18,428]\u001b[0m Trial 9 finished with value: 0.8237762237762238 and parameters: {'columnprep__transformers_num': 'StandardScaler', 'lr_C': 7.008866562052872, 'lr_penalty': 'l1'}. Best is trial 3 with value: 0.8258741258741258.\u001b[0m\n",
      "\u001b[32m[I 2022-10-19 20:36:18,686]\u001b[0m Trial 10 finished with value: 0.8244755244755245 and parameters: {'columnprep__transformers_num': 'MinMaxScaler', 'lr_C': 359.0802712313421, 'lr_penalty': 'l1'}. Best is trial 3 with value: 0.8258741258741258.\u001b[0m\n",
      "\u001b[32m[I 2022-10-19 20:36:18,735]\u001b[0m Trial 11 finished with value: 0.8251748251748252 and parameters: {'columnprep__transformers_num': 'StandardScaler', 'lr_C': 3.1127345586824204, 'lr_penalty': 'l1'}. Best is trial 3 with value: 0.8258741258741258.\u001b[0m\n",
      "\u001b[32m[I 2022-10-19 20:36:18,925]\u001b[0m Trial 12 finished with value: 0.8258741258741258 and parameters: {'columnprep__transformers_num': 'MinMaxScaler', 'lr_C': 18.688366335737733, 'lr_penalty': 'l1'}. Best is trial 3 with value: 0.8258741258741258.\u001b[0m\n",
      "\u001b[32m[I 2022-10-19 20:36:18,948]\u001b[0m Trial 13 finished with value: 0.8244755244755245 and parameters: {'columnprep__transformers_num': 'MinMaxScaler', 'lr_C': 25.984676810516177, 'lr_penalty': 'l2'}. Best is trial 3 with value: 0.8258741258741258.\u001b[0m\n",
      "\u001b[32m[I 2022-10-19 20:36:19,270]\u001b[0m Trial 14 finished with value: 0.8244755244755245 and parameters: {'columnprep__transformers_num': 'MinMaxScaler', 'lr_C': 1.179848237643741, 'lr_penalty': 'l1'}. Best is trial 3 with value: 0.8258741258741258.\u001b[0m\n",
      "\u001b[32m[I 2022-10-19 20:36:19,542]\u001b[0m Trial 15 finished with value: 0.820979020979021 and parameters: {'columnprep__transformers_num': 'MinMaxScaler', 'lr_C': 1.0253908929758246, 'lr_penalty': 'l1'}. Best is trial 3 with value: 0.8258741258741258.\u001b[0m\n",
      "\u001b[32m[I 2022-10-19 20:36:19,584]\u001b[0m Trial 16 finished with value: 0.820979020979021 and parameters: {'columnprep__transformers_num': 'MinMaxScaler', 'lr_C': 1.0343074052829127, 'lr_penalty': 'l1'}. Best is trial 3 with value: 0.8258741258741258.\u001b[0m\n",
      "\u001b[32m[I 2022-10-19 20:36:19,761]\u001b[0m Trial 17 finished with value: 0.8251748251748252 and parameters: {'columnprep__transformers_num': 'MinMaxScaler', 'lr_C': 1.6406221578251226, 'lr_penalty': 'l1'}. Best is trial 3 with value: 0.8258741258741258.\u001b[0m\n",
      "\u001b[32m[I 2022-10-19 20:36:19,779]\u001b[0m Trial 18 finished with value: 0.8216783216783219 and parameters: {'columnprep__transformers_num': 'MinMaxScaler', 'lr_C': 1.0574340195346985, 'lr_penalty': 'l1'}. Best is trial 3 with value: 0.8258741258741258.\u001b[0m\n",
      "\u001b[32m[I 2022-10-19 20:36:20,047]\u001b[0m Trial 19 finished with value: 0.8258741258741258 and parameters: {'columnprep__transformers_num': 'MinMaxScaler', 'lr_C': 11.35374693368457, 'lr_penalty': 'l1'}. Best is trial 3 with value: 0.8258741258741258.\u001b[0m\n",
      "\u001b[32m[I 2022-10-19 20:36:20,358]\u001b[0m Trial 20 finished with value: 0.8258741258741258 and parameters: {'columnprep__transformers_num': 'MinMaxScaler', 'lr_C': 12.186997624228347, 'lr_penalty': 'l1'}. Best is trial 3 with value: 0.8258741258741258.\u001b[0m\n",
      "\u001b[32m[I 2022-10-19 20:36:20,400]\u001b[0m Trial 21 finished with value: 0.8265734265734267 and parameters: {'columnprep__transformers_num': 'MinMaxScaler', 'lr_C': 10.961642774919605, 'lr_penalty': 'l2'}. Best is trial 21 with value: 0.8265734265734267.\u001b[0m\n",
      "\u001b[32m[I 2022-10-19 20:36:20,681]\u001b[0m Trial 22 finished with value: 0.8272727272727274 and parameters: {'columnprep__transformers_num': 'MinMaxScaler', 'lr_C': 9.088356192135588, 'lr_penalty': 'l2'}. Best is trial 22 with value: 0.8272727272727274.\u001b[0m\n",
      "\u001b[32m[I 2022-10-19 20:36:20,831]\u001b[0m Trial 23 finished with value: 0.8272727272727274 and parameters: {'columnprep__transformers_num': 'MinMaxScaler', 'lr_C': 10.051256113396994, 'lr_penalty': 'l2'}. Best is trial 22 with value: 0.8272727272727274.\u001b[0m\n",
      "\u001b[32m[I 2022-10-19 20:36:21,029]\u001b[0m Trial 24 finished with value: 0.8258741258741258 and parameters: {'columnprep__transformers_num': 'MinMaxScaler', 'lr_C': 21.183674477465036, 'lr_penalty': 'l1'}. Best is trial 22 with value: 0.8272727272727274.\u001b[0m\n",
      "\u001b[32m[I 2022-10-19 20:36:21,264]\u001b[0m Trial 25 finished with value: 0.8244755244755245 and parameters: {'columnprep__transformers_num': 'MinMaxScaler', 'lr_C': 31.188398998104564, 'lr_penalty': 'l2'}. Best is trial 22 with value: 0.8272727272727274.\u001b[0m\n",
      "\u001b[32m[I 2022-10-19 20:36:21,566]\u001b[0m Trial 26 finished with value: 0.8244755244755245 and parameters: {'columnprep__transformers_num': 'MinMaxScaler', 'lr_C': 28.881178454851526, 'lr_penalty': 'l2'}. Best is trial 22 with value: 0.8272727272727274.\u001b[0m\n",
      "\u001b[32m[I 2022-10-19 20:36:21,838]\u001b[0m Trial 27 finished with value: 0.8244755244755245 and parameters: {'columnprep__transformers_num': 'MinMaxScaler', 'lr_C': 39.752768856946844, 'lr_penalty': 'l2'}. Best is trial 22 with value: 0.8272727272727274.\u001b[0m\n",
      "\u001b[32m[I 2022-10-19 20:36:21,883]\u001b[0m Trial 28 finished with value: 0.8286713286713286 and parameters: {'columnprep__transformers_num': 'MinMaxScaler', 'lr_C': 5.064238669166936, 'lr_penalty': 'l2'}. Best is trial 28 with value: 0.8286713286713286.\u001b[0m\n",
      "\u001b[32m[I 2022-10-19 20:36:22,045]\u001b[0m Trial 29 finished with value: 0.827972027972028 and parameters: {'columnprep__transformers_num': 'MinMaxScaler', 'lr_C': 4.870185972189064, 'lr_penalty': 'l2'}. Best is trial 28 with value: 0.8286713286713286.\u001b[0m\n",
      "\u001b[32m[I 2022-10-19 20:36:22,254]\u001b[0m Trial 30 finished with value: 0.8286713286713286 and parameters: {'columnprep__transformers_num': 'MinMaxScaler', 'lr_C': 4.45522815975266, 'lr_penalty': 'l2'}. Best is trial 28 with value: 0.8286713286713286.\u001b[0m\n",
      "\u001b[32m[I 2022-10-19 20:36:22,581]\u001b[0m Trial 31 finished with value: 0.8286713286713286 and parameters: {'columnprep__transformers_num': 'MinMaxScaler', 'lr_C': 4.470450581013838, 'lr_penalty': 'l2'}. Best is trial 28 with value: 0.8286713286713286.\u001b[0m\n",
      "\u001b[32m[I 2022-10-19 20:36:22,758]\u001b[0m Trial 32 finished with value: 0.8251748251748252 and parameters: {'columnprep__transformers_num': 'StandardScaler', 'lr_C': 3.607365701562912, 'lr_penalty': 'l2'}. Best is trial 28 with value: 0.8286713286713286.\u001b[0m\n",
      "\u001b[32m[I 2022-10-19 20:36:22,821]\u001b[0m Trial 33 finished with value: 0.8251748251748252 and parameters: {'columnprep__transformers_num': 'StandardScaler', 'lr_C': 3.757459075180034, 'lr_penalty': 'l2'}. Best is trial 28 with value: 0.8286713286713286.\u001b[0m\n",
      "\u001b[32m[I 2022-10-19 20:36:22,976]\u001b[0m Trial 34 finished with value: 0.8286713286713286 and parameters: {'columnprep__transformers_num': 'MinMaxScaler', 'lr_C': 3.756329119107764, 'lr_penalty': 'l2'}. Best is trial 28 with value: 0.8286713286713286.\u001b[0m\n",
      "\u001b[32m[I 2022-10-19 20:36:23,141]\u001b[0m Trial 35 finished with value: 0.8293706293706293 and parameters: {'columnprep__transformers_num': 'MinMaxScaler', 'lr_C': 3.5558573518232306, 'lr_penalty': 'l2'}. Best is trial 35 with value: 0.8293706293706293.\u001b[0m\n",
      "\u001b[32m[I 2022-10-19 20:36:23,456]\u001b[0m Trial 36 finished with value: 0.8286713286713286 and parameters: {'columnprep__transformers_num': 'MinMaxScaler', 'lr_C': 4.5335451686263495, 'lr_penalty': 'l2'}. Best is trial 35 with value: 0.8293706293706293.\u001b[0m\n",
      "\u001b[32m[I 2022-10-19 20:36:23,613]\u001b[0m Trial 37 finished with value: 0.8286713286713286 and parameters: {'columnprep__transformers_num': 'MinMaxScaler', 'lr_C': 4.683466493787164, 'lr_penalty': 'l2'}. Best is trial 35 with value: 0.8293706293706293.\u001b[0m\n",
      "\u001b[32m[I 2022-10-19 20:36:23,686]\u001b[0m Trial 38 finished with value: 0.827972027972028 and parameters: {'columnprep__transformers_num': 'MinMaxScaler', 'lr_C': 4.847186150046907, 'lr_penalty': 'l2'}. Best is trial 35 with value: 0.8293706293706293.\u001b[0m\n",
      "\u001b[32m[I 2022-10-19 20:36:23,823]\u001b[0m Trial 39 finished with value: 0.8293706293706293 and parameters: {'columnprep__transformers_num': 'MinMaxScaler', 'lr_C': 2.276812968518514, 'lr_penalty': 'l2'}. Best is trial 35 with value: 0.8293706293706293.\u001b[0m\n",
      "\u001b[32m[I 2022-10-19 20:36:23,963]\u001b[0m Trial 40 finished with value: 0.8293706293706293 and parameters: {'columnprep__transformers_num': 'MinMaxScaler', 'lr_C': 2.2104387312839946, 'lr_penalty': 'l2'}. Best is trial 35 with value: 0.8293706293706293.\u001b[0m\n",
      "\u001b[32m[I 2022-10-19 20:36:24,113]\u001b[0m Trial 41 finished with value: 0.8293706293706293 and parameters: {'columnprep__transformers_num': 'MinMaxScaler', 'lr_C': 2.304067739445732, 'lr_penalty': 'l2'}. Best is trial 35 with value: 0.8293706293706293.\u001b[0m\n",
      "\u001b[32m[I 2022-10-19 20:36:24,300]\u001b[0m Trial 42 finished with value: 0.8293706293706293 and parameters: {'columnprep__transformers_num': 'MinMaxScaler', 'lr_C': 2.012912161781607, 'lr_penalty': 'l2'}. Best is trial 35 with value: 0.8293706293706293.\u001b[0m\n",
      "\u001b[32m[I 2022-10-19 20:36:24,465]\u001b[0m Trial 43 finished with value: 0.8244755244755245 and parameters: {'columnprep__transformers_num': 'StandardScaler', 'lr_C': 2.1667017768517614, 'lr_penalty': 'l2'}. Best is trial 35 with value: 0.8293706293706293.\u001b[0m\n",
      "\u001b[32m[I 2022-10-19 20:36:24,588]\u001b[0m Trial 44 finished with value: 0.8293706293706293 and parameters: {'columnprep__transformers_num': 'MinMaxScaler', 'lr_C': 2.155712336274051, 'lr_penalty': 'l2'}. Best is trial 35 with value: 0.8293706293706293.\u001b[0m\n",
      "\u001b[32m[I 2022-10-19 20:36:24,752]\u001b[0m Trial 45 finished with value: 0.8293706293706293 and parameters: {'columnprep__transformers_num': 'MinMaxScaler', 'lr_C': 2.0290228218974398, 'lr_penalty': 'l2'}. Best is trial 35 with value: 0.8293706293706293.\u001b[0m\n",
      "\u001b[32m[I 2022-10-19 20:36:24,905]\u001b[0m Trial 46 finished with value: 0.8244755244755245 and parameters: {'columnprep__transformers_num': 'StandardScaler', 'lr_C': 2.1793544398951195, 'lr_penalty': 'l2'}. Best is trial 35 with value: 0.8293706293706293.\u001b[0m\n",
      "\u001b[32m[I 2022-10-19 20:36:25,001]\u001b[0m Trial 47 finished with value: 0.8293706293706293 and parameters: {'columnprep__transformers_num': 'MinMaxScaler', 'lr_C': 2.4520255663807187, 'lr_penalty': 'l2'}. Best is trial 35 with value: 0.8293706293706293.\u001b[0m\n",
      "\u001b[32m[I 2022-10-19 20:36:25,083]\u001b[0m Trial 48 finished with value: 0.8293706293706293 and parameters: {'columnprep__transformers_num': 'MinMaxScaler', 'lr_C': 2.2945351871280457, 'lr_penalty': 'l2'}. Best is trial 35 with value: 0.8293706293706293.\u001b[0m\n",
      "\u001b[32m[I 2022-10-19 20:36:25,105]\u001b[0m Trial 49 finished with value: 0.8293706293706293 and parameters: {'columnprep__transformers_num': 'MinMaxScaler', 'lr_C': 2.337970457229687, 'lr_penalty': 'l2'}. Best is trial 35 with value: 0.8293706293706293.\u001b[0m\n"
     ]
    },
    {
     "name": "stdout",
     "output_type": "stream",
     "text": [
      "Best trial:\n",
      "0.8293706293706293\n",
      "{'columnprep__transformers_num': 'MinMaxScaler', 'lr_C': 3.5558573518232306, 'lr_penalty': 'l2'}\n"
     ]
    },
    {
     "data": {
      "application/vnd.plotly.v1+json": {
       "config": {
        "plotlyServerURL": "https://plot.ly"
       },
       "data": [
        {
         "mode": "markers",
         "name": "Objective Value",
         "type": "scatter",
         "x": [
          0,
          1,
          2,
          3,
          4,
          5,
          6,
          7,
          8,
          9,
          10,
          11,
          12,
          13,
          14,
          15,
          16,
          17,
          18,
          19,
          20,
          21,
          22,
          23,
          24,
          25,
          26,
          27,
          28,
          29,
          30,
          31,
          32,
          33,
          34,
          35,
          36,
          37,
          38,
          39,
          40,
          41,
          42,
          43,
          44,
          45,
          46,
          47,
          48,
          49
         ],
         "y": [
          0.8244755244755245,
          0.8244755244755245,
          0.8244755244755245,
          0.8258741258741258,
          0.8244755244755245,
          0.8244755244755245,
          0.8230769230769232,
          0.8258741258741258,
          0.8230769230769232,
          0.8237762237762238,
          0.8244755244755245,
          0.8251748251748252,
          0.8258741258741258,
          0.8244755244755245,
          0.8244755244755245,
          0.820979020979021,
          0.820979020979021,
          0.8251748251748252,
          0.8216783216783219,
          0.8258741258741258,
          0.8258741258741258,
          0.8265734265734267,
          0.8272727272727274,
          0.8272727272727274,
          0.8258741258741258,
          0.8244755244755245,
          0.8244755244755245,
          0.8244755244755245,
          0.8286713286713286,
          0.827972027972028,
          0.8286713286713286,
          0.8286713286713286,
          0.8251748251748252,
          0.8251748251748252,
          0.8286713286713286,
          0.8293706293706293,
          0.8286713286713286,
          0.8286713286713286,
          0.827972027972028,
          0.8293706293706293,
          0.8293706293706293,
          0.8293706293706293,
          0.8293706293706293,
          0.8244755244755245,
          0.8293706293706293,
          0.8293706293706293,
          0.8244755244755245,
          0.8293706293706293,
          0.8293706293706293,
          0.8293706293706293
         ]
        },
        {
         "name": "Best Value",
         "type": "scatter",
         "x": [
          0,
          1,
          2,
          3,
          4,
          5,
          6,
          7,
          8,
          9,
          10,
          11,
          12,
          13,
          14,
          15,
          16,
          17,
          18,
          19,
          20,
          21,
          22,
          23,
          24,
          25,
          26,
          27,
          28,
          29,
          30,
          31,
          32,
          33,
          34,
          35,
          36,
          37,
          38,
          39,
          40,
          41,
          42,
          43,
          44,
          45,
          46,
          47,
          48,
          49
         ],
         "y": [
          0.8244755244755245,
          0.8244755244755245,
          0.8244755244755245,
          0.8258741258741258,
          0.8258741258741258,
          0.8258741258741258,
          0.8258741258741258,
          0.8258741258741258,
          0.8258741258741258,
          0.8258741258741258,
          0.8258741258741258,
          0.8258741258741258,
          0.8258741258741258,
          0.8258741258741258,
          0.8258741258741258,
          0.8258741258741258,
          0.8258741258741258,
          0.8258741258741258,
          0.8258741258741258,
          0.8258741258741258,
          0.8258741258741258,
          0.8265734265734267,
          0.8272727272727274,
          0.8272727272727274,
          0.8272727272727274,
          0.8272727272727274,
          0.8272727272727274,
          0.8272727272727274,
          0.8286713286713286,
          0.8286713286713286,
          0.8286713286713286,
          0.8286713286713286,
          0.8286713286713286,
          0.8286713286713286,
          0.8286713286713286,
          0.8293706293706293,
          0.8293706293706293,
          0.8293706293706293,
          0.8293706293706293,
          0.8293706293706293,
          0.8293706293706293,
          0.8293706293706293,
          0.8293706293706293,
          0.8293706293706293,
          0.8293706293706293,
          0.8293706293706293,
          0.8293706293706293,
          0.8293706293706293,
          0.8293706293706293,
          0.8293706293706293
         ]
        }
       ],
       "layout": {
        "template": {
         "data": {
          "bar": [
           {
            "error_x": {
             "color": "#2a3f5f"
            },
            "error_y": {
             "color": "#2a3f5f"
            },
            "marker": {
             "line": {
              "color": "#E5ECF6",
              "width": 0.5
             },
             "pattern": {
              "fillmode": "overlay",
              "size": 10,
              "solidity": 0.2
             }
            },
            "type": "bar"
           }
          ],
          "barpolar": [
           {
            "marker": {
             "line": {
              "color": "#E5ECF6",
              "width": 0.5
             },
             "pattern": {
              "fillmode": "overlay",
              "size": 10,
              "solidity": 0.2
             }
            },
            "type": "barpolar"
           }
          ],
          "carpet": [
           {
            "aaxis": {
             "endlinecolor": "#2a3f5f",
             "gridcolor": "white",
             "linecolor": "white",
             "minorgridcolor": "white",
             "startlinecolor": "#2a3f5f"
            },
            "baxis": {
             "endlinecolor": "#2a3f5f",
             "gridcolor": "white",
             "linecolor": "white",
             "minorgridcolor": "white",
             "startlinecolor": "#2a3f5f"
            },
            "type": "carpet"
           }
          ],
          "choropleth": [
           {
            "colorbar": {
             "outlinewidth": 0,
             "ticks": ""
            },
            "type": "choropleth"
           }
          ],
          "contour": [
           {
            "colorbar": {
             "outlinewidth": 0,
             "ticks": ""
            },
            "colorscale": [
             [
              0,
              "#0d0887"
             ],
             [
              0.1111111111111111,
              "#46039f"
             ],
             [
              0.2222222222222222,
              "#7201a8"
             ],
             [
              0.3333333333333333,
              "#9c179e"
             ],
             [
              0.4444444444444444,
              "#bd3786"
             ],
             [
              0.5555555555555556,
              "#d8576b"
             ],
             [
              0.6666666666666666,
              "#ed7953"
             ],
             [
              0.7777777777777778,
              "#fb9f3a"
             ],
             [
              0.8888888888888888,
              "#fdca26"
             ],
             [
              1,
              "#f0f921"
             ]
            ],
            "type": "contour"
           }
          ],
          "contourcarpet": [
           {
            "colorbar": {
             "outlinewidth": 0,
             "ticks": ""
            },
            "type": "contourcarpet"
           }
          ],
          "heatmap": [
           {
            "colorbar": {
             "outlinewidth": 0,
             "ticks": ""
            },
            "colorscale": [
             [
              0,
              "#0d0887"
             ],
             [
              0.1111111111111111,
              "#46039f"
             ],
             [
              0.2222222222222222,
              "#7201a8"
             ],
             [
              0.3333333333333333,
              "#9c179e"
             ],
             [
              0.4444444444444444,
              "#bd3786"
             ],
             [
              0.5555555555555556,
              "#d8576b"
             ],
             [
              0.6666666666666666,
              "#ed7953"
             ],
             [
              0.7777777777777778,
              "#fb9f3a"
             ],
             [
              0.8888888888888888,
              "#fdca26"
             ],
             [
              1,
              "#f0f921"
             ]
            ],
            "type": "heatmap"
           }
          ],
          "heatmapgl": [
           {
            "colorbar": {
             "outlinewidth": 0,
             "ticks": ""
            },
            "colorscale": [
             [
              0,
              "#0d0887"
             ],
             [
              0.1111111111111111,
              "#46039f"
             ],
             [
              0.2222222222222222,
              "#7201a8"
             ],
             [
              0.3333333333333333,
              "#9c179e"
             ],
             [
              0.4444444444444444,
              "#bd3786"
             ],
             [
              0.5555555555555556,
              "#d8576b"
             ],
             [
              0.6666666666666666,
              "#ed7953"
             ],
             [
              0.7777777777777778,
              "#fb9f3a"
             ],
             [
              0.8888888888888888,
              "#fdca26"
             ],
             [
              1,
              "#f0f921"
             ]
            ],
            "type": "heatmapgl"
           }
          ],
          "histogram": [
           {
            "marker": {
             "pattern": {
              "fillmode": "overlay",
              "size": 10,
              "solidity": 0.2
             }
            },
            "type": "histogram"
           }
          ],
          "histogram2d": [
           {
            "colorbar": {
             "outlinewidth": 0,
             "ticks": ""
            },
            "colorscale": [
             [
              0,
              "#0d0887"
             ],
             [
              0.1111111111111111,
              "#46039f"
             ],
             [
              0.2222222222222222,
              "#7201a8"
             ],
             [
              0.3333333333333333,
              "#9c179e"
             ],
             [
              0.4444444444444444,
              "#bd3786"
             ],
             [
              0.5555555555555556,
              "#d8576b"
             ],
             [
              0.6666666666666666,
              "#ed7953"
             ],
             [
              0.7777777777777778,
              "#fb9f3a"
             ],
             [
              0.8888888888888888,
              "#fdca26"
             ],
             [
              1,
              "#f0f921"
             ]
            ],
            "type": "histogram2d"
           }
          ],
          "histogram2dcontour": [
           {
            "colorbar": {
             "outlinewidth": 0,
             "ticks": ""
            },
            "colorscale": [
             [
              0,
              "#0d0887"
             ],
             [
              0.1111111111111111,
              "#46039f"
             ],
             [
              0.2222222222222222,
              "#7201a8"
             ],
             [
              0.3333333333333333,
              "#9c179e"
             ],
             [
              0.4444444444444444,
              "#bd3786"
             ],
             [
              0.5555555555555556,
              "#d8576b"
             ],
             [
              0.6666666666666666,
              "#ed7953"
             ],
             [
              0.7777777777777778,
              "#fb9f3a"
             ],
             [
              0.8888888888888888,
              "#fdca26"
             ],
             [
              1,
              "#f0f921"
             ]
            ],
            "type": "histogram2dcontour"
           }
          ],
          "mesh3d": [
           {
            "colorbar": {
             "outlinewidth": 0,
             "ticks": ""
            },
            "type": "mesh3d"
           }
          ],
          "parcoords": [
           {
            "line": {
             "colorbar": {
              "outlinewidth": 0,
              "ticks": ""
             }
            },
            "type": "parcoords"
           }
          ],
          "pie": [
           {
            "automargin": true,
            "type": "pie"
           }
          ],
          "scatter": [
           {
            "fillpattern": {
             "fillmode": "overlay",
             "size": 10,
             "solidity": 0.2
            },
            "type": "scatter"
           }
          ],
          "scatter3d": [
           {
            "line": {
             "colorbar": {
              "outlinewidth": 0,
              "ticks": ""
             }
            },
            "marker": {
             "colorbar": {
              "outlinewidth": 0,
              "ticks": ""
             }
            },
            "type": "scatter3d"
           }
          ],
          "scattercarpet": [
           {
            "marker": {
             "colorbar": {
              "outlinewidth": 0,
              "ticks": ""
             }
            },
            "type": "scattercarpet"
           }
          ],
          "scattergeo": [
           {
            "marker": {
             "colorbar": {
              "outlinewidth": 0,
              "ticks": ""
             }
            },
            "type": "scattergeo"
           }
          ],
          "scattergl": [
           {
            "marker": {
             "colorbar": {
              "outlinewidth": 0,
              "ticks": ""
             }
            },
            "type": "scattergl"
           }
          ],
          "scattermapbox": [
           {
            "marker": {
             "colorbar": {
              "outlinewidth": 0,
              "ticks": ""
             }
            },
            "type": "scattermapbox"
           }
          ],
          "scatterpolar": [
           {
            "marker": {
             "colorbar": {
              "outlinewidth": 0,
              "ticks": ""
             }
            },
            "type": "scatterpolar"
           }
          ],
          "scatterpolargl": [
           {
            "marker": {
             "colorbar": {
              "outlinewidth": 0,
              "ticks": ""
             }
            },
            "type": "scatterpolargl"
           }
          ],
          "scatterternary": [
           {
            "marker": {
             "colorbar": {
              "outlinewidth": 0,
              "ticks": ""
             }
            },
            "type": "scatterternary"
           }
          ],
          "surface": [
           {
            "colorbar": {
             "outlinewidth": 0,
             "ticks": ""
            },
            "colorscale": [
             [
              0,
              "#0d0887"
             ],
             [
              0.1111111111111111,
              "#46039f"
             ],
             [
              0.2222222222222222,
              "#7201a8"
             ],
             [
              0.3333333333333333,
              "#9c179e"
             ],
             [
              0.4444444444444444,
              "#bd3786"
             ],
             [
              0.5555555555555556,
              "#d8576b"
             ],
             [
              0.6666666666666666,
              "#ed7953"
             ],
             [
              0.7777777777777778,
              "#fb9f3a"
             ],
             [
              0.8888888888888888,
              "#fdca26"
             ],
             [
              1,
              "#f0f921"
             ]
            ],
            "type": "surface"
           }
          ],
          "table": [
           {
            "cells": {
             "fill": {
              "color": "#EBF0F8"
             },
             "line": {
              "color": "white"
             }
            },
            "header": {
             "fill": {
              "color": "#C8D4E3"
             },
             "line": {
              "color": "white"
             }
            },
            "type": "table"
           }
          ]
         },
         "layout": {
          "annotationdefaults": {
           "arrowcolor": "#2a3f5f",
           "arrowhead": 0,
           "arrowwidth": 1
          },
          "autotypenumbers": "strict",
          "coloraxis": {
           "colorbar": {
            "outlinewidth": 0,
            "ticks": ""
           }
          },
          "colorscale": {
           "diverging": [
            [
             0,
             "#8e0152"
            ],
            [
             0.1,
             "#c51b7d"
            ],
            [
             0.2,
             "#de77ae"
            ],
            [
             0.3,
             "#f1b6da"
            ],
            [
             0.4,
             "#fde0ef"
            ],
            [
             0.5,
             "#f7f7f7"
            ],
            [
             0.6,
             "#e6f5d0"
            ],
            [
             0.7,
             "#b8e186"
            ],
            [
             0.8,
             "#7fbc41"
            ],
            [
             0.9,
             "#4d9221"
            ],
            [
             1,
             "#276419"
            ]
           ],
           "sequential": [
            [
             0,
             "#0d0887"
            ],
            [
             0.1111111111111111,
             "#46039f"
            ],
            [
             0.2222222222222222,
             "#7201a8"
            ],
            [
             0.3333333333333333,
             "#9c179e"
            ],
            [
             0.4444444444444444,
             "#bd3786"
            ],
            [
             0.5555555555555556,
             "#d8576b"
            ],
            [
             0.6666666666666666,
             "#ed7953"
            ],
            [
             0.7777777777777778,
             "#fb9f3a"
            ],
            [
             0.8888888888888888,
             "#fdca26"
            ],
            [
             1,
             "#f0f921"
            ]
           ],
           "sequentialminus": [
            [
             0,
             "#0d0887"
            ],
            [
             0.1111111111111111,
             "#46039f"
            ],
            [
             0.2222222222222222,
             "#7201a8"
            ],
            [
             0.3333333333333333,
             "#9c179e"
            ],
            [
             0.4444444444444444,
             "#bd3786"
            ],
            [
             0.5555555555555556,
             "#d8576b"
            ],
            [
             0.6666666666666666,
             "#ed7953"
            ],
            [
             0.7777777777777778,
             "#fb9f3a"
            ],
            [
             0.8888888888888888,
             "#fdca26"
            ],
            [
             1,
             "#f0f921"
            ]
           ]
          },
          "colorway": [
           "#636efa",
           "#EF553B",
           "#00cc96",
           "#ab63fa",
           "#FFA15A",
           "#19d3f3",
           "#FF6692",
           "#B6E880",
           "#FF97FF",
           "#FECB52"
          ],
          "font": {
           "color": "#2a3f5f"
          },
          "geo": {
           "bgcolor": "white",
           "lakecolor": "white",
           "landcolor": "#E5ECF6",
           "showlakes": true,
           "showland": true,
           "subunitcolor": "white"
          },
          "hoverlabel": {
           "align": "left"
          },
          "hovermode": "closest",
          "mapbox": {
           "style": "light"
          },
          "paper_bgcolor": "white",
          "plot_bgcolor": "#E5ECF6",
          "polar": {
           "angularaxis": {
            "gridcolor": "white",
            "linecolor": "white",
            "ticks": ""
           },
           "bgcolor": "#E5ECF6",
           "radialaxis": {
            "gridcolor": "white",
            "linecolor": "white",
            "ticks": ""
           }
          },
          "scene": {
           "xaxis": {
            "backgroundcolor": "#E5ECF6",
            "gridcolor": "white",
            "gridwidth": 2,
            "linecolor": "white",
            "showbackground": true,
            "ticks": "",
            "zerolinecolor": "white"
           },
           "yaxis": {
            "backgroundcolor": "#E5ECF6",
            "gridcolor": "white",
            "gridwidth": 2,
            "linecolor": "white",
            "showbackground": true,
            "ticks": "",
            "zerolinecolor": "white"
           },
           "zaxis": {
            "backgroundcolor": "#E5ECF6",
            "gridcolor": "white",
            "gridwidth": 2,
            "linecolor": "white",
            "showbackground": true,
            "ticks": "",
            "zerolinecolor": "white"
           }
          },
          "shapedefaults": {
           "line": {
            "color": "#2a3f5f"
           }
          },
          "ternary": {
           "aaxis": {
            "gridcolor": "white",
            "linecolor": "white",
            "ticks": ""
           },
           "baxis": {
            "gridcolor": "white",
            "linecolor": "white",
            "ticks": ""
           },
           "bgcolor": "#E5ECF6",
           "caxis": {
            "gridcolor": "white",
            "linecolor": "white",
            "ticks": ""
           }
          },
          "title": {
           "x": 0.05
          },
          "xaxis": {
           "automargin": true,
           "gridcolor": "white",
           "linecolor": "white",
           "ticks": "",
           "title": {
            "standoff": 15
           },
           "zerolinecolor": "white",
           "zerolinewidth": 2
          },
          "yaxis": {
           "automargin": true,
           "gridcolor": "white",
           "linecolor": "white",
           "ticks": "",
           "title": {
            "standoff": 15
           },
           "zerolinecolor": "white",
           "zerolinewidth": 2
          }
         }
        },
        "title": {
         "text": "Optimization History Plot"
        },
        "xaxis": {
         "title": {
          "text": "#Trials"
         }
        },
        "yaxis": {
         "title": {
          "text": "Objective Value"
         }
        }
       }
      }
     },
     "metadata": {},
     "output_type": "display_data"
    }
   ],
   "source": [
    "study_lr = create_new_mlrun(model_type='logistic-regression')\n",
    "optuna.visualization.plot_optimization_history(study_lr)"
   ]
  },
  {
   "cell_type": "code",
   "execution_count": 11,
   "metadata": {},
   "outputs": [
    {
     "name": "stderr",
     "output_type": "stream",
     "text": [
      "\u001b[32m[I 2022-10-19 20:36:29,984]\u001b[0m A new study created in memory with name: no-name-0d5b980a-f66c-43a5-929b-e21558dbde11\u001b[0m\n",
      "\u001b[32m[I 2022-10-19 20:36:30,340]\u001b[0m Trial 1 finished with value: 0.6685314685314685 and parameters: {'columnprep__transformers_num': 'StandardScaler', 'svm_kernel': 'sigmoid', 'svm_C': 71.55526942442215, 'svm_degree': 4.0}. Best is trial 1 with value: 0.6685314685314685.\u001b[0m\n",
      "\u001b[32m[I 2022-10-19 20:36:32,613]\u001b[0m Trial 3 finished with value: 0.7909090909090909 and parameters: {'columnprep__transformers_num': 'StandardScaler', 'svm_kernel': 'rbf', 'svm_C': 33.35709610622676, 'svm_degree': 2.0}. Best is trial 3 with value: 0.7909090909090909.\u001b[0m\n",
      "\u001b[32m[I 2022-10-19 20:36:32,696]\u001b[0m Trial 0 finished with value: 0.806993006993007 and parameters: {'columnprep__transformers_num': 'StandardScaler', 'svm_kernel': 'rbf', 'svm_C': 19.478800324737588, 'svm_degree': 1.0}. Best is trial 0 with value: 0.806993006993007.\u001b[0m\n",
      "\u001b[32m[I 2022-10-19 20:36:32,876]\u001b[0m Trial 4 finished with value: 0.7020979020979021 and parameters: {'columnprep__transformers_num': 'StandardScaler', 'svm_kernel': 'sigmoid', 'svm_C': 1.380688204628394, 'svm_degree': 3.0}. Best is trial 0 with value: 0.806993006993007.\u001b[0m\n",
      "\u001b[32m[I 2022-10-19 20:36:33,203]\u001b[0m Trial 2 finished with value: 0.7797202797202797 and parameters: {'columnprep__transformers_num': 'MinMaxScaler', 'svm_kernel': 'poly', 'svm_C': 160.51635323333858, 'svm_degree': 3.0}. Best is trial 0 with value: 0.806993006993007.\u001b[0m\n",
      "\u001b[32m[I 2022-10-19 20:36:34,051]\u001b[0m Trial 6 finished with value: 0.818881118881119 and parameters: {'columnprep__transformers_num': 'StandardScaler', 'svm_kernel': 'poly', 'svm_C': 30.338660681056624, 'svm_degree': 1.0}. Best is trial 6 with value: 0.818881118881119.\u001b[0m\n",
      "\u001b[32m[I 2022-10-19 20:36:34,412]\u001b[0m Trial 5 finished with value: 0.8174825174825175 and parameters: {'columnprep__transformers_num': 'StandardScaler', 'svm_kernel': 'poly', 'svm_C': 4.238217011618188, 'svm_degree': 1.0}. Best is trial 6 with value: 0.818881118881119.\u001b[0m\n",
      "\u001b[32m[I 2022-10-19 20:36:34,468]\u001b[0m Trial 7 finished with value: 0.7027972027972029 and parameters: {'columnprep__transformers_num': 'MinMaxScaler', 'svm_kernel': 'sigmoid', 'svm_C': 2.6991409015446677, 'svm_degree': 4.0}. Best is trial 6 with value: 0.818881118881119.\u001b[0m\n",
      "\u001b[32m[I 2022-10-19 20:36:34,576]\u001b[0m Trial 8 finished with value: 0.818881118881119 and parameters: {'columnprep__transformers_num': 'MinMaxScaler', 'svm_kernel': 'linear', 'svm_C': 31.93145533779684, 'svm_degree': 2.0}. Best is trial 6 with value: 0.818881118881119.\u001b[0m\n",
      "\u001b[32m[I 2022-10-19 20:36:34,975]\u001b[0m Trial 9 finished with value: 0.7020979020979021 and parameters: {'columnprep__transformers_num': 'StandardScaler', 'svm_kernel': 'sigmoid', 'svm_C': 1.4357502108999853, 'svm_degree': 1.0}. Best is trial 6 with value: 0.818881118881119.\u001b[0m\n",
      "\u001b[32m[I 2022-10-19 20:36:35,333]\u001b[0m Trial 11 finished with value: 0.8237762237762238 and parameters: {'columnprep__transformers_num': 'MinMaxScaler', 'svm_kernel': 'rbf', 'svm_C': 3.690425343587184, 'svm_degree': 3.0}. Best is trial 11 with value: 0.8237762237762238.\u001b[0m\n",
      "\u001b[32m[I 2022-10-19 20:36:35,385]\u001b[0m Trial 10 finished with value: 0.6776223776223776 and parameters: {'columnprep__transformers_num': 'StandardScaler', 'svm_kernel': 'sigmoid', 'svm_C': 5.8177820385168095, 'svm_degree': 3.0}. Best is trial 11 with value: 0.8237762237762238.\u001b[0m\n",
      "\u001b[32m[I 2022-10-19 20:36:37,974]\u001b[0m Trial 12 finished with value: 0.8293706293706293 and parameters: {'columnprep__transformers_num': 'MinMaxScaler', 'svm_kernel': 'poly', 'svm_C': 1.2728407830180704, 'svm_degree': 2.0}. Best is trial 12 with value: 0.8293706293706293.\u001b[0m\n",
      "\u001b[32m[I 2022-10-19 20:36:40,050]\u001b[0m Trial 14 finished with value: 0.7881118881118881 and parameters: {'columnprep__transformers_num': 'MinMaxScaler', 'svm_kernel': 'poly', 'svm_C': 8.179941421380176, 'svm_degree': 5.0}. Best is trial 12 with value: 0.8293706293706293.\u001b[0m\n",
      "\u001b[32m[I 2022-10-19 20:36:40,257]\u001b[0m Trial 15 finished with value: 0.7867132867132868 and parameters: {'columnprep__transformers_num': 'MinMaxScaler', 'svm_kernel': 'poly', 'svm_C': 9.689293148239438, 'svm_degree': 5.0}. Best is trial 12 with value: 0.8293706293706293.\u001b[0m\n",
      "\u001b[32m[I 2022-10-19 20:36:40,412]\u001b[0m Trial 16 finished with value: 0.8174825174825175 and parameters: {'columnprep__transformers_num': 'MinMaxScaler', 'svm_kernel': 'rbf', 'svm_C': 9.581424268313523, 'svm_degree': 5.0}. Best is trial 12 with value: 0.8293706293706293.\u001b[0m\n",
      "\u001b[32m[I 2022-10-19 20:36:41,471]\u001b[0m Trial 17 finished with value: 0.8258741258741258 and parameters: {'columnprep__transformers_num': 'MinMaxScaler', 'svm_kernel': 'rbf', 'svm_C': 1.0504415833479104, 'svm_degree': 2.0}. Best is trial 12 with value: 0.8293706293706293.\u001b[0m\n",
      "\u001b[32m[I 2022-10-19 20:36:41,546]\u001b[0m Trial 19 finished with value: 0.818881118881119 and parameters: {'columnprep__transformers_num': 'MinMaxScaler', 'svm_kernel': 'linear', 'svm_C': 2.463539963354774, 'svm_degree': 2.0}. Best is trial 12 with value: 0.8293706293706293.\u001b[0m\n",
      "\u001b[32m[I 2022-10-19 20:36:41,575]\u001b[0m Trial 18 finished with value: 0.8237762237762238 and parameters: {'columnprep__transformers_num': 'MinMaxScaler', 'svm_kernel': 'rbf', 'svm_C': 2.359913389646134, 'svm_degree': 2.0}. Best is trial 12 with value: 0.8293706293706293.\u001b[0m\n",
      "\u001b[32m[I 2022-10-19 20:36:41,885]\u001b[0m Trial 20 finished with value: 0.818881118881119 and parameters: {'columnprep__transformers_num': 'MinMaxScaler', 'svm_kernel': 'linear', 'svm_C': 1.1277431258751798, 'svm_degree': 2.0}. Best is trial 12 with value: 0.8293706293706293.\u001b[0m\n",
      "\u001b[32m[I 2022-10-19 20:36:42,104]\u001b[0m Trial 13 finished with value: 0.7685314685314686 and parameters: {'columnprep__transformers_num': 'MinMaxScaler', 'svm_kernel': 'poly', 'svm_C': 319.58708753928954, 'svm_degree': 5.0}. Best is trial 12 with value: 0.8293706293706293.\u001b[0m\n",
      "\u001b[32m[I 2022-10-19 20:38:38,530]\u001b[0m Trial 22 finished with value: 0.818881118881119 and parameters: {'columnprep__transformers_num': 'MinMaxScaler', 'svm_kernel': 'linear', 'svm_C': 1.0316975217046462, 'svm_degree': 2.0}. Best is trial 12 with value: 0.8293706293706293.\u001b[0m\n",
      "\u001b[32m[I 2022-10-19 20:38:54,737]\u001b[0m Trial 23 finished with value: 0.7790209790209791 and parameters: {'columnprep__transformers_num': 'MinMaxScaler', 'svm_kernel': 'poly', 'svm_C': 165.4960140301411, 'svm_degree': 4.0}. Best is trial 12 with value: 0.8293706293706293.\u001b[0m\n",
      "\u001b[32m[I 2022-10-19 20:38:54,982]\u001b[0m Trial 24 finished with value: 0.8258741258741258 and parameters: {'columnprep__transformers_num': 'MinMaxScaler', 'svm_kernel': 'rbf', 'svm_C': 1.047296309757262, 'svm_degree': 2.0}. Best is trial 12 with value: 0.8293706293706293.\u001b[0m\n",
      "\u001b[32m[I 2022-10-19 20:38:55,190]\u001b[0m Trial 25 finished with value: 0.8293706293706293 and parameters: {'columnprep__transformers_num': 'MinMaxScaler', 'svm_kernel': 'rbf', 'svm_C': 2.0703281776662212, 'svm_degree': 2.0}. Best is trial 12 with value: 0.8293706293706293.\u001b[0m\n",
      "\u001b[32m[I 2022-10-19 20:38:57,969]\u001b[0m Trial 26 finished with value: 0.820979020979021 and parameters: {'columnprep__transformers_num': 'MinMaxScaler', 'svm_kernel': 'rbf', 'svm_C': 4.328139334414109, 'svm_degree': 3.0}. Best is trial 12 with value: 0.8293706293706293.\u001b[0m\n",
      "\u001b[32m[I 2022-10-19 20:38:58,235]\u001b[0m Trial 27 finished with value: 0.8293706293706293 and parameters: {'columnprep__transformers_num': 'MinMaxScaler', 'svm_kernel': 'rbf', 'svm_C': 2.08999108245039, 'svm_degree': 2.0}. Best is trial 12 with value: 0.8293706293706293.\u001b[0m\n",
      "\u001b[32m[I 2022-10-19 20:38:58,490]\u001b[0m Trial 28 finished with value: 0.8307692307692308 and parameters: {'columnprep__transformers_num': 'MinMaxScaler', 'svm_kernel': 'rbf', 'svm_C': 1.9756400270883048, 'svm_degree': 1.0}. Best is trial 28 with value: 0.8307692307692308.\u001b[0m\n",
      "\u001b[32m[I 2022-10-19 20:39:01,207]\u001b[0m Trial 29 finished with value: 0.8293706293706293 and parameters: {'columnprep__transformers_num': 'MinMaxScaler', 'svm_kernel': 'rbf', 'svm_C': 1.8679301579689411, 'svm_degree': 1.0}. Best is trial 28 with value: 0.8307692307692308.\u001b[0m\n",
      "\u001b[32m[I 2022-10-19 20:39:01,456]\u001b[0m Trial 30 finished with value: 0.8307692307692308 and parameters: {'columnprep__transformers_num': 'MinMaxScaler', 'svm_kernel': 'rbf', 'svm_C': 1.9310678307540288, 'svm_degree': 1.0}. Best is trial 28 with value: 0.8307692307692308.\u001b[0m\n",
      "\u001b[32m[I 2022-10-19 20:39:01,692]\u001b[0m Trial 31 finished with value: 0.8188811188811188 and parameters: {'columnprep__transformers_num': 'MinMaxScaler', 'svm_kernel': 'rbf', 'svm_C': 5.707130087128359, 'svm_degree': 1.0}. Best is trial 28 with value: 0.8307692307692308.\u001b[0m\n",
      "\u001b[32m[I 2022-10-19 20:39:04,572]\u001b[0m Trial 32 finished with value: 0.8167832167832169 and parameters: {'columnprep__transformers_num': 'MinMaxScaler', 'svm_kernel': 'rbf', 'svm_C': 15.49848843918495, 'svm_degree': 1.0}. Best is trial 28 with value: 0.8307692307692308.\u001b[0m\n",
      "\u001b[32m[I 2022-10-19 20:39:04,836]\u001b[0m Trial 33 finished with value: 0.820979020979021 and parameters: {'columnprep__transformers_num': 'MinMaxScaler', 'svm_kernel': 'rbf', 'svm_C': 6.885763464497331, 'svm_degree': 1.0}. Best is trial 28 with value: 0.8307692307692308.\u001b[0m\n",
      "\u001b[32m[I 2022-10-19 20:39:05,056]\u001b[0m Trial 34 finished with value: 0.83006993006993 and parameters: {'columnprep__transformers_num': 'MinMaxScaler', 'svm_kernel': 'rbf', 'svm_C': 2.021550936740248, 'svm_degree': 1.0}. Best is trial 28 with value: 0.8307692307692308.\u001b[0m\n",
      "\u001b[32m[I 2022-10-19 20:39:07,684]\u001b[0m Trial 35 finished with value: 0.8265734265734265 and parameters: {'columnprep__transformers_num': 'MinMaxScaler', 'svm_kernel': 'rbf', 'svm_C': 1.7948247990330812, 'svm_degree': 1.0}. Best is trial 28 with value: 0.8307692307692308.\u001b[0m\n",
      "\u001b[32m[I 2022-10-19 20:39:07,943]\u001b[0m Trial 36 finished with value: 0.827972027972028 and parameters: {'columnprep__transformers_num': 'MinMaxScaler', 'svm_kernel': 'rbf', 'svm_C': 1.6668233108506114, 'svm_degree': 1.0}. Best is trial 28 with value: 0.8307692307692308.\u001b[0m\n",
      "\u001b[32m[I 2022-10-19 20:39:08,178]\u001b[0m Trial 37 finished with value: 0.8237762237762238 and parameters: {'columnprep__transformers_num': 'MinMaxScaler', 'svm_kernel': 'rbf', 'svm_C': 3.6092521420447765, 'svm_degree': 1.0}. Best is trial 28 with value: 0.8307692307692308.\u001b[0m\n",
      "\u001b[32m[I 2022-10-19 20:39:10,761]\u001b[0m Trial 38 finished with value: 0.825874125874126 and parameters: {'columnprep__transformers_num': 'MinMaxScaler', 'svm_kernel': 'rbf', 'svm_C': 3.118271313466472, 'svm_degree': 1.0}. Best is trial 28 with value: 0.8307692307692308.\u001b[0m\n",
      "\u001b[32m[I 2022-10-19 20:39:10,889]\u001b[0m Trial 39 finished with value: 0.8188811188811188 and parameters: {'columnprep__transformers_num': 'StandardScaler', 'svm_kernel': 'rbf', 'svm_C': 3.3157757018936573, 'svm_degree': 1.0}. Best is trial 28 with value: 0.8307692307692308.\u001b[0m\n",
      "\u001b[32m[I 2022-10-19 20:39:11,024]\u001b[0m Trial 40 finished with value: 0.813986013986014 and parameters: {'columnprep__transformers_num': 'StandardScaler', 'svm_kernel': 'rbf', 'svm_C': 13.905525409125019, 'svm_degree': 1.0}. Best is trial 28 with value: 0.8307692307692308.\u001b[0m\n",
      "\u001b[32m[I 2022-10-19 20:39:12,816]\u001b[0m Trial 41 finished with value: 0.7790209790209791 and parameters: {'columnprep__transformers_num': 'StandardScaler', 'svm_kernel': 'rbf', 'svm_C': 73.48379388153135, 'svm_degree': 1.0}. Best is trial 28 with value: 0.8307692307692308.\u001b[0m\n",
      "\u001b[32m[I 2022-10-19 20:39:12,992]\u001b[0m Trial 42 finished with value: 0.813986013986014 and parameters: {'columnprep__transformers_num': 'StandardScaler', 'svm_kernel': 'rbf', 'svm_C': 14.124844286832769, 'svm_degree': 1.0}. Best is trial 28 with value: 0.8307692307692308.\u001b[0m\n",
      "\u001b[32m[I 2022-10-19 20:39:13,111]\u001b[0m Trial 43 finished with value: 0.6972027972027972 and parameters: {'columnprep__transformers_num': 'MinMaxScaler', 'svm_kernel': 'sigmoid', 'svm_C': 5.002664835321635, 'svm_degree': 3.0}. Best is trial 28 with value: 0.8307692307692308.\u001b[0m\n",
      "\u001b[32m[I 2022-10-19 20:39:14,534]\u001b[0m Trial 44 finished with value: 0.8265734265734265 and parameters: {'columnprep__transformers_num': 'MinMaxScaler', 'svm_kernel': 'rbf', 'svm_C': 1.7997982827618613, 'svm_degree': 1.0}. Best is trial 28 with value: 0.8307692307692308.\u001b[0m\n",
      "\u001b[32m[I 2022-10-19 20:39:14,646]\u001b[0m Trial 45 finished with value: 0.8307692307692308 and parameters: {'columnprep__transformers_num': 'MinMaxScaler', 'svm_kernel': 'rbf', 'svm_C': 1.9630024763925458, 'svm_degree': 1.0}. Best is trial 28 with value: 0.8307692307692308.\u001b[0m\n",
      "\u001b[32m[I 2022-10-19 20:39:14,794]\u001b[0m Trial 46 finished with value: 0.8258741258741258 and parameters: {'columnprep__transformers_num': 'MinMaxScaler', 'svm_kernel': 'rbf', 'svm_C': 1.7693281099278713, 'svm_degree': 1.0}. Best is trial 28 with value: 0.8307692307692308.\u001b[0m\n",
      "\u001b[32m[I 2022-10-19 20:39:16,133]\u001b[0m Trial 47 finished with value: 0.8251748251748252 and parameters: {'columnprep__transformers_num': 'MinMaxScaler', 'svm_kernel': 'poly', 'svm_C': 2.6317802040677476, 'svm_degree': 2.0}. Best is trial 28 with value: 0.8307692307692308.\u001b[0m\n",
      "\u001b[32m[I 2022-10-19 20:39:16,230]\u001b[0m Trial 48 finished with value: 0.8286713286713286 and parameters: {'columnprep__transformers_num': 'MinMaxScaler', 'svm_kernel': 'rbf', 'svm_C': 1.457547430207343, 'svm_degree': 1.0}. Best is trial 28 with value: 0.8307692307692308.\u001b[0m\n",
      "\u001b[32m[I 2022-10-19 20:39:16,316]\u001b[0m Trial 49 finished with value: 0.711888111888112 and parameters: {'columnprep__transformers_num': 'MinMaxScaler', 'svm_kernel': 'sigmoid', 'svm_C': 2.7892935165410035, 'svm_degree': 1.0}. Best is trial 28 with value: 0.8307692307692308.\u001b[0m\n",
      "\u001b[32m[I 2022-10-19 20:39:50,881]\u001b[0m Trial 21 finished with value: 0.818881118881119 and parameters: {'columnprep__transformers_num': 'MinMaxScaler', 'svm_kernel': 'linear', 'svm_C': 486.7067230968327, 'svm_degree': 2.0}. Best is trial 28 with value: 0.8307692307692308.\u001b[0m\n"
     ]
    },
    {
     "name": "stdout",
     "output_type": "stream",
     "text": [
      "Best trial:\n",
      "0.8307692307692308\n",
      "{'columnprep__transformers_num': 'MinMaxScaler', 'svm_kernel': 'rbf', 'svm_C': 1.9756400270883048, 'svm_degree': 1.0}\n"
     ]
    },
    {
     "data": {
      "application/vnd.plotly.v1+json": {
       "config": {
        "plotlyServerURL": "https://plot.ly"
       },
       "data": [
        {
         "mode": "markers",
         "name": "Objective Value",
         "type": "scatter",
         "x": [
          0,
          1,
          2,
          3,
          4,
          5,
          6,
          7,
          8,
          9,
          10,
          11,
          12,
          13,
          14,
          15,
          16,
          17,
          18,
          19,
          20,
          21,
          22,
          23,
          24,
          25,
          26,
          27,
          28,
          29,
          30,
          31,
          32,
          33,
          34,
          35,
          36,
          37,
          38,
          39,
          40,
          41,
          42,
          43,
          44,
          45,
          46,
          47,
          48,
          49
         ],
         "y": [
          0.806993006993007,
          0.6685314685314685,
          0.7797202797202797,
          0.7909090909090909,
          0.7020979020979021,
          0.8174825174825175,
          0.818881118881119,
          0.7027972027972029,
          0.818881118881119,
          0.7020979020979021,
          0.6776223776223776,
          0.8237762237762238,
          0.8293706293706293,
          0.7685314685314686,
          0.7881118881118881,
          0.7867132867132868,
          0.8174825174825175,
          0.8258741258741258,
          0.8237762237762238,
          0.818881118881119,
          0.818881118881119,
          0.818881118881119,
          0.818881118881119,
          0.7790209790209791,
          0.8258741258741258,
          0.8293706293706293,
          0.820979020979021,
          0.8293706293706293,
          0.8307692307692308,
          0.8293706293706293,
          0.8307692307692308,
          0.8188811188811188,
          0.8167832167832169,
          0.820979020979021,
          0.83006993006993,
          0.8265734265734265,
          0.827972027972028,
          0.8237762237762238,
          0.825874125874126,
          0.8188811188811188,
          0.813986013986014,
          0.7790209790209791,
          0.813986013986014,
          0.6972027972027972,
          0.8265734265734265,
          0.8307692307692308,
          0.8258741258741258,
          0.8251748251748252,
          0.8286713286713286,
          0.711888111888112
         ]
        },
        {
         "name": "Best Value",
         "type": "scatter",
         "x": [
          0,
          1,
          2,
          3,
          4,
          5,
          6,
          7,
          8,
          9,
          10,
          11,
          12,
          13,
          14,
          15,
          16,
          17,
          18,
          19,
          20,
          21,
          22,
          23,
          24,
          25,
          26,
          27,
          28,
          29,
          30,
          31,
          32,
          33,
          34,
          35,
          36,
          37,
          38,
          39,
          40,
          41,
          42,
          43,
          44,
          45,
          46,
          47,
          48,
          49
         ],
         "y": [
          0.806993006993007,
          0.806993006993007,
          0.806993006993007,
          0.806993006993007,
          0.806993006993007,
          0.8174825174825175,
          0.818881118881119,
          0.818881118881119,
          0.818881118881119,
          0.818881118881119,
          0.818881118881119,
          0.8237762237762238,
          0.8293706293706293,
          0.8293706293706293,
          0.8293706293706293,
          0.8293706293706293,
          0.8293706293706293,
          0.8293706293706293,
          0.8293706293706293,
          0.8293706293706293,
          0.8293706293706293,
          0.8293706293706293,
          0.8293706293706293,
          0.8293706293706293,
          0.8293706293706293,
          0.8293706293706293,
          0.8293706293706293,
          0.8293706293706293,
          0.8307692307692308,
          0.8307692307692308,
          0.8307692307692308,
          0.8307692307692308,
          0.8307692307692308,
          0.8307692307692308,
          0.8307692307692308,
          0.8307692307692308,
          0.8307692307692308,
          0.8307692307692308,
          0.8307692307692308,
          0.8307692307692308,
          0.8307692307692308,
          0.8307692307692308,
          0.8307692307692308,
          0.8307692307692308,
          0.8307692307692308,
          0.8307692307692308,
          0.8307692307692308,
          0.8307692307692308,
          0.8307692307692308,
          0.8307692307692308
         ]
        }
       ],
       "layout": {
        "template": {
         "data": {
          "bar": [
           {
            "error_x": {
             "color": "#2a3f5f"
            },
            "error_y": {
             "color": "#2a3f5f"
            },
            "marker": {
             "line": {
              "color": "#E5ECF6",
              "width": 0.5
             },
             "pattern": {
              "fillmode": "overlay",
              "size": 10,
              "solidity": 0.2
             }
            },
            "type": "bar"
           }
          ],
          "barpolar": [
           {
            "marker": {
             "line": {
              "color": "#E5ECF6",
              "width": 0.5
             },
             "pattern": {
              "fillmode": "overlay",
              "size": 10,
              "solidity": 0.2
             }
            },
            "type": "barpolar"
           }
          ],
          "carpet": [
           {
            "aaxis": {
             "endlinecolor": "#2a3f5f",
             "gridcolor": "white",
             "linecolor": "white",
             "minorgridcolor": "white",
             "startlinecolor": "#2a3f5f"
            },
            "baxis": {
             "endlinecolor": "#2a3f5f",
             "gridcolor": "white",
             "linecolor": "white",
             "minorgridcolor": "white",
             "startlinecolor": "#2a3f5f"
            },
            "type": "carpet"
           }
          ],
          "choropleth": [
           {
            "colorbar": {
             "outlinewidth": 0,
             "ticks": ""
            },
            "type": "choropleth"
           }
          ],
          "contour": [
           {
            "colorbar": {
             "outlinewidth": 0,
             "ticks": ""
            },
            "colorscale": [
             [
              0,
              "#0d0887"
             ],
             [
              0.1111111111111111,
              "#46039f"
             ],
             [
              0.2222222222222222,
              "#7201a8"
             ],
             [
              0.3333333333333333,
              "#9c179e"
             ],
             [
              0.4444444444444444,
              "#bd3786"
             ],
             [
              0.5555555555555556,
              "#d8576b"
             ],
             [
              0.6666666666666666,
              "#ed7953"
             ],
             [
              0.7777777777777778,
              "#fb9f3a"
             ],
             [
              0.8888888888888888,
              "#fdca26"
             ],
             [
              1,
              "#f0f921"
             ]
            ],
            "type": "contour"
           }
          ],
          "contourcarpet": [
           {
            "colorbar": {
             "outlinewidth": 0,
             "ticks": ""
            },
            "type": "contourcarpet"
           }
          ],
          "heatmap": [
           {
            "colorbar": {
             "outlinewidth": 0,
             "ticks": ""
            },
            "colorscale": [
             [
              0,
              "#0d0887"
             ],
             [
              0.1111111111111111,
              "#46039f"
             ],
             [
              0.2222222222222222,
              "#7201a8"
             ],
             [
              0.3333333333333333,
              "#9c179e"
             ],
             [
              0.4444444444444444,
              "#bd3786"
             ],
             [
              0.5555555555555556,
              "#d8576b"
             ],
             [
              0.6666666666666666,
              "#ed7953"
             ],
             [
              0.7777777777777778,
              "#fb9f3a"
             ],
             [
              0.8888888888888888,
              "#fdca26"
             ],
             [
              1,
              "#f0f921"
             ]
            ],
            "type": "heatmap"
           }
          ],
          "heatmapgl": [
           {
            "colorbar": {
             "outlinewidth": 0,
             "ticks": ""
            },
            "colorscale": [
             [
              0,
              "#0d0887"
             ],
             [
              0.1111111111111111,
              "#46039f"
             ],
             [
              0.2222222222222222,
              "#7201a8"
             ],
             [
              0.3333333333333333,
              "#9c179e"
             ],
             [
              0.4444444444444444,
              "#bd3786"
             ],
             [
              0.5555555555555556,
              "#d8576b"
             ],
             [
              0.6666666666666666,
              "#ed7953"
             ],
             [
              0.7777777777777778,
              "#fb9f3a"
             ],
             [
              0.8888888888888888,
              "#fdca26"
             ],
             [
              1,
              "#f0f921"
             ]
            ],
            "type": "heatmapgl"
           }
          ],
          "histogram": [
           {
            "marker": {
             "pattern": {
              "fillmode": "overlay",
              "size": 10,
              "solidity": 0.2
             }
            },
            "type": "histogram"
           }
          ],
          "histogram2d": [
           {
            "colorbar": {
             "outlinewidth": 0,
             "ticks": ""
            },
            "colorscale": [
             [
              0,
              "#0d0887"
             ],
             [
              0.1111111111111111,
              "#46039f"
             ],
             [
              0.2222222222222222,
              "#7201a8"
             ],
             [
              0.3333333333333333,
              "#9c179e"
             ],
             [
              0.4444444444444444,
              "#bd3786"
             ],
             [
              0.5555555555555556,
              "#d8576b"
             ],
             [
              0.6666666666666666,
              "#ed7953"
             ],
             [
              0.7777777777777778,
              "#fb9f3a"
             ],
             [
              0.8888888888888888,
              "#fdca26"
             ],
             [
              1,
              "#f0f921"
             ]
            ],
            "type": "histogram2d"
           }
          ],
          "histogram2dcontour": [
           {
            "colorbar": {
             "outlinewidth": 0,
             "ticks": ""
            },
            "colorscale": [
             [
              0,
              "#0d0887"
             ],
             [
              0.1111111111111111,
              "#46039f"
             ],
             [
              0.2222222222222222,
              "#7201a8"
             ],
             [
              0.3333333333333333,
              "#9c179e"
             ],
             [
              0.4444444444444444,
              "#bd3786"
             ],
             [
              0.5555555555555556,
              "#d8576b"
             ],
             [
              0.6666666666666666,
              "#ed7953"
             ],
             [
              0.7777777777777778,
              "#fb9f3a"
             ],
             [
              0.8888888888888888,
              "#fdca26"
             ],
             [
              1,
              "#f0f921"
             ]
            ],
            "type": "histogram2dcontour"
           }
          ],
          "mesh3d": [
           {
            "colorbar": {
             "outlinewidth": 0,
             "ticks": ""
            },
            "type": "mesh3d"
           }
          ],
          "parcoords": [
           {
            "line": {
             "colorbar": {
              "outlinewidth": 0,
              "ticks": ""
             }
            },
            "type": "parcoords"
           }
          ],
          "pie": [
           {
            "automargin": true,
            "type": "pie"
           }
          ],
          "scatter": [
           {
            "fillpattern": {
             "fillmode": "overlay",
             "size": 10,
             "solidity": 0.2
            },
            "type": "scatter"
           }
          ],
          "scatter3d": [
           {
            "line": {
             "colorbar": {
              "outlinewidth": 0,
              "ticks": ""
             }
            },
            "marker": {
             "colorbar": {
              "outlinewidth": 0,
              "ticks": ""
             }
            },
            "type": "scatter3d"
           }
          ],
          "scattercarpet": [
           {
            "marker": {
             "colorbar": {
              "outlinewidth": 0,
              "ticks": ""
             }
            },
            "type": "scattercarpet"
           }
          ],
          "scattergeo": [
           {
            "marker": {
             "colorbar": {
              "outlinewidth": 0,
              "ticks": ""
             }
            },
            "type": "scattergeo"
           }
          ],
          "scattergl": [
           {
            "marker": {
             "colorbar": {
              "outlinewidth": 0,
              "ticks": ""
             }
            },
            "type": "scattergl"
           }
          ],
          "scattermapbox": [
           {
            "marker": {
             "colorbar": {
              "outlinewidth": 0,
              "ticks": ""
             }
            },
            "type": "scattermapbox"
           }
          ],
          "scatterpolar": [
           {
            "marker": {
             "colorbar": {
              "outlinewidth": 0,
              "ticks": ""
             }
            },
            "type": "scatterpolar"
           }
          ],
          "scatterpolargl": [
           {
            "marker": {
             "colorbar": {
              "outlinewidth": 0,
              "ticks": ""
             }
            },
            "type": "scatterpolargl"
           }
          ],
          "scatterternary": [
           {
            "marker": {
             "colorbar": {
              "outlinewidth": 0,
              "ticks": ""
             }
            },
            "type": "scatterternary"
           }
          ],
          "surface": [
           {
            "colorbar": {
             "outlinewidth": 0,
             "ticks": ""
            },
            "colorscale": [
             [
              0,
              "#0d0887"
             ],
             [
              0.1111111111111111,
              "#46039f"
             ],
             [
              0.2222222222222222,
              "#7201a8"
             ],
             [
              0.3333333333333333,
              "#9c179e"
             ],
             [
              0.4444444444444444,
              "#bd3786"
             ],
             [
              0.5555555555555556,
              "#d8576b"
             ],
             [
              0.6666666666666666,
              "#ed7953"
             ],
             [
              0.7777777777777778,
              "#fb9f3a"
             ],
             [
              0.8888888888888888,
              "#fdca26"
             ],
             [
              1,
              "#f0f921"
             ]
            ],
            "type": "surface"
           }
          ],
          "table": [
           {
            "cells": {
             "fill": {
              "color": "#EBF0F8"
             },
             "line": {
              "color": "white"
             }
            },
            "header": {
             "fill": {
              "color": "#C8D4E3"
             },
             "line": {
              "color": "white"
             }
            },
            "type": "table"
           }
          ]
         },
         "layout": {
          "annotationdefaults": {
           "arrowcolor": "#2a3f5f",
           "arrowhead": 0,
           "arrowwidth": 1
          },
          "autotypenumbers": "strict",
          "coloraxis": {
           "colorbar": {
            "outlinewidth": 0,
            "ticks": ""
           }
          },
          "colorscale": {
           "diverging": [
            [
             0,
             "#8e0152"
            ],
            [
             0.1,
             "#c51b7d"
            ],
            [
             0.2,
             "#de77ae"
            ],
            [
             0.3,
             "#f1b6da"
            ],
            [
             0.4,
             "#fde0ef"
            ],
            [
             0.5,
             "#f7f7f7"
            ],
            [
             0.6,
             "#e6f5d0"
            ],
            [
             0.7,
             "#b8e186"
            ],
            [
             0.8,
             "#7fbc41"
            ],
            [
             0.9,
             "#4d9221"
            ],
            [
             1,
             "#276419"
            ]
           ],
           "sequential": [
            [
             0,
             "#0d0887"
            ],
            [
             0.1111111111111111,
             "#46039f"
            ],
            [
             0.2222222222222222,
             "#7201a8"
            ],
            [
             0.3333333333333333,
             "#9c179e"
            ],
            [
             0.4444444444444444,
             "#bd3786"
            ],
            [
             0.5555555555555556,
             "#d8576b"
            ],
            [
             0.6666666666666666,
             "#ed7953"
            ],
            [
             0.7777777777777778,
             "#fb9f3a"
            ],
            [
             0.8888888888888888,
             "#fdca26"
            ],
            [
             1,
             "#f0f921"
            ]
           ],
           "sequentialminus": [
            [
             0,
             "#0d0887"
            ],
            [
             0.1111111111111111,
             "#46039f"
            ],
            [
             0.2222222222222222,
             "#7201a8"
            ],
            [
             0.3333333333333333,
             "#9c179e"
            ],
            [
             0.4444444444444444,
             "#bd3786"
            ],
            [
             0.5555555555555556,
             "#d8576b"
            ],
            [
             0.6666666666666666,
             "#ed7953"
            ],
            [
             0.7777777777777778,
             "#fb9f3a"
            ],
            [
             0.8888888888888888,
             "#fdca26"
            ],
            [
             1,
             "#f0f921"
            ]
           ]
          },
          "colorway": [
           "#636efa",
           "#EF553B",
           "#00cc96",
           "#ab63fa",
           "#FFA15A",
           "#19d3f3",
           "#FF6692",
           "#B6E880",
           "#FF97FF",
           "#FECB52"
          ],
          "font": {
           "color": "#2a3f5f"
          },
          "geo": {
           "bgcolor": "white",
           "lakecolor": "white",
           "landcolor": "#E5ECF6",
           "showlakes": true,
           "showland": true,
           "subunitcolor": "white"
          },
          "hoverlabel": {
           "align": "left"
          },
          "hovermode": "closest",
          "mapbox": {
           "style": "light"
          },
          "paper_bgcolor": "white",
          "plot_bgcolor": "#E5ECF6",
          "polar": {
           "angularaxis": {
            "gridcolor": "white",
            "linecolor": "white",
            "ticks": ""
           },
           "bgcolor": "#E5ECF6",
           "radialaxis": {
            "gridcolor": "white",
            "linecolor": "white",
            "ticks": ""
           }
          },
          "scene": {
           "xaxis": {
            "backgroundcolor": "#E5ECF6",
            "gridcolor": "white",
            "gridwidth": 2,
            "linecolor": "white",
            "showbackground": true,
            "ticks": "",
            "zerolinecolor": "white"
           },
           "yaxis": {
            "backgroundcolor": "#E5ECF6",
            "gridcolor": "white",
            "gridwidth": 2,
            "linecolor": "white",
            "showbackground": true,
            "ticks": "",
            "zerolinecolor": "white"
           },
           "zaxis": {
            "backgroundcolor": "#E5ECF6",
            "gridcolor": "white",
            "gridwidth": 2,
            "linecolor": "white",
            "showbackground": true,
            "ticks": "",
            "zerolinecolor": "white"
           }
          },
          "shapedefaults": {
           "line": {
            "color": "#2a3f5f"
           }
          },
          "ternary": {
           "aaxis": {
            "gridcolor": "white",
            "linecolor": "white",
            "ticks": ""
           },
           "baxis": {
            "gridcolor": "white",
            "linecolor": "white",
            "ticks": ""
           },
           "bgcolor": "#E5ECF6",
           "caxis": {
            "gridcolor": "white",
            "linecolor": "white",
            "ticks": ""
           }
          },
          "title": {
           "x": 0.05
          },
          "xaxis": {
           "automargin": true,
           "gridcolor": "white",
           "linecolor": "white",
           "ticks": "",
           "title": {
            "standoff": 15
           },
           "zerolinecolor": "white",
           "zerolinewidth": 2
          },
          "yaxis": {
           "automargin": true,
           "gridcolor": "white",
           "linecolor": "white",
           "ticks": "",
           "title": {
            "standoff": 15
           },
           "zerolinecolor": "white",
           "zerolinewidth": 2
          }
         }
        },
        "title": {
         "text": "Optimization History Plot"
        },
        "xaxis": {
         "title": {
          "text": "#Trials"
         }
        },
        "yaxis": {
         "title": {
          "text": "Objective Value"
         }
        }
       }
      }
     },
     "metadata": {},
     "output_type": "display_data"
    }
   ],
   "source": [
    "study_svm = create_new_mlrun(model_type='svm')\n",
    "optuna.visualization.plot_optimization_history(study_svm)"
   ]
  },
  {
   "cell_type": "code",
   "execution_count": 12,
   "metadata": {},
   "outputs": [
    {
     "name": "stderr",
     "output_type": "stream",
     "text": [
      "\u001b[32m[I 2022-10-19 20:39:55,458]\u001b[0m A new study created in memory with name: no-name-7e78166f-dc6c-4040-83ec-a667efded12c\u001b[0m\n",
      "\u001b[32m[I 2022-10-19 20:39:55,888]\u001b[0m Trial 2 finished with value: 0.813986013986014 and parameters: {'columnprep__transformers_num': 'StandardScaler', 'dt_max_depth': 14, 'dt_criterion': 'entropy', 'dt_max_leaf_nodes': 5}. Best is trial 2 with value: 0.813986013986014.\u001b[0m\n",
      "\u001b[32m[I 2022-10-19 20:39:55,955]\u001b[0m Trial 1 finished with value: 0.8111888111888111 and parameters: {'columnprep__transformers_num': 'StandardScaler', 'dt_max_depth': 18, 'dt_criterion': 'gini', 'dt_max_leaf_nodes': 5}. Best is trial 2 with value: 0.813986013986014.\u001b[0m\n",
      "\u001b[32m[I 2022-10-19 20:39:55,975]\u001b[0m Trial 3 finished with value: 0.7895104895104895 and parameters: {'columnprep__transformers_num': 'StandardScaler', 'dt_max_depth': 7, 'dt_criterion': 'entropy', 'dt_max_leaf_nodes': 3}. Best is trial 2 with value: 0.813986013986014.\u001b[0m\n",
      "\u001b[32m[I 2022-10-19 20:39:55,993]\u001b[0m Trial 0 finished with value: 0.813986013986014 and parameters: {'columnprep__transformers_num': 'MinMaxScaler', 'dt_max_depth': 5, 'dt_criterion': 'entropy', 'dt_max_leaf_nodes': 5}. Best is trial 2 with value: 0.813986013986014.\u001b[0m\n",
      "\u001b[32m[I 2022-10-19 20:39:56,074]\u001b[0m Trial 4 finished with value: 0.8181818181818181 and parameters: {'columnprep__transformers_num': 'MinMaxScaler', 'dt_max_depth': 5, 'dt_criterion': 'gini', 'dt_max_leaf_nodes': 9}. Best is trial 4 with value: 0.8181818181818181.\u001b[0m\n",
      "\u001b[32m[I 2022-10-19 20:39:56,231]\u001b[0m Trial 5 finished with value: 0.8111888111888111 and parameters: {'columnprep__transformers_num': 'StandardScaler', 'dt_max_depth': 7, 'dt_criterion': 'entropy', 'dt_max_leaf_nodes': 4}. Best is trial 4 with value: 0.8181818181818181.\u001b[0m\n",
      "\u001b[32m[I 2022-10-19 20:39:56,361]\u001b[0m Trial 7 finished with value: 0.8125874125874126 and parameters: {'columnprep__transformers_num': 'StandardScaler', 'dt_max_depth': 21, 'dt_criterion': 'gini', 'dt_max_leaf_nodes': 10}. Best is trial 4 with value: 0.8181818181818181.\u001b[0m\n",
      "\u001b[32m[I 2022-10-19 20:39:56,379]\u001b[0m Trial 6 finished with value: 0.813986013986014 and parameters: {'columnprep__transformers_num': 'StandardScaler', 'dt_max_depth': 16, 'dt_criterion': 'entropy', 'dt_max_leaf_nodes': 6}. Best is trial 4 with value: 0.8181818181818181.\u001b[0m\n",
      "\u001b[32m[I 2022-10-19 20:39:56,456]\u001b[0m Trial 8 finished with value: 0.83006993006993 and parameters: {'columnprep__transformers_num': 'MinMaxScaler', 'dt_max_depth': 8, 'dt_criterion': 'entropy', 'dt_max_leaf_nodes': 7}. Best is trial 8 with value: 0.83006993006993.\u001b[0m\n",
      "\u001b[32m[I 2022-10-19 20:39:56,588]\u001b[0m Trial 10 finished with value: 0.8216783216783217 and parameters: {'columnprep__transformers_num': 'StandardScaler', 'dt_max_depth': 12, 'dt_criterion': 'gini', 'dt_max_leaf_nodes': 8}. Best is trial 8 with value: 0.83006993006993.\u001b[0m\n",
      "\u001b[32m[I 2022-10-19 20:39:56,676]\u001b[0m Trial 9 finished with value: 0.83006993006993 and parameters: {'columnprep__transformers_num': 'StandardScaler', 'dt_max_depth': 15, 'dt_criterion': 'entropy', 'dt_max_leaf_nodes': 7}. Best is trial 8 with value: 0.83006993006993.\u001b[0m\n",
      "\u001b[32m[I 2022-10-19 20:39:56,708]\u001b[0m Trial 11 finished with value: 0.813986013986014 and parameters: {'columnprep__transformers_num': 'MinMaxScaler', 'dt_max_depth': 8, 'dt_criterion': 'entropy', 'dt_max_leaf_nodes': 6}. Best is trial 8 with value: 0.83006993006993.\u001b[0m\n",
      "\u001b[32m[I 2022-10-19 20:39:56,810]\u001b[0m Trial 12 finished with value: 0.8216783216783217 and parameters: {'columnprep__transformers_num': 'MinMaxScaler', 'dt_max_depth': 11, 'dt_criterion': 'entropy', 'dt_max_leaf_nodes': 8}. Best is trial 8 with value: 0.83006993006993.\u001b[0m\n",
      "\u001b[32m[I 2022-10-19 20:39:56,987]\u001b[0m Trial 13 finished with value: 0.8216783216783217 and parameters: {'columnprep__transformers_num': 'MinMaxScaler', 'dt_max_depth': 11, 'dt_criterion': 'entropy', 'dt_max_leaf_nodes': 8}. Best is trial 8 with value: 0.83006993006993.\u001b[0m\n",
      "\u001b[32m[I 2022-10-19 20:39:57,007]\u001b[0m Trial 14 finished with value: 0.83006993006993 and parameters: {'columnprep__transformers_num': 'MinMaxScaler', 'dt_max_depth': 10, 'dt_criterion': 'entropy', 'dt_max_leaf_nodes': 7}. Best is trial 8 with value: 0.83006993006993.\u001b[0m\n",
      "\u001b[32m[I 2022-10-19 20:39:57,114]\u001b[0m Trial 15 finished with value: 0.83006993006993 and parameters: {'columnprep__transformers_num': 'MinMaxScaler', 'dt_max_depth': 10, 'dt_criterion': 'entropy', 'dt_max_leaf_nodes': 7}. Best is trial 8 with value: 0.83006993006993.\u001b[0m\n",
      "\u001b[32m[I 2022-10-19 20:39:57,213]\u001b[0m Trial 16 finished with value: 0.7720279720279721 and parameters: {'columnprep__transformers_num': 'MinMaxScaler', 'dt_max_depth': 17, 'dt_criterion': 'entropy', 'dt_max_leaf_nodes': 2}. Best is trial 8 with value: 0.83006993006993.\u001b[0m\n",
      "\u001b[32m[I 2022-10-19 20:39:57,336]\u001b[0m Trial 17 finished with value: 0.7720279720279721 and parameters: {'columnprep__transformers_num': 'StandardScaler', 'dt_max_depth': 15, 'dt_criterion': 'entropy', 'dt_max_leaf_nodes': 2}. Best is trial 8 with value: 0.83006993006993.\u001b[0m\n",
      "\u001b[32m[I 2022-10-19 20:39:57,389]\u001b[0m Trial 18 finished with value: 0.7720279720279721 and parameters: {'columnprep__transformers_num': 'MinMaxScaler', 'dt_max_depth': 16, 'dt_criterion': 'entropy', 'dt_max_leaf_nodes': 2}. Best is trial 8 with value: 0.83006993006993.\u001b[0m\n",
      "\u001b[32m[I 2022-10-19 20:39:57,421]\u001b[0m Trial 19 finished with value: 0.8202797202797203 and parameters: {'columnprep__transformers_num': 'MinMaxScaler', 'dt_max_depth': 9, 'dt_criterion': 'entropy', 'dt_max_leaf_nodes': 10}. Best is trial 8 with value: 0.83006993006993.\u001b[0m\n",
      "\u001b[32m[I 2022-10-19 20:39:57,554]\u001b[0m Trial 20 finished with value: 0.8125874125874126 and parameters: {'columnprep__transformers_num': 'MinMaxScaler', 'dt_max_depth': 9, 'dt_criterion': 'gini', 'dt_max_leaf_nodes': 10}. Best is trial 8 with value: 0.83006993006993.\u001b[0m\n",
      "\u001b[32m[I 2022-10-19 20:39:57,628]\u001b[0m Trial 21 finished with value: 0.8237762237762238 and parameters: {'columnprep__transformers_num': 'StandardScaler', 'dt_max_depth': 19, 'dt_criterion': 'gini', 'dt_max_leaf_nodes': 7}. Best is trial 8 with value: 0.83006993006993.\u001b[0m\n",
      "\u001b[32m[I 2022-10-19 20:39:57,703]\u001b[0m Trial 22 finished with value: 0.8237762237762238 and parameters: {'columnprep__transformers_num': 'StandardScaler', 'dt_max_depth': 20, 'dt_criterion': 'gini', 'dt_max_leaf_nodes': 7}. Best is trial 8 with value: 0.83006993006993.\u001b[0m\n",
      "\u001b[32m[I 2022-10-19 20:39:57,763]\u001b[0m Trial 23 finished with value: 0.83006993006993 and parameters: {'columnprep__transformers_num': 'StandardScaler', 'dt_max_depth': 19, 'dt_criterion': 'entropy', 'dt_max_leaf_nodes': 7}. Best is trial 8 with value: 0.83006993006993.\u001b[0m\n",
      "\u001b[32m[I 2022-10-19 20:39:57,927]\u001b[0m Trial 24 finished with value: 0.83006993006993 and parameters: {'columnprep__transformers_num': 'MinMaxScaler', 'dt_max_depth': 12, 'dt_criterion': 'entropy', 'dt_max_leaf_nodes': 7}. Best is trial 8 with value: 0.83006993006993.\u001b[0m\n",
      "\u001b[32m[I 2022-10-19 20:39:57,971]\u001b[0m Trial 25 finished with value: 0.83006993006993 and parameters: {'columnprep__transformers_num': 'MinMaxScaler', 'dt_max_depth': 12, 'dt_criterion': 'entropy', 'dt_max_leaf_nodes': 7}. Best is trial 8 with value: 0.83006993006993.\u001b[0m\n",
      "\u001b[32m[I 2022-10-19 20:39:58,105]\u001b[0m Trial 26 finished with value: 0.813986013986014 and parameters: {'columnprep__transformers_num': 'MinMaxScaler', 'dt_max_depth': 22, 'dt_criterion': 'entropy', 'dt_max_leaf_nodes': 6}. Best is trial 8 with value: 0.83006993006993.\u001b[0m\n",
      "\u001b[32m[I 2022-10-19 20:39:58,115]\u001b[0m Trial 27 finished with value: 0.8174825174825175 and parameters: {'columnprep__transformers_num': 'MinMaxScaler', 'dt_max_depth': 12, 'dt_criterion': 'entropy', 'dt_max_leaf_nodes': 9}. Best is trial 8 with value: 0.83006993006993.\u001b[0m\n",
      "\u001b[32m[I 2022-10-19 20:39:58,236]\u001b[0m Trial 28 finished with value: 0.8174825174825175 and parameters: {'columnprep__transformers_num': 'MinMaxScaler', 'dt_max_depth': 22, 'dt_criterion': 'entropy', 'dt_max_leaf_nodes': 9}. Best is trial 8 with value: 0.83006993006993.\u001b[0m\n",
      "\u001b[32m[I 2022-10-19 20:39:58,348]\u001b[0m Trial 29 finished with value: 0.8174825174825175 and parameters: {'columnprep__transformers_num': 'MinMaxScaler', 'dt_max_depth': 13, 'dt_criterion': 'entropy', 'dt_max_leaf_nodes': 9}. Best is trial 8 with value: 0.83006993006993.\u001b[0m\n",
      "\u001b[32m[I 2022-10-19 20:39:58,369]\u001b[0m Trial 30 finished with value: 0.8174825174825175 and parameters: {'columnprep__transformers_num': 'MinMaxScaler', 'dt_max_depth': 13, 'dt_criterion': 'entropy', 'dt_max_leaf_nodes': 9}. Best is trial 8 with value: 0.83006993006993.\u001b[0m\n",
      "\u001b[32m[I 2022-10-19 20:39:58,451]\u001b[0m Trial 31 finished with value: 0.813986013986014 and parameters: {'columnprep__transformers_num': 'MinMaxScaler', 'dt_max_depth': 13, 'dt_criterion': 'entropy', 'dt_max_leaf_nodes': 6}. Best is trial 8 with value: 0.83006993006993.\u001b[0m\n",
      "\u001b[32m[I 2022-10-19 20:39:58,636]\u001b[0m Trial 32 finished with value: 0.813986013986014 and parameters: {'columnprep__transformers_num': 'MinMaxScaler', 'dt_max_depth': 11, 'dt_criterion': 'entropy', 'dt_max_leaf_nodes': 6}. Best is trial 8 with value: 0.83006993006993.\u001b[0m\n",
      "\u001b[32m[I 2022-10-19 20:39:58,677]\u001b[0m Trial 33 finished with value: 0.8216783216783217 and parameters: {'columnprep__transformers_num': 'MinMaxScaler', 'dt_max_depth': 10, 'dt_criterion': 'entropy', 'dt_max_leaf_nodes': 8}. Best is trial 8 with value: 0.83006993006993.\u001b[0m\n",
      "\u001b[32m[I 2022-10-19 20:39:58,698]\u001b[0m Trial 34 finished with value: 0.8216783216783217 and parameters: {'columnprep__transformers_num': 'MinMaxScaler', 'dt_max_depth': 10, 'dt_criterion': 'entropy', 'dt_max_leaf_nodes': 8}. Best is trial 8 with value: 0.83006993006993.\u001b[0m\n",
      "\u001b[32m[I 2022-10-19 20:39:58,795]\u001b[0m Trial 35 finished with value: 0.8216783216783217 and parameters: {'columnprep__transformers_num': 'MinMaxScaler', 'dt_max_depth': 10, 'dt_criterion': 'entropy', 'dt_max_leaf_nodes': 8}. Best is trial 8 with value: 0.83006993006993.\u001b[0m\n",
      "\u001b[32m[I 2022-10-19 20:39:58,984]\u001b[0m Trial 37 finished with value: 0.813986013986014 and parameters: {'columnprep__transformers_num': 'StandardScaler', 'dt_max_depth': 14, 'dt_criterion': 'entropy', 'dt_max_leaf_nodes': 5}. Best is trial 8 with value: 0.83006993006993.\u001b[0m\n",
      "\u001b[32m[I 2022-10-19 20:39:59,072]\u001b[0m Trial 36 finished with value: 0.813986013986014 and parameters: {'columnprep__transformers_num': 'StandardScaler', 'dt_max_depth': 14, 'dt_criterion': 'entropy', 'dt_max_leaf_nodes': 5}. Best is trial 8 with value: 0.83006993006993.\u001b[0m\n",
      "\u001b[32m[I 2022-10-19 20:39:59,105]\u001b[0m Trial 38 finished with value: 0.813986013986014 and parameters: {'columnprep__transformers_num': 'StandardScaler', 'dt_max_depth': 14, 'dt_criterion': 'entropy', 'dt_max_leaf_nodes': 5}. Best is trial 8 with value: 0.83006993006993.\u001b[0m\n",
      "\u001b[32m[I 2022-10-19 20:39:59,177]\u001b[0m Trial 39 finished with value: 0.813986013986014 and parameters: {'columnprep__transformers_num': 'StandardScaler', 'dt_max_depth': 14, 'dt_criterion': 'entropy', 'dt_max_leaf_nodes': 5}. Best is trial 8 with value: 0.83006993006993.\u001b[0m\n",
      "\u001b[32m[I 2022-10-19 20:39:59,341]\u001b[0m Trial 40 finished with value: 0.8104895104895105 and parameters: {'columnprep__transformers_num': 'MinMaxScaler', 'dt_max_depth': 5, 'dt_criterion': 'gini', 'dt_max_leaf_nodes': 4}. Best is trial 8 with value: 0.83006993006993.\u001b[0m\n",
      "\u001b[32m[I 2022-10-19 20:39:59,381]\u001b[0m Trial 41 finished with value: 0.8104895104895105 and parameters: {'columnprep__transformers_num': 'MinMaxScaler', 'dt_max_depth': 5, 'dt_criterion': 'gini', 'dt_max_leaf_nodes': 4}. Best is trial 8 with value: 0.83006993006993.\u001b[0m\n",
      "\u001b[32m[I 2022-10-19 20:39:59,415]\u001b[0m Trial 42 finished with value: 0.8237762237762238 and parameters: {'columnprep__transformers_num': 'MinMaxScaler', 'dt_max_depth': 6, 'dt_criterion': 'gini', 'dt_max_leaf_nodes': 7}. Best is trial 8 with value: 0.83006993006993.\u001b[0m\n",
      "\u001b[32m[I 2022-10-19 20:39:59,507]\u001b[0m Trial 43 finished with value: 0.83006993006993 and parameters: {'columnprep__transformers_num': 'StandardScaler', 'dt_max_depth': 19, 'dt_criterion': 'entropy', 'dt_max_leaf_nodes': 7}. Best is trial 8 with value: 0.83006993006993.\u001b[0m\n",
      "\u001b[32m[I 2022-10-19 20:39:59,608]\u001b[0m Trial 44 finished with value: 0.83006993006993 and parameters: {'columnprep__transformers_num': 'MinMaxScaler', 'dt_max_depth': 12, 'dt_criterion': 'entropy', 'dt_max_leaf_nodes': 7}. Best is trial 8 with value: 0.83006993006993.\u001b[0m\n",
      "\u001b[32m[I 2022-10-19 20:39:59,711]\u001b[0m Trial 45 finished with value: 0.83006993006993 and parameters: {'columnprep__transformers_num': 'MinMaxScaler', 'dt_max_depth': 12, 'dt_criterion': 'entropy', 'dt_max_leaf_nodes': 7}. Best is trial 8 with value: 0.83006993006993.\u001b[0m\n",
      "\u001b[32m[I 2022-10-19 20:39:59,740]\u001b[0m Trial 46 finished with value: 0.83006993006993 and parameters: {'columnprep__transformers_num': 'StandardScaler', 'dt_max_depth': 19, 'dt_criterion': 'entropy', 'dt_max_leaf_nodes': 7}. Best is trial 8 with value: 0.83006993006993.\u001b[0m\n",
      "\u001b[32m[I 2022-10-19 20:39:59,854]\u001b[0m Trial 47 finished with value: 0.813986013986014 and parameters: {'columnprep__transformers_num': 'StandardScaler', 'dt_max_depth': 18, 'dt_criterion': 'entropy', 'dt_max_leaf_nodes': 6}. Best is trial 8 with value: 0.83006993006993.\u001b[0m\n",
      "\u001b[32m[I 2022-10-19 20:39:59,925]\u001b[0m Trial 48 finished with value: 0.813986013986014 and parameters: {'columnprep__transformers_num': 'StandardScaler', 'dt_max_depth': 18, 'dt_criterion': 'entropy', 'dt_max_leaf_nodes': 6}. Best is trial 8 with value: 0.83006993006993.\u001b[0m\n",
      "\u001b[32m[I 2022-10-19 20:39:59,936]\u001b[0m Trial 49 finished with value: 0.813986013986014 and parameters: {'columnprep__transformers_num': 'StandardScaler', 'dt_max_depth': 18, 'dt_criterion': 'entropy', 'dt_max_leaf_nodes': 6}. Best is trial 8 with value: 0.83006993006993.\u001b[0m\n"
     ]
    },
    {
     "name": "stdout",
     "output_type": "stream",
     "text": [
      "Best trial:\n",
      "0.83006993006993\n",
      "{'columnprep__transformers_num': 'MinMaxScaler', 'dt_max_depth': 8, 'dt_criterion': 'entropy', 'dt_max_leaf_nodes': 7}\n"
     ]
    },
    {
     "data": {
      "application/vnd.plotly.v1+json": {
       "config": {
        "plotlyServerURL": "https://plot.ly"
       },
       "data": [
        {
         "mode": "markers",
         "name": "Objective Value",
         "type": "scatter",
         "x": [
          0,
          1,
          2,
          3,
          4,
          5,
          6,
          7,
          8,
          9,
          10,
          11,
          12,
          13,
          14,
          15,
          16,
          17,
          18,
          19,
          20,
          21,
          22,
          23,
          24,
          25,
          26,
          27,
          28,
          29,
          30,
          31,
          32,
          33,
          34,
          35,
          36,
          37,
          38,
          39,
          40,
          41,
          42,
          43,
          44,
          45,
          46,
          47,
          48,
          49
         ],
         "y": [
          0.813986013986014,
          0.8111888111888111,
          0.813986013986014,
          0.7895104895104895,
          0.8181818181818181,
          0.8111888111888111,
          0.813986013986014,
          0.8125874125874126,
          0.83006993006993,
          0.83006993006993,
          0.8216783216783217,
          0.813986013986014,
          0.8216783216783217,
          0.8216783216783217,
          0.83006993006993,
          0.83006993006993,
          0.7720279720279721,
          0.7720279720279721,
          0.7720279720279721,
          0.8202797202797203,
          0.8125874125874126,
          0.8237762237762238,
          0.8237762237762238,
          0.83006993006993,
          0.83006993006993,
          0.83006993006993,
          0.813986013986014,
          0.8174825174825175,
          0.8174825174825175,
          0.8174825174825175,
          0.8174825174825175,
          0.813986013986014,
          0.813986013986014,
          0.8216783216783217,
          0.8216783216783217,
          0.8216783216783217,
          0.813986013986014,
          0.813986013986014,
          0.813986013986014,
          0.813986013986014,
          0.8104895104895105,
          0.8104895104895105,
          0.8237762237762238,
          0.83006993006993,
          0.83006993006993,
          0.83006993006993,
          0.83006993006993,
          0.813986013986014,
          0.813986013986014,
          0.813986013986014
         ]
        },
        {
         "name": "Best Value",
         "type": "scatter",
         "x": [
          0,
          1,
          2,
          3,
          4,
          5,
          6,
          7,
          8,
          9,
          10,
          11,
          12,
          13,
          14,
          15,
          16,
          17,
          18,
          19,
          20,
          21,
          22,
          23,
          24,
          25,
          26,
          27,
          28,
          29,
          30,
          31,
          32,
          33,
          34,
          35,
          36,
          37,
          38,
          39,
          40,
          41,
          42,
          43,
          44,
          45,
          46,
          47,
          48,
          49
         ],
         "y": [
          0.813986013986014,
          0.813986013986014,
          0.813986013986014,
          0.813986013986014,
          0.8181818181818181,
          0.8181818181818181,
          0.8181818181818181,
          0.8181818181818181,
          0.83006993006993,
          0.83006993006993,
          0.83006993006993,
          0.83006993006993,
          0.83006993006993,
          0.83006993006993,
          0.83006993006993,
          0.83006993006993,
          0.83006993006993,
          0.83006993006993,
          0.83006993006993,
          0.83006993006993,
          0.83006993006993,
          0.83006993006993,
          0.83006993006993,
          0.83006993006993,
          0.83006993006993,
          0.83006993006993,
          0.83006993006993,
          0.83006993006993,
          0.83006993006993,
          0.83006993006993,
          0.83006993006993,
          0.83006993006993,
          0.83006993006993,
          0.83006993006993,
          0.83006993006993,
          0.83006993006993,
          0.83006993006993,
          0.83006993006993,
          0.83006993006993,
          0.83006993006993,
          0.83006993006993,
          0.83006993006993,
          0.83006993006993,
          0.83006993006993,
          0.83006993006993,
          0.83006993006993,
          0.83006993006993,
          0.83006993006993,
          0.83006993006993,
          0.83006993006993
         ]
        }
       ],
       "layout": {
        "template": {
         "data": {
          "bar": [
           {
            "error_x": {
             "color": "#2a3f5f"
            },
            "error_y": {
             "color": "#2a3f5f"
            },
            "marker": {
             "line": {
              "color": "#E5ECF6",
              "width": 0.5
             },
             "pattern": {
              "fillmode": "overlay",
              "size": 10,
              "solidity": 0.2
             }
            },
            "type": "bar"
           }
          ],
          "barpolar": [
           {
            "marker": {
             "line": {
              "color": "#E5ECF6",
              "width": 0.5
             },
             "pattern": {
              "fillmode": "overlay",
              "size": 10,
              "solidity": 0.2
             }
            },
            "type": "barpolar"
           }
          ],
          "carpet": [
           {
            "aaxis": {
             "endlinecolor": "#2a3f5f",
             "gridcolor": "white",
             "linecolor": "white",
             "minorgridcolor": "white",
             "startlinecolor": "#2a3f5f"
            },
            "baxis": {
             "endlinecolor": "#2a3f5f",
             "gridcolor": "white",
             "linecolor": "white",
             "minorgridcolor": "white",
             "startlinecolor": "#2a3f5f"
            },
            "type": "carpet"
           }
          ],
          "choropleth": [
           {
            "colorbar": {
             "outlinewidth": 0,
             "ticks": ""
            },
            "type": "choropleth"
           }
          ],
          "contour": [
           {
            "colorbar": {
             "outlinewidth": 0,
             "ticks": ""
            },
            "colorscale": [
             [
              0,
              "#0d0887"
             ],
             [
              0.1111111111111111,
              "#46039f"
             ],
             [
              0.2222222222222222,
              "#7201a8"
             ],
             [
              0.3333333333333333,
              "#9c179e"
             ],
             [
              0.4444444444444444,
              "#bd3786"
             ],
             [
              0.5555555555555556,
              "#d8576b"
             ],
             [
              0.6666666666666666,
              "#ed7953"
             ],
             [
              0.7777777777777778,
              "#fb9f3a"
             ],
             [
              0.8888888888888888,
              "#fdca26"
             ],
             [
              1,
              "#f0f921"
             ]
            ],
            "type": "contour"
           }
          ],
          "contourcarpet": [
           {
            "colorbar": {
             "outlinewidth": 0,
             "ticks": ""
            },
            "type": "contourcarpet"
           }
          ],
          "heatmap": [
           {
            "colorbar": {
             "outlinewidth": 0,
             "ticks": ""
            },
            "colorscale": [
             [
              0,
              "#0d0887"
             ],
             [
              0.1111111111111111,
              "#46039f"
             ],
             [
              0.2222222222222222,
              "#7201a8"
             ],
             [
              0.3333333333333333,
              "#9c179e"
             ],
             [
              0.4444444444444444,
              "#bd3786"
             ],
             [
              0.5555555555555556,
              "#d8576b"
             ],
             [
              0.6666666666666666,
              "#ed7953"
             ],
             [
              0.7777777777777778,
              "#fb9f3a"
             ],
             [
              0.8888888888888888,
              "#fdca26"
             ],
             [
              1,
              "#f0f921"
             ]
            ],
            "type": "heatmap"
           }
          ],
          "heatmapgl": [
           {
            "colorbar": {
             "outlinewidth": 0,
             "ticks": ""
            },
            "colorscale": [
             [
              0,
              "#0d0887"
             ],
             [
              0.1111111111111111,
              "#46039f"
             ],
             [
              0.2222222222222222,
              "#7201a8"
             ],
             [
              0.3333333333333333,
              "#9c179e"
             ],
             [
              0.4444444444444444,
              "#bd3786"
             ],
             [
              0.5555555555555556,
              "#d8576b"
             ],
             [
              0.6666666666666666,
              "#ed7953"
             ],
             [
              0.7777777777777778,
              "#fb9f3a"
             ],
             [
              0.8888888888888888,
              "#fdca26"
             ],
             [
              1,
              "#f0f921"
             ]
            ],
            "type": "heatmapgl"
           }
          ],
          "histogram": [
           {
            "marker": {
             "pattern": {
              "fillmode": "overlay",
              "size": 10,
              "solidity": 0.2
             }
            },
            "type": "histogram"
           }
          ],
          "histogram2d": [
           {
            "colorbar": {
             "outlinewidth": 0,
             "ticks": ""
            },
            "colorscale": [
             [
              0,
              "#0d0887"
             ],
             [
              0.1111111111111111,
              "#46039f"
             ],
             [
              0.2222222222222222,
              "#7201a8"
             ],
             [
              0.3333333333333333,
              "#9c179e"
             ],
             [
              0.4444444444444444,
              "#bd3786"
             ],
             [
              0.5555555555555556,
              "#d8576b"
             ],
             [
              0.6666666666666666,
              "#ed7953"
             ],
             [
              0.7777777777777778,
              "#fb9f3a"
             ],
             [
              0.8888888888888888,
              "#fdca26"
             ],
             [
              1,
              "#f0f921"
             ]
            ],
            "type": "histogram2d"
           }
          ],
          "histogram2dcontour": [
           {
            "colorbar": {
             "outlinewidth": 0,
             "ticks": ""
            },
            "colorscale": [
             [
              0,
              "#0d0887"
             ],
             [
              0.1111111111111111,
              "#46039f"
             ],
             [
              0.2222222222222222,
              "#7201a8"
             ],
             [
              0.3333333333333333,
              "#9c179e"
             ],
             [
              0.4444444444444444,
              "#bd3786"
             ],
             [
              0.5555555555555556,
              "#d8576b"
             ],
             [
              0.6666666666666666,
              "#ed7953"
             ],
             [
              0.7777777777777778,
              "#fb9f3a"
             ],
             [
              0.8888888888888888,
              "#fdca26"
             ],
             [
              1,
              "#f0f921"
             ]
            ],
            "type": "histogram2dcontour"
           }
          ],
          "mesh3d": [
           {
            "colorbar": {
             "outlinewidth": 0,
             "ticks": ""
            },
            "type": "mesh3d"
           }
          ],
          "parcoords": [
           {
            "line": {
             "colorbar": {
              "outlinewidth": 0,
              "ticks": ""
             }
            },
            "type": "parcoords"
           }
          ],
          "pie": [
           {
            "automargin": true,
            "type": "pie"
           }
          ],
          "scatter": [
           {
            "fillpattern": {
             "fillmode": "overlay",
             "size": 10,
             "solidity": 0.2
            },
            "type": "scatter"
           }
          ],
          "scatter3d": [
           {
            "line": {
             "colorbar": {
              "outlinewidth": 0,
              "ticks": ""
             }
            },
            "marker": {
             "colorbar": {
              "outlinewidth": 0,
              "ticks": ""
             }
            },
            "type": "scatter3d"
           }
          ],
          "scattercarpet": [
           {
            "marker": {
             "colorbar": {
              "outlinewidth": 0,
              "ticks": ""
             }
            },
            "type": "scattercarpet"
           }
          ],
          "scattergeo": [
           {
            "marker": {
             "colorbar": {
              "outlinewidth": 0,
              "ticks": ""
             }
            },
            "type": "scattergeo"
           }
          ],
          "scattergl": [
           {
            "marker": {
             "colorbar": {
              "outlinewidth": 0,
              "ticks": ""
             }
            },
            "type": "scattergl"
           }
          ],
          "scattermapbox": [
           {
            "marker": {
             "colorbar": {
              "outlinewidth": 0,
              "ticks": ""
             }
            },
            "type": "scattermapbox"
           }
          ],
          "scatterpolar": [
           {
            "marker": {
             "colorbar": {
              "outlinewidth": 0,
              "ticks": ""
             }
            },
            "type": "scatterpolar"
           }
          ],
          "scatterpolargl": [
           {
            "marker": {
             "colorbar": {
              "outlinewidth": 0,
              "ticks": ""
             }
            },
            "type": "scatterpolargl"
           }
          ],
          "scatterternary": [
           {
            "marker": {
             "colorbar": {
              "outlinewidth": 0,
              "ticks": ""
             }
            },
            "type": "scatterternary"
           }
          ],
          "surface": [
           {
            "colorbar": {
             "outlinewidth": 0,
             "ticks": ""
            },
            "colorscale": [
             [
              0,
              "#0d0887"
             ],
             [
              0.1111111111111111,
              "#46039f"
             ],
             [
              0.2222222222222222,
              "#7201a8"
             ],
             [
              0.3333333333333333,
              "#9c179e"
             ],
             [
              0.4444444444444444,
              "#bd3786"
             ],
             [
              0.5555555555555556,
              "#d8576b"
             ],
             [
              0.6666666666666666,
              "#ed7953"
             ],
             [
              0.7777777777777778,
              "#fb9f3a"
             ],
             [
              0.8888888888888888,
              "#fdca26"
             ],
             [
              1,
              "#f0f921"
             ]
            ],
            "type": "surface"
           }
          ],
          "table": [
           {
            "cells": {
             "fill": {
              "color": "#EBF0F8"
             },
             "line": {
              "color": "white"
             }
            },
            "header": {
             "fill": {
              "color": "#C8D4E3"
             },
             "line": {
              "color": "white"
             }
            },
            "type": "table"
           }
          ]
         },
         "layout": {
          "annotationdefaults": {
           "arrowcolor": "#2a3f5f",
           "arrowhead": 0,
           "arrowwidth": 1
          },
          "autotypenumbers": "strict",
          "coloraxis": {
           "colorbar": {
            "outlinewidth": 0,
            "ticks": ""
           }
          },
          "colorscale": {
           "diverging": [
            [
             0,
             "#8e0152"
            ],
            [
             0.1,
             "#c51b7d"
            ],
            [
             0.2,
             "#de77ae"
            ],
            [
             0.3,
             "#f1b6da"
            ],
            [
             0.4,
             "#fde0ef"
            ],
            [
             0.5,
             "#f7f7f7"
            ],
            [
             0.6,
             "#e6f5d0"
            ],
            [
             0.7,
             "#b8e186"
            ],
            [
             0.8,
             "#7fbc41"
            ],
            [
             0.9,
             "#4d9221"
            ],
            [
             1,
             "#276419"
            ]
           ],
           "sequential": [
            [
             0,
             "#0d0887"
            ],
            [
             0.1111111111111111,
             "#46039f"
            ],
            [
             0.2222222222222222,
             "#7201a8"
            ],
            [
             0.3333333333333333,
             "#9c179e"
            ],
            [
             0.4444444444444444,
             "#bd3786"
            ],
            [
             0.5555555555555556,
             "#d8576b"
            ],
            [
             0.6666666666666666,
             "#ed7953"
            ],
            [
             0.7777777777777778,
             "#fb9f3a"
            ],
            [
             0.8888888888888888,
             "#fdca26"
            ],
            [
             1,
             "#f0f921"
            ]
           ],
           "sequentialminus": [
            [
             0,
             "#0d0887"
            ],
            [
             0.1111111111111111,
             "#46039f"
            ],
            [
             0.2222222222222222,
             "#7201a8"
            ],
            [
             0.3333333333333333,
             "#9c179e"
            ],
            [
             0.4444444444444444,
             "#bd3786"
            ],
            [
             0.5555555555555556,
             "#d8576b"
            ],
            [
             0.6666666666666666,
             "#ed7953"
            ],
            [
             0.7777777777777778,
             "#fb9f3a"
            ],
            [
             0.8888888888888888,
             "#fdca26"
            ],
            [
             1,
             "#f0f921"
            ]
           ]
          },
          "colorway": [
           "#636efa",
           "#EF553B",
           "#00cc96",
           "#ab63fa",
           "#FFA15A",
           "#19d3f3",
           "#FF6692",
           "#B6E880",
           "#FF97FF",
           "#FECB52"
          ],
          "font": {
           "color": "#2a3f5f"
          },
          "geo": {
           "bgcolor": "white",
           "lakecolor": "white",
           "landcolor": "#E5ECF6",
           "showlakes": true,
           "showland": true,
           "subunitcolor": "white"
          },
          "hoverlabel": {
           "align": "left"
          },
          "hovermode": "closest",
          "mapbox": {
           "style": "light"
          },
          "paper_bgcolor": "white",
          "plot_bgcolor": "#E5ECF6",
          "polar": {
           "angularaxis": {
            "gridcolor": "white",
            "linecolor": "white",
            "ticks": ""
           },
           "bgcolor": "#E5ECF6",
           "radialaxis": {
            "gridcolor": "white",
            "linecolor": "white",
            "ticks": ""
           }
          },
          "scene": {
           "xaxis": {
            "backgroundcolor": "#E5ECF6",
            "gridcolor": "white",
            "gridwidth": 2,
            "linecolor": "white",
            "showbackground": true,
            "ticks": "",
            "zerolinecolor": "white"
           },
           "yaxis": {
            "backgroundcolor": "#E5ECF6",
            "gridcolor": "white",
            "gridwidth": 2,
            "linecolor": "white",
            "showbackground": true,
            "ticks": "",
            "zerolinecolor": "white"
           },
           "zaxis": {
            "backgroundcolor": "#E5ECF6",
            "gridcolor": "white",
            "gridwidth": 2,
            "linecolor": "white",
            "showbackground": true,
            "ticks": "",
            "zerolinecolor": "white"
           }
          },
          "shapedefaults": {
           "line": {
            "color": "#2a3f5f"
           }
          },
          "ternary": {
           "aaxis": {
            "gridcolor": "white",
            "linecolor": "white",
            "ticks": ""
           },
           "baxis": {
            "gridcolor": "white",
            "linecolor": "white",
            "ticks": ""
           },
           "bgcolor": "#E5ECF6",
           "caxis": {
            "gridcolor": "white",
            "linecolor": "white",
            "ticks": ""
           }
          },
          "title": {
           "x": 0.05
          },
          "xaxis": {
           "automargin": true,
           "gridcolor": "white",
           "linecolor": "white",
           "ticks": "",
           "title": {
            "standoff": 15
           },
           "zerolinecolor": "white",
           "zerolinewidth": 2
          },
          "yaxis": {
           "automargin": true,
           "gridcolor": "white",
           "linecolor": "white",
           "ticks": "",
           "title": {
            "standoff": 15
           },
           "zerolinecolor": "white",
           "zerolinewidth": 2
          }
         }
        },
        "title": {
         "text": "Optimization History Plot"
        },
        "xaxis": {
         "title": {
          "text": "#Trials"
         }
        },
        "yaxis": {
         "title": {
          "text": "Objective Value"
         }
        }
       }
      }
     },
     "metadata": {},
     "output_type": "display_data"
    }
   ],
   "source": [
    "study_dt = create_new_mlrun(model_type='decision-tree')\n",
    "optuna.visualization.plot_optimization_history(study_dt)"
   ]
  },
  {
   "cell_type": "code",
   "execution_count": 13,
   "metadata": {},
   "outputs": [],
   "source": [
    "mlflow.end_run()"
   ]
  },
  {
   "cell_type": "code",
   "execution_count": null,
   "metadata": {},
   "outputs": [],
   "source": []
  }
 ],
 "metadata": {
  "kernelspec": {
   "display_name": "Python 3.9.12 ('mlflow_optuna')",
   "language": "python",
   "name": "python3"
  },
  "language_info": {
   "codemirror_mode": {
    "name": "ipython",
    "version": 3
   },
   "file_extension": ".py",
   "mimetype": "text/x-python",
   "name": "python",
   "nbconvert_exporter": "python",
   "pygments_lexer": "ipython3",
   "version": "3.9.12 (main, Apr  4 2022, 05:22:27) [MSC v.1916 64 bit (AMD64)]"
  },
  "orig_nbformat": 4,
  "vscode": {
   "interpreter": {
    "hash": "4aa63c7bcea9117a32328ad03333d01dc516bdcdb33b6eb92ab7a393341400f2"
   }
  }
 },
 "nbformat": 4,
 "nbformat_minor": 2
}
