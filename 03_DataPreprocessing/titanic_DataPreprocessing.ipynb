{
 "cells": [
  {
   "cell_type": "markdown",
   "metadata": {},
   "source": [
    "# Data Preprocessing of the Kaggle Titanic Dataset"
   ]
  },
  {
   "cell_type": "markdown",
   "metadata": {},
   "source": [
    "## Import all Libraries"
   ]
  },
  {
   "cell_type": "code",
   "execution_count": 1,
   "metadata": {},
   "outputs": [
    {
     "name": "stdout",
     "output_type": "stream",
     "text": [
      "pandas version: 1.4.2\n",
      "numpy version: 1.21.5\n",
      "sklearn version: 1.0.2\n",
      "matplotlib version: 3.5.1\n",
      "seaborn version: 0.11.2\n"
     ]
    }
   ],
   "source": [
    "# pandas: handle the datasets in the pandas dataframe for data processing and analysis\n",
    "import pandas as pd\n",
    "print(\"pandas version: {}\". format(pd.__version__))\n",
    "\n",
    "# numpy: apply high-level mathematical functions\n",
    "import numpy as np\n",
    "print(\"numpy version: {}\". format(np.__version__))\n",
    "\n",
    "import sklearn\n",
    "print(\"sklearn version: {}\". format(sklearn.__version__))\n",
    "\n",
    "# matplotlib: standard library to create visualizations\n",
    "import matplotlib\n",
    "import matplotlib.pyplot as plt\n",
    "print(\"matplotlib version: {}\". format(matplotlib.__version__))\n",
    "\n",
    "# seaborn: advanced visualization library to create more advanced charts\n",
    "import seaborn as sns\n",
    "print(\"seaborn version: {}\". format(sns.__version__))\n",
    "\n",
    "# turn out warnings for better reading in the Jupyter notebbok\n",
    "pd.options.mode.chained_assignment = None  # default='warn'"
   ]
  },
  {
   "cell_type": "markdown",
   "metadata": {},
   "source": [
    "## Load the processed Datasets\n",
    "Load the saved processed training and test dataset pkl file. Make sure that you maybe have to change the folder path."
   ]
  },
  {
   "cell_type": "code",
   "execution_count": 2,
   "metadata": {},
   "outputs": [],
   "source": [
    "df_train = pd.read_pickle('../02_DataAnalysis/df_train.pkl')\n",
    "df_test = pd.read_pickle('../02_DataAnalysis/df_test.pkl')"
   ]
  },
  {
   "cell_type": "code",
   "execution_count": 3,
   "metadata": {},
   "outputs": [],
   "source": [
    "def pivot_survival_rate(df_train, target_column):\n",
    "    # create a pivot table with the trget_column as index and \"Survived\" as columns\n",
    "    # count the number of entries of \"PassengerId\" for each combination of trget_column and \"Survived\" and fill all empty cells with 0\n",
    "    df_pivot = pd.pivot_table(\n",
    "        df_train[['PassengerId', target_column, 'Survived']],\n",
    "        index=[target_column],\n",
    "        columns=[\"Survived\"],\n",
    "        aggfunc='count',\n",
    "        fill_value=0)\\\n",
    "        .reset_index()\n",
    "\n",
    "    # rename the columns to avoid numbers as column name\n",
    "    df_pivot.columns = [target_column, 'not_survived', 'survived']\n",
    "\n",
    "    # create a new column with the total number of survived and not survived passengers\n",
    "    df_pivot['passengers'] = df_pivot['not_survived']+df_pivot['survived']\n",
    "\n",
    "    # create a new column with the proportion of survivors to total passengers\n",
    "    df_pivot['survival_rate'] = df_pivot['survived']/df_pivot['passengers']*100\n",
    "\n",
    "    print(df_pivot.to_markdown())\n",
    "    return df_pivot"
   ]
  },
  {
   "cell_type": "markdown",
   "metadata": {},
   "source": [
    "## Feature Engineering (1/2)\n",
    "The objective of feature engineering is to prepare the input datasets that the machine learning algorithms can work properly with the input data and also improve its performance regarding runtime or/and accuracy. **All new features must be computed for the training and test dataset**."
   ]
  },
  {
   "cell_type": "markdown",
   "metadata": {},
   "source": [
    "### New features: Family and Family_Grouped\n",
    "Create two new features \"Family\" and \"Family_Grouped\" that defines the family situation of the passenger based on number of siblings / spouses (\"SibSp\") and parents / children (\"Parch\")\n",
    "\n",
    "- \"Family_Grouped\" = 1: the passenger is alone\n",
    "- \"Family_Grouped\" = 2...4: the passenger is part of a small family\n",
    "- \"Family_Grouped\" = 5...6: the passenger is part of a medium family\n",
    "- \"Family_Grouped\" = 7...11: the passenger is part of a large family"
   ]
  },
  {
   "cell_type": "code",
   "execution_count": 4,
   "metadata": {},
   "outputs": [],
   "source": [
    "def get_family(df):\n",
    "    df['Family'] = df[\"Parch\"] + df[\"SibSp\"] + 1\n",
    "    \n",
    "    family_map = {\n",
    "        1: 'Alone',\n",
    "        2: 'Small',\n",
    "        3: 'Small',\n",
    "        4: 'Small',\n",
    "        5: 'Medium',\n",
    "        6: 'Medium',\n",
    "        7: 'Large',\n",
    "        8: 'Large',\n",
    "        9: 'Large',\n",
    "        10: 'Large',\n",
    "        11: 'Large'}\n",
    "    df['Family_Grouped'] = df['Family'].map(family_map)\n",
    "    \n",
    "    return df\n",
    "\n",
    "df_train = get_family(df_train)\n",
    "df_test = get_family(df_test)"
   ]
  },
  {
   "cell_type": "markdown",
   "metadata": {},
   "source": [
    "After creating the new \"Family\" feature, we want to know if there was a higher survival rate for families. We use the same function, that we created in the data analysis notebook."
   ]
  },
  {
   "cell_type": "code",
   "execution_count": 5,
   "metadata": {},
   "outputs": [
    {
     "name": "stdout",
     "output_type": "stream",
     "text": [
      "|    | Family_Grouped   |   not_survived |   survived |   passengers |   survival_rate |\n",
      "|---:|:-----------------|---------------:|-----------:|-------------:|----------------:|\n",
      "|  0 | Alone            |            374 |        163 |          537 |         30.3538 |\n",
      "|  1 | Large            |             21 |          4 |           25 |         16      |\n",
      "|  2 | Medium           |             31 |          6 |           37 |         16.2162 |\n",
      "|  3 | Small            |            123 |        169 |          292 |         57.8767 |\n"
     ]
    }
   ],
   "source": [
    "_ = pivot_survival_rate(df_train, \"Family_Grouped\")"
   ]
  },
  {
   "cell_type": "markdown",
   "metadata": {},
   "source": [
    "#### Result\n",
    "- From the table we see that the highest survival rate (57%) had passengers in small families between 2 and 4 passengers.\n",
    "- Large and medium sized families had the lowest survival rate (16%).\n",
    "- Interesting  is that passengers traveling alone were almost twice as likely to survive with 30%."
   ]
  },
  {
   "cell_type": "markdown",
   "metadata": {},
   "source": [
    "### New features from Name\n",
    "\n",
    "- **First**: first name of the passenger\n",
    "- **Last**: last name of the passenger\n",
    "- **Title**: title of the passenger\n",
    "\n",
    "From the family name, we can get additional information that we want to use to group family members. The assumption is that either all family members survived or died. We test this hypothesis by extracting the first and last name as well as the title from each name and calculate the survival rate for each family, defined by the same last name."
   ]
  },
  {
   "cell_type": "code",
   "execution_count": 6,
   "metadata": {},
   "outputs": [],
   "source": [
    "# combine the training and test dataset\n",
    "df_train[\"dataset\"] = \"train\"\n",
    "df_test[\"dataset\"] = \"test\"\n",
    "df_merge = pd.concat([df_train, df_test])"
   ]
  },
  {
   "cell_type": "code",
   "execution_count": 7,
   "metadata": {},
   "outputs": [
    {
     "data": {
      "text/plain": [
       "array([['Braund, Mr. Owen Harris'],\n",
       "       ['Cumings, Mrs. John Bradley (Florence Briggs Thayer)'],\n",
       "       ['Heikkinen, Miss. Laina'],\n",
       "       ['Futrelle, Mrs. Jacques Heath (Lily May Peel)'],\n",
       "       ['Allen, Mr. William Henry'],\n",
       "       ['Moran, Mr. James'],\n",
       "       ['McCarthy, Mr. Timothy J'],\n",
       "       ['Palsson, Master. Gosta Leonard'],\n",
       "       ['Johnson, Mrs. Oscar W (Elisabeth Vilhelmina Berg)'],\n",
       "       ['Nasser, Mrs. Nicholas (Adele Achem)']], dtype=object)"
      ]
     },
     "execution_count": 7,
     "metadata": {},
     "output_type": "execute_result"
    }
   ],
   "source": [
    "df_merge[[\"Name\"]].values[:10]"
   ]
  },
  {
   "cell_type": "markdown",
   "metadata": {},
   "source": [
    "From the first lines, we see that the name feature has a defined structure that we can use to extract the attributes of the name."
   ]
  },
  {
   "cell_type": "code",
   "execution_count": 8,
   "metadata": {},
   "outputs": [],
   "source": [
    "def get_name_information(df):\n",
    "    \"\"\"\n",
    "    extract the title, first name and last name from the name feature\n",
    "    \"\"\"\n",
    "    df[['Last','First']] = df['Name'].str.split(\",\", n=1, expand=True)\n",
    "    df[['Title','First']] = df['First'].str.split(\".\", n=1, expand=True)\n",
    "\n",
    "    # remove the whitespace from the title\n",
    "    df['Title'] = df['Title'].str.replace(' ', '')\n",
    "\n",
    "    return df"
   ]
  },
  {
   "cell_type": "code",
   "execution_count": 9,
   "metadata": {},
   "outputs": [
    {
     "data": {
      "text/html": [
       "<div>\n",
       "<style scoped>\n",
       "    .dataframe tbody tr th:only-of-type {\n",
       "        vertical-align: middle;\n",
       "    }\n",
       "\n",
       "    .dataframe tbody tr th {\n",
       "        vertical-align: top;\n",
       "    }\n",
       "\n",
       "    .dataframe thead th {\n",
       "        text-align: right;\n",
       "    }\n",
       "</style>\n",
       "<table border=\"1\" class=\"dataframe\">\n",
       "  <thead>\n",
       "    <tr style=\"text-align: right;\">\n",
       "      <th>dataset</th>\n",
       "      <th>test</th>\n",
       "      <th>train</th>\n",
       "    </tr>\n",
       "    <tr>\n",
       "      <th>Last</th>\n",
       "      <th></th>\n",
       "      <th></th>\n",
       "    </tr>\n",
       "  </thead>\n",
       "  <tbody>\n",
       "    <tr>\n",
       "      <th>Andersson</th>\n",
       "      <td>2.0</td>\n",
       "      <td>9.0</td>\n",
       "    </tr>\n",
       "    <tr>\n",
       "      <th>Sage</th>\n",
       "      <td>4.0</td>\n",
       "      <td>7.0</td>\n",
       "    </tr>\n",
       "    <tr>\n",
       "      <th>Skoog</th>\n",
       "      <td>NaN</td>\n",
       "      <td>6.0</td>\n",
       "    </tr>\n",
       "    <tr>\n",
       "      <th>Carter</th>\n",
       "      <td>NaN</td>\n",
       "      <td>6.0</td>\n",
       "    </tr>\n",
       "    <tr>\n",
       "      <th>Goodwin</th>\n",
       "      <td>2.0</td>\n",
       "      <td>6.0</td>\n",
       "    </tr>\n",
       "    <tr>\n",
       "      <th>...</th>\n",
       "      <td>...</td>\n",
       "      <td>...</td>\n",
       "    </tr>\n",
       "    <tr>\n",
       "      <th>Wilson</th>\n",
       "      <td>1.0</td>\n",
       "      <td>NaN</td>\n",
       "    </tr>\n",
       "    <tr>\n",
       "      <th>Wirz</th>\n",
       "      <td>1.0</td>\n",
       "      <td>NaN</td>\n",
       "    </tr>\n",
       "    <tr>\n",
       "      <th>Wittevrongel</th>\n",
       "      <td>1.0</td>\n",
       "      <td>NaN</td>\n",
       "    </tr>\n",
       "    <tr>\n",
       "      <th>Zakarian</th>\n",
       "      <td>2.0</td>\n",
       "      <td>NaN</td>\n",
       "    </tr>\n",
       "    <tr>\n",
       "      <th>de Brito</th>\n",
       "      <td>1.0</td>\n",
       "      <td>NaN</td>\n",
       "    </tr>\n",
       "  </tbody>\n",
       "</table>\n",
       "<p>875 rows × 2 columns</p>\n",
       "</div>"
      ],
      "text/plain": [
       "dataset       test  train\n",
       "Last                     \n",
       "Andersson      2.0    9.0\n",
       "Sage           4.0    7.0\n",
       "Skoog          NaN    6.0\n",
       "Carter         NaN    6.0\n",
       "Goodwin        2.0    6.0\n",
       "...            ...    ...\n",
       "Wilson         1.0    NaN\n",
       "Wirz           1.0    NaN\n",
       "Wittevrongel   1.0    NaN\n",
       "Zakarian       2.0    NaN\n",
       "de Brito       1.0    NaN\n",
       "\n",
       "[875 rows x 2 columns]"
      ]
     },
     "execution_count": 9,
     "metadata": {},
     "output_type": "execute_result"
    }
   ],
   "source": [
    "# use the merged dataset to view if the training and test dataset contain family names\n",
    "df_merge = get_name_information(df_merge)\n",
    "\n",
    "last_pivot = pd.pivot_table(\n",
    "    df_merge,\n",
    "    values='Name',\n",
    "    index='Last',\n",
    "    columns='dataset',\n",
    "    aggfunc='count'\n",
    "    )\\\n",
    "    .sort_values(['train'], ascending=False)\n",
    "\n",
    "last_pivot"
   ]
  },
  {
   "cell_type": "markdown",
   "metadata": {},
   "source": [
    "From the pivot table we see that there are families where we have passengers in the training and test dataset, but also families that are only in the training or only in the test dataset. Only if **family members are in the training and test dataset, the machine learning algorithm is able to get valuable information**."
   ]
  },
  {
   "cell_type": "code",
   "execution_count": 10,
   "metadata": {},
   "outputs": [
    {
     "name": "stdout",
     "output_type": "stream",
     "text": [
      "Number of families that are only in the training data: 523\n",
      "Number of families that are only in the test data: 208\n",
      "Number of families that are in the training and test data: 144\n"
     ]
    }
   ],
   "source": [
    "print(\"Number of families that are only in the training data: \" + str(len(last_pivot[last_pivot.test.isnull()])))\n",
    "print(\"Number of families that are only in the test data: \" + str(len(last_pivot[last_pivot.train.isnull()])))\n",
    "print(\"Number of families that are in the training and test data: \" + str(len(last_pivot[last_pivot.notnull().all(axis=1)])))"
   ]
  },
  {
   "cell_type": "markdown",
   "metadata": {},
   "source": [
    "Take a closer look into the two largest families"
   ]
  },
  {
   "cell_type": "code",
   "execution_count": 11,
   "metadata": {},
   "outputs": [
    {
     "data": {
      "text/html": [
       "<div>\n",
       "<style scoped>\n",
       "    .dataframe tbody tr th:only-of-type {\n",
       "        vertical-align: middle;\n",
       "    }\n",
       "\n",
       "    .dataframe tbody tr th {\n",
       "        vertical-align: top;\n",
       "    }\n",
       "\n",
       "    .dataframe thead th {\n",
       "        text-align: right;\n",
       "    }\n",
       "</style>\n",
       "<table border=\"1\" class=\"dataframe\">\n",
       "  <thead>\n",
       "    <tr style=\"text-align: right;\">\n",
       "      <th></th>\n",
       "      <th>PassengerId</th>\n",
       "      <th>Survived</th>\n",
       "      <th>Pclass</th>\n",
       "      <th>Name</th>\n",
       "      <th>Sex</th>\n",
       "      <th>Age</th>\n",
       "      <th>SibSp</th>\n",
       "      <th>Parch</th>\n",
       "      <th>Ticket</th>\n",
       "      <th>Fare</th>\n",
       "      <th>Cabin</th>\n",
       "      <th>Embarked</th>\n",
       "      <th>Age_category</th>\n",
       "      <th>Family</th>\n",
       "      <th>Family_Grouped</th>\n",
       "      <th>dataset</th>\n",
       "      <th>Last</th>\n",
       "      <th>First</th>\n",
       "      <th>Title</th>\n",
       "    </tr>\n",
       "  </thead>\n",
       "  <tbody>\n",
       "    <tr>\n",
       "      <th>13</th>\n",
       "      <td>14</td>\n",
       "      <td>0.0</td>\n",
       "      <td>3</td>\n",
       "      <td>Andersson, Mr. Anders Johan</td>\n",
       "      <td>male</td>\n",
       "      <td>39.0</td>\n",
       "      <td>1</td>\n",
       "      <td>5</td>\n",
       "      <td>347082</td>\n",
       "      <td>31.2750</td>\n",
       "      <td>NaN</td>\n",
       "      <td>S</td>\n",
       "      <td>adult</td>\n",
       "      <td>7</td>\n",
       "      <td>Large</td>\n",
       "      <td>train</td>\n",
       "      <td>Andersson</td>\n",
       "      <td>Anders Johan</td>\n",
       "      <td>Mr</td>\n",
       "    </tr>\n",
       "    <tr>\n",
       "      <th>68</th>\n",
       "      <td>69</td>\n",
       "      <td>1.0</td>\n",
       "      <td>3</td>\n",
       "      <td>Andersson, Miss. Erna Alexandra</td>\n",
       "      <td>female</td>\n",
       "      <td>17.0</td>\n",
       "      <td>4</td>\n",
       "      <td>2</td>\n",
       "      <td>3101281</td>\n",
       "      <td>7.9250</td>\n",
       "      <td>NaN</td>\n",
       "      <td>S</td>\n",
       "      <td>adult</td>\n",
       "      <td>7</td>\n",
       "      <td>Large</td>\n",
       "      <td>train</td>\n",
       "      <td>Andersson</td>\n",
       "      <td>Erna Alexandra</td>\n",
       "      <td>Miss</td>\n",
       "    </tr>\n",
       "    <tr>\n",
       "      <th>119</th>\n",
       "      <td>120</td>\n",
       "      <td>0.0</td>\n",
       "      <td>3</td>\n",
       "      <td>Andersson, Miss. Ellis Anna Maria</td>\n",
       "      <td>female</td>\n",
       "      <td>2.0</td>\n",
       "      <td>4</td>\n",
       "      <td>2</td>\n",
       "      <td>347082</td>\n",
       "      <td>31.2750</td>\n",
       "      <td>NaN</td>\n",
       "      <td>S</td>\n",
       "      <td>children</td>\n",
       "      <td>7</td>\n",
       "      <td>Large</td>\n",
       "      <td>train</td>\n",
       "      <td>Andersson</td>\n",
       "      <td>Ellis Anna Maria</td>\n",
       "      <td>Miss</td>\n",
       "    </tr>\n",
       "    <tr>\n",
       "      <th>146</th>\n",
       "      <td>147</td>\n",
       "      <td>1.0</td>\n",
       "      <td>3</td>\n",
       "      <td>Andersson, Mr. August Edvard (\"Wennerstrom\")</td>\n",
       "      <td>male</td>\n",
       "      <td>27.0</td>\n",
       "      <td>0</td>\n",
       "      <td>0</td>\n",
       "      <td>350043</td>\n",
       "      <td>7.7958</td>\n",
       "      <td>NaN</td>\n",
       "      <td>S</td>\n",
       "      <td>adult</td>\n",
       "      <td>1</td>\n",
       "      <td>Alone</td>\n",
       "      <td>train</td>\n",
       "      <td>Andersson</td>\n",
       "      <td>August Edvard (\"Wennerstrom\")</td>\n",
       "      <td>Mr</td>\n",
       "    </tr>\n",
       "    <tr>\n",
       "      <th>541</th>\n",
       "      <td>542</td>\n",
       "      <td>0.0</td>\n",
       "      <td>3</td>\n",
       "      <td>Andersson, Miss. Ingeborg Constanzia</td>\n",
       "      <td>female</td>\n",
       "      <td>9.0</td>\n",
       "      <td>4</td>\n",
       "      <td>2</td>\n",
       "      <td>347082</td>\n",
       "      <td>31.2750</td>\n",
       "      <td>NaN</td>\n",
       "      <td>S</td>\n",
       "      <td>children</td>\n",
       "      <td>7</td>\n",
       "      <td>Large</td>\n",
       "      <td>train</td>\n",
       "      <td>Andersson</td>\n",
       "      <td>Ingeborg Constanzia</td>\n",
       "      <td>Miss</td>\n",
       "    </tr>\n",
       "    <tr>\n",
       "      <th>542</th>\n",
       "      <td>543</td>\n",
       "      <td>0.0</td>\n",
       "      <td>3</td>\n",
       "      <td>Andersson, Miss. Sigrid Elisabeth</td>\n",
       "      <td>female</td>\n",
       "      <td>11.0</td>\n",
       "      <td>4</td>\n",
       "      <td>2</td>\n",
       "      <td>347082</td>\n",
       "      <td>31.2750</td>\n",
       "      <td>NaN</td>\n",
       "      <td>S</td>\n",
       "      <td>children</td>\n",
       "      <td>7</td>\n",
       "      <td>Large</td>\n",
       "      <td>train</td>\n",
       "      <td>Andersson</td>\n",
       "      <td>Sigrid Elisabeth</td>\n",
       "      <td>Miss</td>\n",
       "    </tr>\n",
       "    <tr>\n",
       "      <th>610</th>\n",
       "      <td>611</td>\n",
       "      <td>0.0</td>\n",
       "      <td>3</td>\n",
       "      <td>Andersson, Mrs. Anders Johan (Alfrida Konstant...</td>\n",
       "      <td>female</td>\n",
       "      <td>39.0</td>\n",
       "      <td>1</td>\n",
       "      <td>5</td>\n",
       "      <td>347082</td>\n",
       "      <td>31.2750</td>\n",
       "      <td>NaN</td>\n",
       "      <td>S</td>\n",
       "      <td>adult</td>\n",
       "      <td>7</td>\n",
       "      <td>Large</td>\n",
       "      <td>train</td>\n",
       "      <td>Andersson</td>\n",
       "      <td>Anders Johan (Alfrida Konstantia Brogren)</td>\n",
       "      <td>Mrs</td>\n",
       "    </tr>\n",
       "    <tr>\n",
       "      <th>813</th>\n",
       "      <td>814</td>\n",
       "      <td>0.0</td>\n",
       "      <td>3</td>\n",
       "      <td>Andersson, Miss. Ebba Iris Alfrida</td>\n",
       "      <td>female</td>\n",
       "      <td>6.0</td>\n",
       "      <td>4</td>\n",
       "      <td>2</td>\n",
       "      <td>347082</td>\n",
       "      <td>31.2750</td>\n",
       "      <td>NaN</td>\n",
       "      <td>S</td>\n",
       "      <td>children</td>\n",
       "      <td>7</td>\n",
       "      <td>Large</td>\n",
       "      <td>train</td>\n",
       "      <td>Andersson</td>\n",
       "      <td>Ebba Iris Alfrida</td>\n",
       "      <td>Miss</td>\n",
       "    </tr>\n",
       "    <tr>\n",
       "      <th>850</th>\n",
       "      <td>851</td>\n",
       "      <td>0.0</td>\n",
       "      <td>3</td>\n",
       "      <td>Andersson, Master. Sigvard Harald Elias</td>\n",
       "      <td>male</td>\n",
       "      <td>4.0</td>\n",
       "      <td>4</td>\n",
       "      <td>2</td>\n",
       "      <td>347082</td>\n",
       "      <td>31.2750</td>\n",
       "      <td>NaN</td>\n",
       "      <td>S</td>\n",
       "      <td>children</td>\n",
       "      <td>7</td>\n",
       "      <td>Large</td>\n",
       "      <td>train</td>\n",
       "      <td>Andersson</td>\n",
       "      <td>Sigvard Harald Elias</td>\n",
       "      <td>Master</td>\n",
       "    </tr>\n",
       "    <tr>\n",
       "      <th>214</th>\n",
       "      <td>1106</td>\n",
       "      <td>NaN</td>\n",
       "      <td>3</td>\n",
       "      <td>Andersson, Miss. Ida Augusta Margareta</td>\n",
       "      <td>female</td>\n",
       "      <td>38.0</td>\n",
       "      <td>4</td>\n",
       "      <td>2</td>\n",
       "      <td>347091</td>\n",
       "      <td>7.7750</td>\n",
       "      <td>NaN</td>\n",
       "      <td>S</td>\n",
       "      <td>adult</td>\n",
       "      <td>7</td>\n",
       "      <td>Large</td>\n",
       "      <td>test</td>\n",
       "      <td>Andersson</td>\n",
       "      <td>Ida Augusta Margareta</td>\n",
       "      <td>Miss</td>\n",
       "    </tr>\n",
       "    <tr>\n",
       "      <th>320</th>\n",
       "      <td>1212</td>\n",
       "      <td>NaN</td>\n",
       "      <td>3</td>\n",
       "      <td>Andersson, Mr. Johan Samuel</td>\n",
       "      <td>male</td>\n",
       "      <td>26.0</td>\n",
       "      <td>0</td>\n",
       "      <td>0</td>\n",
       "      <td>347075</td>\n",
       "      <td>7.7750</td>\n",
       "      <td>NaN</td>\n",
       "      <td>S</td>\n",
       "      <td>adult</td>\n",
       "      <td>1</td>\n",
       "      <td>Alone</td>\n",
       "      <td>test</td>\n",
       "      <td>Andersson</td>\n",
       "      <td>Johan Samuel</td>\n",
       "      <td>Mr</td>\n",
       "    </tr>\n",
       "  </tbody>\n",
       "</table>\n",
       "</div>"
      ],
      "text/plain": [
       "     PassengerId  Survived  Pclass  \\\n",
       "13            14       0.0       3   \n",
       "68            69       1.0       3   \n",
       "119          120       0.0       3   \n",
       "146          147       1.0       3   \n",
       "541          542       0.0       3   \n",
       "542          543       0.0       3   \n",
       "610          611       0.0       3   \n",
       "813          814       0.0       3   \n",
       "850          851       0.0       3   \n",
       "214         1106       NaN       3   \n",
       "320         1212       NaN       3   \n",
       "\n",
       "                                                  Name     Sex   Age  SibSp  \\\n",
       "13                         Andersson, Mr. Anders Johan    male  39.0      1   \n",
       "68                     Andersson, Miss. Erna Alexandra  female  17.0      4   \n",
       "119                  Andersson, Miss. Ellis Anna Maria  female   2.0      4   \n",
       "146       Andersson, Mr. August Edvard (\"Wennerstrom\")    male  27.0      0   \n",
       "541               Andersson, Miss. Ingeborg Constanzia  female   9.0      4   \n",
       "542                  Andersson, Miss. Sigrid Elisabeth  female  11.0      4   \n",
       "610  Andersson, Mrs. Anders Johan (Alfrida Konstant...  female  39.0      1   \n",
       "813                 Andersson, Miss. Ebba Iris Alfrida  female   6.0      4   \n",
       "850            Andersson, Master. Sigvard Harald Elias    male   4.0      4   \n",
       "214             Andersson, Miss. Ida Augusta Margareta  female  38.0      4   \n",
       "320                        Andersson, Mr. Johan Samuel    male  26.0      0   \n",
       "\n",
       "     Parch   Ticket     Fare Cabin Embarked Age_category  Family  \\\n",
       "13       5   347082  31.2750   NaN        S        adult       7   \n",
       "68       2  3101281   7.9250   NaN        S        adult       7   \n",
       "119      2   347082  31.2750   NaN        S     children       7   \n",
       "146      0   350043   7.7958   NaN        S        adult       1   \n",
       "541      2   347082  31.2750   NaN        S     children       7   \n",
       "542      2   347082  31.2750   NaN        S     children       7   \n",
       "610      5   347082  31.2750   NaN        S        adult       7   \n",
       "813      2   347082  31.2750   NaN        S     children       7   \n",
       "850      2   347082  31.2750   NaN        S     children       7   \n",
       "214      2   347091   7.7750   NaN        S        adult       7   \n",
       "320      0   347075   7.7750   NaN        S        adult       1   \n",
       "\n",
       "    Family_Grouped dataset       Last  \\\n",
       "13           Large   train  Andersson   \n",
       "68           Large   train  Andersson   \n",
       "119          Large   train  Andersson   \n",
       "146          Alone   train  Andersson   \n",
       "541          Large   train  Andersson   \n",
       "542          Large   train  Andersson   \n",
       "610          Large   train  Andersson   \n",
       "813          Large   train  Andersson   \n",
       "850          Large   train  Andersson   \n",
       "214          Large    test  Andersson   \n",
       "320          Alone    test  Andersson   \n",
       "\n",
       "                                          First   Title  \n",
       "13                                 Anders Johan      Mr  \n",
       "68                               Erna Alexandra    Miss  \n",
       "119                            Ellis Anna Maria    Miss  \n",
       "146               August Edvard (\"Wennerstrom\")      Mr  \n",
       "541                         Ingeborg Constanzia    Miss  \n",
       "542                            Sigrid Elisabeth    Miss  \n",
       "610   Anders Johan (Alfrida Konstantia Brogren)     Mrs  \n",
       "813                           Ebba Iris Alfrida    Miss  \n",
       "850                        Sigvard Harald Elias  Master  \n",
       "214                       Ida Augusta Margareta    Miss  \n",
       "320                                Johan Samuel      Mr  "
      ]
     },
     "execution_count": 11,
     "metadata": {},
     "output_type": "execute_result"
    }
   ],
   "source": [
    "df_merge[df_merge['Last'] == 'Andersson']"
   ]
  },
  {
   "cell_type": "markdown",
   "metadata": {},
   "source": [
    "The familiy Andersson has \n",
    "- 9 passengers in the training and 2 passengers in the test dataset\n",
    "- 2 of the 9 passengers of the training dataset survived\n",
    "\n",
    "-> If the two passengers of the test dataset survived is hard to predict based on the family name."
   ]
  },
  {
   "cell_type": "code",
   "execution_count": 12,
   "metadata": {},
   "outputs": [
    {
     "data": {
      "text/html": [
       "<div>\n",
       "<style scoped>\n",
       "    .dataframe tbody tr th:only-of-type {\n",
       "        vertical-align: middle;\n",
       "    }\n",
       "\n",
       "    .dataframe tbody tr th {\n",
       "        vertical-align: top;\n",
       "    }\n",
       "\n",
       "    .dataframe thead th {\n",
       "        text-align: right;\n",
       "    }\n",
       "</style>\n",
       "<table border=\"1\" class=\"dataframe\">\n",
       "  <thead>\n",
       "    <tr style=\"text-align: right;\">\n",
       "      <th></th>\n",
       "      <th>PassengerId</th>\n",
       "      <th>Survived</th>\n",
       "      <th>Pclass</th>\n",
       "      <th>Name</th>\n",
       "      <th>Sex</th>\n",
       "      <th>Age</th>\n",
       "      <th>SibSp</th>\n",
       "      <th>Parch</th>\n",
       "      <th>Ticket</th>\n",
       "      <th>Fare</th>\n",
       "      <th>Cabin</th>\n",
       "      <th>Embarked</th>\n",
       "      <th>Age_category</th>\n",
       "      <th>Family</th>\n",
       "      <th>Family_Grouped</th>\n",
       "      <th>dataset</th>\n",
       "      <th>Last</th>\n",
       "      <th>First</th>\n",
       "      <th>Title</th>\n",
       "    </tr>\n",
       "  </thead>\n",
       "  <tbody>\n",
       "    <tr>\n",
       "      <th>159</th>\n",
       "      <td>160</td>\n",
       "      <td>0.0</td>\n",
       "      <td>3</td>\n",
       "      <td>Sage, Master. Thomas Henry</td>\n",
       "      <td>male</td>\n",
       "      <td>NaN</td>\n",
       "      <td>8</td>\n",
       "      <td>2</td>\n",
       "      <td>CA. 2343</td>\n",
       "      <td>69.55</td>\n",
       "      <td>NaN</td>\n",
       "      <td>S</td>\n",
       "      <td>no age</td>\n",
       "      <td>11</td>\n",
       "      <td>Large</td>\n",
       "      <td>train</td>\n",
       "      <td>Sage</td>\n",
       "      <td>Thomas Henry</td>\n",
       "      <td>Master</td>\n",
       "    </tr>\n",
       "    <tr>\n",
       "      <th>180</th>\n",
       "      <td>181</td>\n",
       "      <td>0.0</td>\n",
       "      <td>3</td>\n",
       "      <td>Sage, Miss. Constance Gladys</td>\n",
       "      <td>female</td>\n",
       "      <td>NaN</td>\n",
       "      <td>8</td>\n",
       "      <td>2</td>\n",
       "      <td>CA. 2343</td>\n",
       "      <td>69.55</td>\n",
       "      <td>NaN</td>\n",
       "      <td>S</td>\n",
       "      <td>no age</td>\n",
       "      <td>11</td>\n",
       "      <td>Large</td>\n",
       "      <td>train</td>\n",
       "      <td>Sage</td>\n",
       "      <td>Constance Gladys</td>\n",
       "      <td>Miss</td>\n",
       "    </tr>\n",
       "    <tr>\n",
       "      <th>201</th>\n",
       "      <td>202</td>\n",
       "      <td>0.0</td>\n",
       "      <td>3</td>\n",
       "      <td>Sage, Mr. Frederick</td>\n",
       "      <td>male</td>\n",
       "      <td>NaN</td>\n",
       "      <td>8</td>\n",
       "      <td>2</td>\n",
       "      <td>CA. 2343</td>\n",
       "      <td>69.55</td>\n",
       "      <td>NaN</td>\n",
       "      <td>S</td>\n",
       "      <td>no age</td>\n",
       "      <td>11</td>\n",
       "      <td>Large</td>\n",
       "      <td>train</td>\n",
       "      <td>Sage</td>\n",
       "      <td>Frederick</td>\n",
       "      <td>Mr</td>\n",
       "    </tr>\n",
       "    <tr>\n",
       "      <th>324</th>\n",
       "      <td>325</td>\n",
       "      <td>0.0</td>\n",
       "      <td>3</td>\n",
       "      <td>Sage, Mr. George John Jr</td>\n",
       "      <td>male</td>\n",
       "      <td>NaN</td>\n",
       "      <td>8</td>\n",
       "      <td>2</td>\n",
       "      <td>CA. 2343</td>\n",
       "      <td>69.55</td>\n",
       "      <td>NaN</td>\n",
       "      <td>S</td>\n",
       "      <td>no age</td>\n",
       "      <td>11</td>\n",
       "      <td>Large</td>\n",
       "      <td>train</td>\n",
       "      <td>Sage</td>\n",
       "      <td>George John Jr</td>\n",
       "      <td>Mr</td>\n",
       "    </tr>\n",
       "    <tr>\n",
       "      <th>792</th>\n",
       "      <td>793</td>\n",
       "      <td>0.0</td>\n",
       "      <td>3</td>\n",
       "      <td>Sage, Miss. Stella Anna</td>\n",
       "      <td>female</td>\n",
       "      <td>NaN</td>\n",
       "      <td>8</td>\n",
       "      <td>2</td>\n",
       "      <td>CA. 2343</td>\n",
       "      <td>69.55</td>\n",
       "      <td>NaN</td>\n",
       "      <td>S</td>\n",
       "      <td>no age</td>\n",
       "      <td>11</td>\n",
       "      <td>Large</td>\n",
       "      <td>train</td>\n",
       "      <td>Sage</td>\n",
       "      <td>Stella Anna</td>\n",
       "      <td>Miss</td>\n",
       "    </tr>\n",
       "    <tr>\n",
       "      <th>846</th>\n",
       "      <td>847</td>\n",
       "      <td>0.0</td>\n",
       "      <td>3</td>\n",
       "      <td>Sage, Mr. Douglas Bullen</td>\n",
       "      <td>male</td>\n",
       "      <td>NaN</td>\n",
       "      <td>8</td>\n",
       "      <td>2</td>\n",
       "      <td>CA. 2343</td>\n",
       "      <td>69.55</td>\n",
       "      <td>NaN</td>\n",
       "      <td>S</td>\n",
       "      <td>no age</td>\n",
       "      <td>11</td>\n",
       "      <td>Large</td>\n",
       "      <td>train</td>\n",
       "      <td>Sage</td>\n",
       "      <td>Douglas Bullen</td>\n",
       "      <td>Mr</td>\n",
       "    </tr>\n",
       "    <tr>\n",
       "      <th>863</th>\n",
       "      <td>864</td>\n",
       "      <td>0.0</td>\n",
       "      <td>3</td>\n",
       "      <td>Sage, Miss. Dorothy Edith \"Dolly\"</td>\n",
       "      <td>female</td>\n",
       "      <td>NaN</td>\n",
       "      <td>8</td>\n",
       "      <td>2</td>\n",
       "      <td>CA. 2343</td>\n",
       "      <td>69.55</td>\n",
       "      <td>NaN</td>\n",
       "      <td>S</td>\n",
       "      <td>no age</td>\n",
       "      <td>11</td>\n",
       "      <td>Large</td>\n",
       "      <td>train</td>\n",
       "      <td>Sage</td>\n",
       "      <td>Dorothy Edith \"Dolly\"</td>\n",
       "      <td>Miss</td>\n",
       "    </tr>\n",
       "    <tr>\n",
       "      <th>188</th>\n",
       "      <td>1080</td>\n",
       "      <td>NaN</td>\n",
       "      <td>3</td>\n",
       "      <td>Sage, Miss. Ada</td>\n",
       "      <td>female</td>\n",
       "      <td>NaN</td>\n",
       "      <td>8</td>\n",
       "      <td>2</td>\n",
       "      <td>CA. 2343</td>\n",
       "      <td>69.55</td>\n",
       "      <td>NaN</td>\n",
       "      <td>S</td>\n",
       "      <td>no age</td>\n",
       "      <td>11</td>\n",
       "      <td>Large</td>\n",
       "      <td>test</td>\n",
       "      <td>Sage</td>\n",
       "      <td>Ada</td>\n",
       "      <td>Miss</td>\n",
       "    </tr>\n",
       "    <tr>\n",
       "      <th>342</th>\n",
       "      <td>1234</td>\n",
       "      <td>NaN</td>\n",
       "      <td>3</td>\n",
       "      <td>Sage, Mr. John George</td>\n",
       "      <td>male</td>\n",
       "      <td>NaN</td>\n",
       "      <td>1</td>\n",
       "      <td>9</td>\n",
       "      <td>CA. 2343</td>\n",
       "      <td>69.55</td>\n",
       "      <td>NaN</td>\n",
       "      <td>S</td>\n",
       "      <td>no age</td>\n",
       "      <td>11</td>\n",
       "      <td>Large</td>\n",
       "      <td>test</td>\n",
       "      <td>Sage</td>\n",
       "      <td>John George</td>\n",
       "      <td>Mr</td>\n",
       "    </tr>\n",
       "    <tr>\n",
       "      <th>360</th>\n",
       "      <td>1252</td>\n",
       "      <td>NaN</td>\n",
       "      <td>3</td>\n",
       "      <td>Sage, Master. William Henry</td>\n",
       "      <td>male</td>\n",
       "      <td>14.5</td>\n",
       "      <td>8</td>\n",
       "      <td>2</td>\n",
       "      <td>CA. 2343</td>\n",
       "      <td>69.55</td>\n",
       "      <td>NaN</td>\n",
       "      <td>S</td>\n",
       "      <td>adult</td>\n",
       "      <td>11</td>\n",
       "      <td>Large</td>\n",
       "      <td>test</td>\n",
       "      <td>Sage</td>\n",
       "      <td>William Henry</td>\n",
       "      <td>Master</td>\n",
       "    </tr>\n",
       "    <tr>\n",
       "      <th>365</th>\n",
       "      <td>1257</td>\n",
       "      <td>NaN</td>\n",
       "      <td>3</td>\n",
       "      <td>Sage, Mrs. John (Annie Bullen)</td>\n",
       "      <td>female</td>\n",
       "      <td>NaN</td>\n",
       "      <td>1</td>\n",
       "      <td>9</td>\n",
       "      <td>CA. 2343</td>\n",
       "      <td>69.55</td>\n",
       "      <td>NaN</td>\n",
       "      <td>S</td>\n",
       "      <td>no age</td>\n",
       "      <td>11</td>\n",
       "      <td>Large</td>\n",
       "      <td>test</td>\n",
       "      <td>Sage</td>\n",
       "      <td>John (Annie Bullen)</td>\n",
       "      <td>Mrs</td>\n",
       "    </tr>\n",
       "  </tbody>\n",
       "</table>\n",
       "</div>"
      ],
      "text/plain": [
       "     PassengerId  Survived  Pclass                               Name     Sex  \\\n",
       "159          160       0.0       3         Sage, Master. Thomas Henry    male   \n",
       "180          181       0.0       3       Sage, Miss. Constance Gladys  female   \n",
       "201          202       0.0       3                Sage, Mr. Frederick    male   \n",
       "324          325       0.0       3           Sage, Mr. George John Jr    male   \n",
       "792          793       0.0       3            Sage, Miss. Stella Anna  female   \n",
       "846          847       0.0       3           Sage, Mr. Douglas Bullen    male   \n",
       "863          864       0.0       3  Sage, Miss. Dorothy Edith \"Dolly\"  female   \n",
       "188         1080       NaN       3                    Sage, Miss. Ada  female   \n",
       "342         1234       NaN       3              Sage, Mr. John George    male   \n",
       "360         1252       NaN       3        Sage, Master. William Henry    male   \n",
       "365         1257       NaN       3     Sage, Mrs. John (Annie Bullen)  female   \n",
       "\n",
       "      Age  SibSp  Parch    Ticket   Fare Cabin Embarked Age_category  Family  \\\n",
       "159   NaN      8      2  CA. 2343  69.55   NaN        S       no age      11   \n",
       "180   NaN      8      2  CA. 2343  69.55   NaN        S       no age      11   \n",
       "201   NaN      8      2  CA. 2343  69.55   NaN        S       no age      11   \n",
       "324   NaN      8      2  CA. 2343  69.55   NaN        S       no age      11   \n",
       "792   NaN      8      2  CA. 2343  69.55   NaN        S       no age      11   \n",
       "846   NaN      8      2  CA. 2343  69.55   NaN        S       no age      11   \n",
       "863   NaN      8      2  CA. 2343  69.55   NaN        S       no age      11   \n",
       "188   NaN      8      2  CA. 2343  69.55   NaN        S       no age      11   \n",
       "342   NaN      1      9  CA. 2343  69.55   NaN        S       no age      11   \n",
       "360  14.5      8      2  CA. 2343  69.55   NaN        S        adult      11   \n",
       "365   NaN      1      9  CA. 2343  69.55   NaN        S       no age      11   \n",
       "\n",
       "    Family_Grouped dataset  Last                   First   Title  \n",
       "159          Large   train  Sage            Thomas Henry  Master  \n",
       "180          Large   train  Sage        Constance Gladys    Miss  \n",
       "201          Large   train  Sage               Frederick      Mr  \n",
       "324          Large   train  Sage          George John Jr      Mr  \n",
       "792          Large   train  Sage             Stella Anna    Miss  \n",
       "846          Large   train  Sage          Douglas Bullen      Mr  \n",
       "863          Large   train  Sage   Dorothy Edith \"Dolly\"    Miss  \n",
       "188          Large    test  Sage                     Ada    Miss  \n",
       "342          Large    test  Sage             John George      Mr  \n",
       "360          Large    test  Sage           William Henry  Master  \n",
       "365          Large    test  Sage     John (Annie Bullen)     Mrs  "
      ]
     },
     "execution_count": 12,
     "metadata": {},
     "output_type": "execute_result"
    }
   ],
   "source": [
    "df_merge[df_merge['Last'] == 'Sage']"
   ]
  },
  {
   "cell_type": "markdown",
   "metadata": {},
   "source": [
    "The familiy Sage has \n",
    "- 7 passengers in the training and 4 passengers in the test dataset\n",
    "- all passengers of the training dataset died\n",
    "\n",
    "-> Based on the family name, the machine learning algorithm would predict that also all 4 family members of the test dataset did not survive the Titanic."
   ]
  },
  {
   "cell_type": "code",
   "execution_count": 13,
   "metadata": {},
   "outputs": [],
   "source": [
    "# apply the name function to the training and test dataset\n",
    "df_train = get_name_information(df_train)\n",
    "df_test = get_name_information(df_test)"
   ]
  },
  {
   "cell_type": "code",
   "execution_count": 14,
   "metadata": {
    "scrolled": true,
    "tags": []
   },
   "outputs": [
    {
     "name": "stdout",
     "output_type": "stream",
     "text": [
      "|     | Last                   |   not_survived |   survived |   passengers |   survival_rate |\n",
      "|----:|:-----------------------|---------------:|-----------:|-------------:|----------------:|\n",
      "|   0 | Abbing                 |              1 |          0 |            1 |          0      |\n",
      "|   1 | Abbott                 |              1 |          1 |            2 |         50      |\n",
      "|   2 | Abelson                |              1 |          1 |            2 |         50      |\n",
      "|   3 | Adahl                  |              1 |          0 |            1 |          0      |\n",
      "|   4 | Adams                  |              1 |          0 |            1 |          0      |\n",
      "|   5 | Ahlin                  |              1 |          0 |            1 |          0      |\n",
      "|   6 | Aks                    |              0 |          1 |            1 |        100      |\n",
      "|   7 | Albimona               |              0 |          1 |            1 |        100      |\n",
      "|   8 | Alexander              |              1 |          0 |            1 |          0      |\n",
      "|   9 | Alhomaki               |              1 |          0 |            1 |          0      |\n",
      "|  10 | Ali                    |              2 |          0 |            2 |          0      |\n",
      "|  11 | Allen                  |              1 |          1 |            2 |         50      |\n",
      "|  12 | Allison                |              2 |          1 |            3 |         33.3333 |\n",
      "|  13 | Allum                  |              1 |          0 |            1 |          0      |\n",
      "|  14 | Andersen-Jensen        |              0 |          1 |            1 |        100      |\n",
      "|  15 | Anderson               |              0 |          1 |            1 |        100      |\n",
      "|  16 | Andersson              |              7 |          2 |            9 |         22.2222 |\n",
      "|  17 | Andreasson             |              1 |          0 |            1 |          0      |\n",
      "|  18 | Andrew                 |              1 |          0 |            1 |          0      |\n",
      "|  19 | Andrews                |              1 |          1 |            2 |         50      |\n",
      "|  20 | Angle                  |              0 |          1 |            1 |        100      |\n",
      "|  21 | Appleton               |              0 |          1 |            1 |        100      |\n",
      "|  22 | Arnold-Franchi         |              2 |          0 |            2 |          0      |\n",
      "|  23 | Artagaveytia           |              1 |          0 |            1 |          0      |\n",
      "|  24 | Asim                   |              1 |          0 |            1 |          0      |\n",
      "|  25 | Asplund                |              1 |          3 |            4 |         75      |\n",
      "|  26 | Astor                  |              0 |          1 |            1 |        100      |\n",
      "|  27 | Attalah                |              2 |          0 |            2 |          0      |\n",
      "|  28 | Aubart                 |              0 |          1 |            1 |        100      |\n",
      "|  29 | Augustsson             |              1 |          0 |            1 |          0      |\n",
      "|  30 | Ayoub                  |              0 |          1 |            1 |        100      |\n",
      "|  31 | Backstrom              |              1 |          1 |            2 |         50      |\n",
      "|  32 | Baclini                |              0 |          4 |            4 |        100      |\n",
      "|  33 | Badt                   |              1 |          0 |            1 |          0      |\n",
      "|  34 | Bailey                 |              1 |          0 |            1 |          0      |\n",
      "|  35 | Balkic                 |              1 |          0 |            1 |          0      |\n",
      "|  36 | Ball                   |              0 |          1 |            1 |        100      |\n",
      "|  37 | Banfield               |              1 |          0 |            1 |          0      |\n",
      "|  38 | Barah                  |              0 |          1 |            1 |        100      |\n",
      "|  39 | Barbara                |              2 |          0 |            2 |          0      |\n",
      "|  40 | Barber                 |              0 |          1 |            1 |        100      |\n",
      "|  41 | Barkworth              |              0 |          1 |            1 |        100      |\n",
      "|  42 | Barton                 |              1 |          0 |            1 |          0      |\n",
      "|  43 | Bateman                |              1 |          0 |            1 |          0      |\n",
      "|  44 | Baumann                |              1 |          0 |            1 |          0      |\n",
      "|  45 | Baxter                 |              1 |          1 |            2 |         50      |\n",
      "|  46 | Bazzani                |              0 |          1 |            1 |        100      |\n",
      "|  47 | Beane                  |              0 |          2 |            2 |        100      |\n",
      "|  48 | Beavan                 |              1 |          0 |            1 |          0      |\n",
      "|  49 | Becker                 |              0 |          2 |            2 |        100      |\n",
      "|  50 | Beckwith               |              0 |          2 |            2 |        100      |\n",
      "|  51 | Beesley                |              0 |          1 |            1 |        100      |\n",
      "|  52 | Behr                   |              0 |          1 |            1 |        100      |\n",
      "|  53 | Bengtsson              |              1 |          0 |            1 |          0      |\n",
      "|  54 | Berglund               |              1 |          0 |            1 |          0      |\n",
      "|  55 | Berriman               |              1 |          0 |            1 |          0      |\n",
      "|  56 | Betros                 |              1 |          0 |            1 |          0      |\n",
      "|  57 | Bidois                 |              0 |          1 |            1 |        100      |\n",
      "|  58 | Bing                   |              0 |          1 |            1 |        100      |\n",
      "|  59 | Birkeland              |              1 |          0 |            1 |          0      |\n",
      "|  60 | Bishop                 |              0 |          2 |            2 |        100      |\n",
      "|  61 | Bissette               |              0 |          1 |            1 |        100      |\n",
      "|  62 | Bjornstrom-Steffansson |              0 |          1 |            1 |        100      |\n",
      "|  63 | Blackwell              |              1 |          0 |            1 |          0      |\n",
      "|  64 | Blank                  |              0 |          1 |            1 |        100      |\n",
      "|  65 | Bonnell                |              0 |          1 |            1 |        100      |\n",
      "|  66 | Bostandyeff            |              1 |          0 |            1 |          0      |\n",
      "|  67 | Boulos                 |              3 |          0 |            3 |          0      |\n",
      "|  68 | Bourke                 |              3 |          0 |            3 |          0      |\n",
      "|  69 | Bowen                  |              1 |          0 |            1 |          0      |\n",
      "|  70 | Bowerman               |              0 |          1 |            1 |        100      |\n",
      "|  71 | Bracken                |              1 |          0 |            1 |          0      |\n",
      "|  72 | Bradley                |              0 |          1 |            1 |        100      |\n",
      "|  73 | Braund                 |              2 |          0 |            2 |          0      |\n",
      "|  74 | Brewe                  |              1 |          0 |            1 |          0      |\n",
      "|  75 | Brocklebank            |              1 |          0 |            1 |          0      |\n",
      "|  76 | Brown                  |              1 |          3 |            4 |         75      |\n",
      "|  77 | Bryhl                  |              1 |          0 |            1 |          0      |\n",
      "|  78 | Burke                  |              1 |          0 |            1 |          0      |\n",
      "|  79 | Burns                  |              0 |          1 |            1 |        100      |\n",
      "|  80 | Buss                   |              0 |          1 |            1 |        100      |\n",
      "|  81 | Butler                 |              1 |          0 |            1 |          0      |\n",
      "|  82 | Butt                   |              1 |          0 |            1 |          0      |\n",
      "|  83 | Byles                  |              1 |          0 |            1 |          0      |\n",
      "|  84 | Bystrom                |              0 |          1 |            1 |        100      |\n",
      "|  85 | Cacic                  |              2 |          0 |            2 |          0      |\n",
      "|  86 | Cairns                 |              1 |          0 |            1 |          0      |\n",
      "|  87 | Calderhead             |              0 |          1 |            1 |        100      |\n",
      "|  88 | Caldwell               |              0 |          2 |            2 |        100      |\n",
      "|  89 | Calic                  |              2 |          0 |            2 |          0      |\n",
      "|  90 | Cameron                |              0 |          1 |            1 |        100      |\n",
      "|  91 | Campbell               |              1 |          0 |            1 |          0      |\n",
      "|  92 | Canavan                |              1 |          0 |            1 |          0      |\n",
      "|  93 | Cann                   |              1 |          0 |            1 |          0      |\n",
      "|  94 | Caram                  |              1 |          0 |            1 |          0      |\n",
      "|  95 | Carbines               |              1 |          0 |            1 |          0      |\n",
      "|  96 | Cardeza                |              0 |          1 |            1 |        100      |\n",
      "|  97 | Carlsson               |              2 |          0 |            2 |          0      |\n",
      "|  98 | Carr                   |              0 |          1 |            1 |        100      |\n",
      "|  99 | Carrau                 |              1 |          0 |            1 |          0      |\n",
      "| 100 | Carter                 |              2 |          4 |            6 |         66.6667 |\n",
      "| 101 | Cavendish              |              1 |          0 |            1 |          0      |\n",
      "| 102 | Celotti                |              1 |          0 |            1 |          0      |\n",
      "| 103 | Chaffee                |              1 |          0 |            1 |          0      |\n",
      "| 104 | Chambers               |              0 |          2 |            2 |        100      |\n",
      "| 105 | Chapman                |              2 |          0 |            2 |          0      |\n",
      "| 106 | Charters               |              1 |          0 |            1 |          0      |\n",
      "| 107 | Cherry                 |              0 |          1 |            1 |        100      |\n",
      "| 108 | Chibnall               |              0 |          1 |            1 |        100      |\n",
      "| 109 | Chip                   |              0 |          1 |            1 |        100      |\n",
      "| 110 | Christmann             |              1 |          0 |            1 |          0      |\n",
      "| 111 | Christy                |              0 |          1 |            1 |        100      |\n",
      "| 112 | Chronopoulos           |              1 |          0 |            1 |          0      |\n",
      "| 113 | Clarke                 |              0 |          1 |            1 |        100      |\n",
      "| 114 | Cleaver                |              0 |          1 |            1 |        100      |\n",
      "| 115 | Clifford               |              1 |          0 |            1 |          0      |\n",
      "| 116 | Coelho                 |              1 |          0 |            1 |          0      |\n",
      "| 117 | Cohen                  |              0 |          1 |            1 |        100      |\n",
      "| 118 | Coleff                 |              2 |          0 |            2 |          0      |\n",
      "| 119 | Coleridge              |              1 |          0 |            1 |          0      |\n",
      "| 120 | Collander              |              1 |          0 |            1 |          0      |\n",
      "| 121 | Colley                 |              1 |          0 |            1 |          0      |\n",
      "| 122 | Collyer                |              1 |          2 |            3 |         66.6667 |\n",
      "| 123 | Compton                |              0 |          1 |            1 |        100      |\n",
      "| 124 | Connaghton             |              1 |          0 |            1 |          0      |\n",
      "| 125 | Connolly               |              0 |          1 |            1 |        100      |\n",
      "| 126 | Connors                |              1 |          0 |            1 |          0      |\n",
      "| 127 | Cook                   |              1 |          0 |            1 |          0      |\n",
      "| 128 | Cor                    |              1 |          0 |            1 |          0      |\n",
      "| 129 | Corn                   |              1 |          0 |            1 |          0      |\n",
      "| 130 | Coutts                 |              0 |          2 |            2 |        100      |\n",
      "| 131 | Coxon                  |              1 |          0 |            1 |          0      |\n",
      "| 132 | Crease                 |              1 |          0 |            1 |          0      |\n",
      "| 133 | Cribb                  |              1 |          0 |            1 |          0      |\n",
      "| 134 | Crosby                 |              1 |          1 |            2 |         50      |\n",
      "| 135 | Culumovic              |              1 |          0 |            1 |          0      |\n",
      "| 136 | Cumings                |              0 |          1 |            1 |        100      |\n",
      "| 137 | Cunningham             |              1 |          0 |            1 |          0      |\n",
      "| 138 | Dahl                   |              0 |          1 |            1 |        100      |\n",
      "| 139 | Dahlberg               |              1 |          0 |            1 |          0      |\n",
      "| 140 | Dakic                  |              1 |          0 |            1 |          0      |\n",
      "| 141 | Daly                   |              0 |          2 |            2 |        100      |\n",
      "| 142 | Danbom                 |              2 |          0 |            2 |          0      |\n",
      "| 143 | Daniel                 |              0 |          1 |            1 |        100      |\n",
      "| 144 | Danoff                 |              1 |          0 |            1 |          0      |\n",
      "| 145 | Dantcheff              |              1 |          0 |            1 |          0      |\n",
      "| 146 | Davidson               |              1 |          0 |            1 |          0      |\n",
      "| 147 | Davies                 |              2 |          1 |            3 |         33.3333 |\n",
      "| 148 | Davis                  |              0 |          1 |            1 |        100      |\n",
      "| 149 | Davison                |              0 |          1 |            1 |        100      |\n",
      "| 150 | Dean                   |              1 |          1 |            2 |         50      |\n",
      "| 151 | Denkoff                |              1 |          0 |            1 |          0      |\n",
      "| 152 | Dennis                 |              1 |          0 |            1 |          0      |\n",
      "| 153 | Devaney                |              0 |          1 |            1 |        100      |\n",
      "| 154 | Dick                   |              0 |          2 |            2 |        100      |\n",
      "| 155 | Dimic                  |              1 |          0 |            1 |          0      |\n",
      "| 156 | Dodge                  |              0 |          1 |            1 |        100      |\n",
      "| 157 | Doharr                 |              1 |          0 |            1 |          0      |\n",
      "| 158 | Doling                 |              0 |          2 |            2 |        100      |\n",
      "| 159 | Dooley                 |              1 |          0 |            1 |          0      |\n",
      "| 160 | Dorking                |              0 |          1 |            1 |        100      |\n",
      "| 161 | Douglas                |              1 |          0 |            1 |          0      |\n",
      "| 162 | Dowdell                |              0 |          1 |            1 |        100      |\n",
      "| 163 | Downton                |              1 |          0 |            1 |          0      |\n",
      "| 164 | Drazenoic              |              1 |          0 |            1 |          0      |\n",
      "| 165 | Drew                   |              0 |          1 |            1 |        100      |\n",
      "| 166 | Duane                  |              1 |          0 |            1 |          0      |\n",
      "| 167 | Duff Gordon            |              0 |          2 |            2 |        100      |\n",
      "| 168 | Duran y More           |              0 |          1 |            1 |        100      |\n",
      "| 169 | Edvardsson             |              1 |          0 |            1 |          0      |\n",
      "| 170 | Eitemiller             |              1 |          0 |            1 |          0      |\n",
      "| 171 | Eklund                 |              1 |          0 |            1 |          0      |\n",
      "| 172 | Ekstrom                |              1 |          0 |            1 |          0      |\n",
      "| 173 | Elias                  |              3 |          0 |            3 |          0      |\n",
      "| 174 | Elsbury                |              1 |          0 |            1 |          0      |\n",
      "| 175 | Emanuel                |              0 |          1 |            1 |        100      |\n",
      "| 176 | Emir                   |              1 |          0 |            1 |          0      |\n",
      "| 177 | Endres                 |              0 |          1 |            1 |        100      |\n",
      "| 178 | Eustis                 |              0 |          1 |            1 |        100      |\n",
      "| 179 | Fahlstrom              |              1 |          0 |            1 |          0      |\n",
      "| 180 | Farrell                |              1 |          0 |            1 |          0      |\n",
      "| 181 | Farthing               |              1 |          0 |            1 |          0      |\n",
      "| 182 | Faunthorpe             |              0 |          1 |            1 |        100      |\n",
      "| 183 | Fischer                |              1 |          0 |            1 |          0      |\n",
      "| 184 | Fleming                |              0 |          1 |            1 |        100      |\n",
      "| 185 | Flynn                  |              2 |          1 |            3 |         33.3333 |\n",
      "| 186 | Foo                    |              0 |          1 |            1 |        100      |\n",
      "| 187 | Ford                   |              4 |          0 |            4 |          0      |\n",
      "| 188 | Foreman                |              1 |          0 |            1 |          0      |\n",
      "| 189 | Fortune                |              2 |          2 |            4 |         50      |\n",
      "| 190 | Fox                    |              1 |          0 |            1 |          0      |\n",
      "| 191 | Francatelli            |              0 |          1 |            1 |        100      |\n",
      "| 192 | Frauenthal             |              0 |          2 |            2 |        100      |\n",
      "| 193 | Frolicher              |              0 |          1 |            1 |        100      |\n",
      "| 194 | Frolicher-Stehli       |              0 |          1 |            1 |        100      |\n",
      "| 195 | Frost                  |              1 |          0 |            1 |          0      |\n",
      "| 196 | Fry                    |              1 |          0 |            1 |          0      |\n",
      "| 197 | Funk                   |              1 |          0 |            1 |          0      |\n",
      "| 198 | Futrelle               |              1 |          1 |            2 |         50      |\n",
      "| 199 | Fynney                 |              1 |          0 |            1 |          0      |\n",
      "| 200 | Gale                   |              1 |          0 |            1 |          0      |\n",
      "| 201 | Gallagher              |              1 |          0 |            1 |          0      |\n",
      "| 202 | Garfirth               |              1 |          0 |            1 |          0      |\n",
      "| 203 | Garside                |              0 |          1 |            1 |        100      |\n",
      "| 204 | Gaskell                |              1 |          0 |            1 |          0      |\n",
      "| 205 | Gavey                  |              1 |          0 |            1 |          0      |\n",
      "| 206 | Gee                    |              1 |          0 |            1 |          0      |\n",
      "| 207 | Gheorgheff             |              1 |          0 |            1 |          0      |\n",
      "| 208 | Giglio                 |              1 |          0 |            1 |          0      |\n",
      "| 209 | Giles                  |              1 |          0 |            1 |          0      |\n",
      "| 210 | Gilinski               |              1 |          0 |            1 |          0      |\n",
      "| 211 | Gill                   |              1 |          0 |            1 |          0      |\n",
      "| 212 | Gillespie              |              1 |          0 |            1 |          0      |\n",
      "| 213 | Gilnagh                |              0 |          1 |            1 |        100      |\n",
      "| 214 | Givard                 |              1 |          0 |            1 |          0      |\n",
      "| 215 | Glynn                  |              0 |          1 |            1 |        100      |\n",
      "| 216 | Goldenberg             |              0 |          2 |            2 |        100      |\n",
      "| 217 | Goldschmidt            |              1 |          0 |            1 |          0      |\n",
      "| 218 | Goldsmith              |              1 |          2 |            3 |         66.6667 |\n",
      "| 219 | Goncalves              |              1 |          0 |            1 |          0      |\n",
      "| 220 | Goodwin                |              6 |          0 |            6 |          0      |\n",
      "| 221 | Graham                 |              1 |          2 |            3 |         66.6667 |\n",
      "| 222 | Green                  |              1 |          0 |            1 |          0      |\n",
      "| 223 | Greenberg              |              1 |          0 |            1 |          0      |\n",
      "| 224 | Greenfield             |              0 |          1 |            1 |        100      |\n",
      "| 225 | Gronnestad             |              1 |          0 |            1 |          0      |\n",
      "| 226 | Guggenheim             |              1 |          0 |            1 |          0      |\n",
      "| 227 | Gustafsson             |              4 |          0 |            4 |          0      |\n",
      "| 228 | Haas                   |              1 |          0 |            1 |          0      |\n",
      "| 229 | Hagland                |              2 |          0 |            2 |          0      |\n",
      "| 230 | Hakkarainen            |              1 |          1 |            2 |         50      |\n",
      "| 231 | Hale                   |              1 |          0 |            1 |          0      |\n",
      "| 232 | Hamalainen             |              0 |          2 |            2 |        100      |\n",
      "| 233 | Hampe                  |              1 |          0 |            1 |          0      |\n",
      "| 234 | Hanna                  |              1 |          0 |            1 |          0      |\n",
      "| 235 | Hansen                 |              3 |          0 |            3 |          0      |\n",
      "| 236 | Harder                 |              0 |          1 |            1 |        100      |\n",
      "| 237 | Harknett               |              1 |          0 |            1 |          0      |\n",
      "| 238 | Harmer                 |              1 |          0 |            1 |          0      |\n",
      "| 239 | Harper                 |              1 |          3 |            4 |         75      |\n",
      "| 240 | Harrington             |              1 |          0 |            1 |          0      |\n",
      "| 241 | Harris                 |              2 |          2 |            4 |         50      |\n",
      "| 242 | Harrison               |              1 |          0 |            1 |          0      |\n",
      "| 243 | Hart                   |              2 |          2 |            4 |         50      |\n",
      "| 244 | Hassab                 |              0 |          1 |            1 |        100      |\n",
      "| 245 | Hassan                 |              1 |          0 |            1 |          0      |\n",
      "| 246 | Hawksford              |              0 |          1 |            1 |        100      |\n",
      "| 247 | Hays                   |              0 |          2 |            2 |        100      |\n",
      "| 248 | Healy                  |              0 |          1 |            1 |        100      |\n",
      "| 249 | Hedman                 |              0 |          1 |            1 |        100      |\n",
      "| 250 | Hegarty                |              1 |          0 |            1 |          0      |\n",
      "| 251 | Heikkinen              |              0 |          1 |            1 |        100      |\n",
      "| 252 | Heininen               |              1 |          0 |            1 |          0      |\n",
      "| 253 | Hendekovic             |              1 |          0 |            1 |          0      |\n",
      "| 254 | Henry                  |              1 |          0 |            1 |          0      |\n",
      "| 255 | Herman                 |              0 |          2 |            2 |        100      |\n",
      "| 256 | Hewlett                |              0 |          1 |            1 |        100      |\n",
      "| 257 | Hickman                |              3 |          0 |            3 |          0      |\n",
      "| 258 | Hippach                |              0 |          2 |            2 |        100      |\n",
      "| 259 | Hirvonen               |              0 |          1 |            1 |        100      |\n",
      "| 260 | Hocking                |              1 |          1 |            2 |         50      |\n",
      "| 261 | Hodges                 |              1 |          0 |            1 |          0      |\n",
      "| 262 | Hogeboom               |              0 |          1 |            1 |        100      |\n",
      "| 263 | Hold                   |              1 |          0 |            1 |          0      |\n",
      "| 264 | Holm                   |              1 |          0 |            1 |          0      |\n",
      "| 265 | Holverson              |              1 |          1 |            2 |         50      |\n",
      "| 266 | Homer                  |              0 |          1 |            1 |        100      |\n",
      "| 267 | Honkanen               |              0 |          1 |            1 |        100      |\n",
      "| 268 | Hood                   |              1 |          0 |            1 |          0      |\n",
      "| 269 | Horgan                 |              1 |          0 |            1 |          0      |\n",
      "| 270 | Hosono                 |              0 |          1 |            1 |        100      |\n",
      "| 271 | Hoyt                   |              1 |          2 |            3 |         66.6667 |\n",
      "| 272 | Humblen                |              1 |          0 |            1 |          0      |\n",
      "| 273 | Hunt                   |              1 |          0 |            1 |          0      |\n",
      "| 274 | Ibrahim Shawah         |              1 |          0 |            1 |          0      |\n",
      "| 275 | Icard                  |              0 |          1 |            1 |        100      |\n",
      "| 276 | Ilett                  |              0 |          1 |            1 |        100      |\n",
      "| 277 | Ilmakangas             |              1 |          0 |            1 |          0      |\n",
      "| 278 | Isham                  |              1 |          0 |            1 |          0      |\n",
      "| 279 | Ivanoff                |              1 |          0 |            1 |          0      |\n",
      "| 280 | Jacobsohn              |              1 |          1 |            2 |         50      |\n",
      "| 281 | Jalsevac               |              0 |          1 |            1 |        100      |\n",
      "| 282 | Jansson                |              0 |          1 |            1 |        100      |\n",
      "| 283 | Jardin                 |              1 |          0 |            1 |          0      |\n",
      "| 284 | Jarvis                 |              1 |          0 |            1 |          0      |\n",
      "| 285 | Jenkin                 |              1 |          0 |            1 |          0      |\n",
      "| 286 | Jensen                 |              3 |          0 |            3 |          0      |\n",
      "| 287 | Jermyn                 |              0 |          1 |            1 |        100      |\n",
      "| 288 | Jerwan                 |              0 |          1 |            1 |        100      |\n",
      "| 289 | Johannesen-Bratthammer |              0 |          1 |            1 |        100      |\n",
      "| 290 | Johanson               |              1 |          0 |            1 |          0      |\n",
      "| 291 | Johansson              |              3 |          0 |            3 |          0      |\n",
      "| 292 | Johnson                |              3 |          3 |            6 |         50      |\n",
      "| 293 | Johnston               |              2 |          0 |            2 |          0      |\n",
      "| 294 | Jonkoff                |              1 |          0 |            1 |          0      |\n",
      "| 295 | Jonsson                |              0 |          1 |            1 |        100      |\n",
      "| 296 | Jussila                |              2 |          1 |            3 |         33.3333 |\n",
      "| 297 | Kallio                 |              1 |          0 |            1 |          0      |\n",
      "| 298 | Kalvik                 |              1 |          0 |            1 |          0      |\n",
      "| 299 | Kantor                 |              1 |          1 |            2 |         50      |\n",
      "| 300 | Karaic                 |              1 |          0 |            1 |          0      |\n",
      "| 301 | Karlsson               |              1 |          0 |            1 |          0      |\n",
      "| 302 | Karun                  |              0 |          1 |            1 |        100      |\n",
      "| 303 | Kassem                 |              1 |          0 |            1 |          0      |\n",
      "| 304 | Keane                  |              1 |          1 |            2 |         50      |\n",
      "| 305 | Keefe                  |              1 |          0 |            1 |          0      |\n",
      "| 306 | Kelly                  |              1 |          3 |            4 |         75      |\n",
      "| 307 | Kent                   |              1 |          0 |            1 |          0      |\n",
      "| 308 | Kenyon                 |              0 |          1 |            1 |        100      |\n",
      "| 309 | Kiernan                |              1 |          0 |            1 |          0      |\n",
      "| 310 | Kilgannon              |              1 |          0 |            1 |          0      |\n",
      "| 311 | Kimball                |              0 |          1 |            1 |        100      |\n",
      "| 312 | Kink                   |              1 |          0 |            1 |          0      |\n",
      "| 313 | Kink-Heilmann          |              0 |          1 |            1 |        100      |\n",
      "| 314 | Kirkland               |              1 |          0 |            1 |          0      |\n",
      "| 315 | Klaber                 |              1 |          0 |            1 |          0      |\n",
      "| 316 | Klasen                 |              1 |          0 |            1 |          0      |\n",
      "| 317 | Knight                 |              1 |          0 |            1 |          0      |\n",
      "| 318 | Kraeff                 |              1 |          0 |            1 |          0      |\n",
      "| 319 | Kvillner               |              1 |          0 |            1 |          0      |\n",
      "| 320 | Lahoud                 |              1 |          0 |            1 |          0      |\n",
      "| 321 | Lahtinen               |              1 |          0 |            1 |          0      |\n",
      "| 322 | Laitinen               |              1 |          0 |            1 |          0      |\n",
      "| 323 | Laleff                 |              1 |          0 |            1 |          0      |\n",
      "| 324 | Lam                    |              1 |          1 |            2 |         50      |\n",
      "| 325 | Landergren             |              0 |          1 |            1 |        100      |\n",
      "| 326 | Lang                   |              0 |          1 |            1 |        100      |\n",
      "| 327 | Laroche                |              1 |          2 |            3 |         66.6667 |\n",
      "| 328 | Larsson                |              2 |          0 |            2 |          0      |\n",
      "| 329 | LeRoy                  |              0 |          1 |            1 |        100      |\n",
      "| 330 | Leader                 |              0 |          1 |            1 |        100      |\n",
      "| 331 | Leeni                  |              0 |          1 |            1 |        100      |\n",
      "| 332 | Lefebre                |              4 |          0 |            4 |          0      |\n",
      "| 333 | Lehmann                |              0 |          1 |            1 |        100      |\n",
      "| 334 | Leinonen               |              1 |          0 |            1 |          0      |\n",
      "| 335 | Leitch                 |              0 |          1 |            1 |        100      |\n",
      "| 336 | Lemberopolous          |              1 |          0 |            1 |          0      |\n",
      "| 337 | Lemore                 |              0 |          1 |            1 |        100      |\n",
      "| 338 | Lennon                 |              1 |          0 |            1 |          0      |\n",
      "| 339 | Leonard                |              1 |          0 |            1 |          0      |\n",
      "| 340 | Lester                 |              1 |          0 |            1 |          0      |\n",
      "| 341 | Lesurer                |              0 |          1 |            1 |        100      |\n",
      "| 342 | Levy                   |              1 |          0 |            1 |          0      |\n",
      "| 343 | Lewy                   |              1 |          0 |            1 |          0      |\n",
      "| 344 | Leyson                 |              1 |          0 |            1 |          0      |\n",
      "| 345 | Lievens                |              1 |          0 |            1 |          0      |\n",
      "| 346 | Lindahl                |              1 |          0 |            1 |          0      |\n",
      "| 347 | Lindblom               |              1 |          0 |            1 |          0      |\n",
      "| 348 | Lindell                |              1 |          0 |            1 |          0      |\n",
      "| 349 | Lindqvist              |              0 |          1 |            1 |        100      |\n",
      "| 350 | Lines                  |              0 |          1 |            1 |        100      |\n",
      "| 351 | Ling                   |              1 |          0 |            1 |          0      |\n",
      "| 352 | Lobb                   |              2 |          0 |            2 |          0      |\n",
      "| 353 | Long                   |              1 |          0 |            1 |          0      |\n",
      "| 354 | Longley                |              0 |          1 |            1 |        100      |\n",
      "| 355 | Louch                  |              0 |          1 |            1 |        100      |\n",
      "| 356 | Lovell                 |              1 |          0 |            1 |          0      |\n",
      "| 357 | Lulic                  |              0 |          1 |            1 |        100      |\n",
      "| 358 | Lundahl                |              1 |          0 |            1 |          0      |\n",
      "| 359 | Lurette                |              0 |          1 |            1 |        100      |\n",
      "| 360 | Mack                   |              1 |          0 |            1 |          0      |\n",
      "| 361 | Madigan                |              0 |          1 |            1 |        100      |\n",
      "| 362 | Madill                 |              0 |          1 |            1 |        100      |\n",
      "| 363 | Madsen                 |              0 |          1 |            1 |        100      |\n",
      "| 364 | Maenpaa                |              1 |          0 |            1 |          0      |\n",
      "| 365 | Maioni                 |              0 |          1 |            1 |        100      |\n",
      "| 366 | Maisner                |              1 |          0 |            1 |          0      |\n",
      "| 367 | Mallet                 |              1 |          1 |            2 |         50      |\n",
      "| 368 | Mamee                  |              0 |          1 |            1 |        100      |\n",
      "| 369 | Mangan                 |              1 |          0 |            1 |          0      |\n",
      "| 370 | Mannion                |              0 |          1 |            1 |        100      |\n",
      "| 371 | Marechal               |              0 |          1 |            1 |        100      |\n",
      "| 372 | Markoff                |              1 |          0 |            1 |          0      |\n",
      "| 373 | Markun                 |              1 |          0 |            1 |          0      |\n",
      "| 374 | Marvin                 |              1 |          0 |            1 |          0      |\n",
      "| 375 | Masselmani             |              0 |          1 |            1 |        100      |\n",
      "| 376 | Matthews               |              1 |          0 |            1 |          0      |\n",
      "| 377 | Mayne                  |              0 |          1 |            1 |        100      |\n",
      "| 378 | McCarthy               |              1 |          0 |            1 |          0      |\n",
      "| 379 | McCormack              |              0 |          1 |            1 |        100      |\n",
      "| 380 | McCoy                  |              0 |          2 |            2 |        100      |\n",
      "| 381 | McDermott              |              0 |          1 |            1 |        100      |\n",
      "| 382 | McEvoy                 |              1 |          0 |            1 |          0      |\n",
      "| 383 | McGough                |              0 |          1 |            1 |        100      |\n",
      "| 384 | McGovern               |              0 |          1 |            1 |        100      |\n",
      "| 385 | McGowan                |              0 |          1 |            1 |        100      |\n",
      "| 386 | McKane                 |              1 |          0 |            1 |          0      |\n",
      "| 387 | McMahon                |              1 |          0 |            1 |          0      |\n",
      "| 388 | McNamee                |              1 |          0 |            1 |          0      |\n",
      "| 389 | Meanwell               |              1 |          0 |            1 |          0      |\n",
      "| 390 | Meek                   |              1 |          0 |            1 |          0      |\n",
      "| 391 | Mellinger              |              0 |          2 |            2 |        100      |\n",
      "| 392 | Mellors                |              0 |          1 |            1 |        100      |\n",
      "| 393 | Meo                    |              1 |          0 |            1 |          0      |\n",
      "| 394 | Mernagh                |              1 |          0 |            1 |          0      |\n",
      "| 395 | Meyer                  |              2 |          1 |            3 |         33.3333 |\n",
      "| 396 | Millet                 |              1 |          0 |            1 |          0      |\n",
      "| 397 | Milling                |              1 |          0 |            1 |          0      |\n",
      "| 398 | Minahan                |              1 |          1 |            2 |         50      |\n",
      "| 399 | Mineff                 |              1 |          0 |            1 |          0      |\n",
      "| 400 | Mionoff                |              1 |          0 |            1 |          0      |\n",
      "| 401 | Mitchell               |              1 |          0 |            1 |          0      |\n",
      "| 402 | Mitkoff                |              1 |          0 |            1 |          0      |\n",
      "| 403 | Mockler                |              0 |          1 |            1 |        100      |\n",
      "| 404 | Moen                   |              1 |          0 |            1 |          0      |\n",
      "| 405 | Molson                 |              1 |          0 |            1 |          0      |\n",
      "| 406 | Montvila               |              1 |          0 |            1 |          0      |\n",
      "| 407 | Moor                   |              0 |          2 |            2 |        100      |\n",
      "| 408 | Moore                  |              1 |          0 |            1 |          0      |\n",
      "| 409 | Moran                  |              2 |          1 |            3 |         33.3333 |\n",
      "| 410 | Moraweck               |              1 |          0 |            1 |          0      |\n",
      "| 411 | Morley                 |              2 |          0 |            2 |          0      |\n",
      "| 412 | Morrow                 |              1 |          0 |            1 |          0      |\n",
      "| 413 | Moss                   |              0 |          1 |            1 |        100      |\n",
      "| 414 | Moubarek               |              0 |          2 |            2 |        100      |\n",
      "| 415 | Moussa                 |              0 |          1 |            1 |        100      |\n",
      "| 416 | Moutal                 |              1 |          0 |            1 |          0      |\n",
      "| 417 | Mudd                   |              1 |          0 |            1 |          0      |\n",
      "| 418 | Mullens                |              0 |          1 |            1 |        100      |\n",
      "| 419 | Murdlin                |              1 |          0 |            1 |          0      |\n",
      "| 420 | Murphy                 |              0 |          2 |            2 |        100      |\n",
      "| 421 | Myhrman                |              1 |          0 |            1 |          0      |\n",
      "| 422 | Naidenoff              |              1 |          0 |            1 |          0      |\n",
      "| 423 | Najib                  |              0 |          1 |            1 |        100      |\n",
      "| 424 | Nakid                  |              0 |          2 |            2 |        100      |\n",
      "| 425 | Nankoff                |              1 |          0 |            1 |          0      |\n",
      "| 426 | Nasser                 |              1 |          1 |            2 |         50      |\n",
      "| 427 | Natsch                 |              1 |          0 |            1 |          0      |\n",
      "| 428 | Navratil               |              1 |          2 |            3 |         66.6667 |\n",
      "| 429 | Nenkoff                |              1 |          0 |            1 |          0      |\n",
      "| 430 | Newell                 |              1 |          2 |            3 |         66.6667 |\n",
      "| 431 | Newsom                 |              0 |          1 |            1 |        100      |\n",
      "| 432 | Nicholls               |              1 |          0 |            1 |          0      |\n",
      "| 433 | Nicholson              |              1 |          0 |            1 |          0      |\n",
      "| 434 | Nicola-Yarred          |              0 |          2 |            2 |        100      |\n",
      "| 435 | Nilsson                |              0 |          1 |            1 |        100      |\n",
      "| 436 | Nirva                  |              1 |          0 |            1 |          0      |\n",
      "| 437 | Niskanen               |              0 |          1 |            1 |        100      |\n",
      "| 438 | Norman                 |              1 |          0 |            1 |          0      |\n",
      "| 439 | Nosworthy              |              1 |          0 |            1 |          0      |\n",
      "| 440 | Novel                  |              1 |          0 |            1 |          0      |\n",
      "| 441 | Nye                    |              0 |          1 |            1 |        100      |\n",
      "| 442 | Nysten                 |              0 |          1 |            1 |        100      |\n",
      "| 443 | Nysveen                |              1 |          0 |            1 |          0      |\n",
      "| 444 | O'Brien                |              2 |          1 |            3 |         33.3333 |\n",
      "| 445 | O'Connell              |              1 |          0 |            1 |          0      |\n",
      "| 446 | O'Connor               |              1 |          0 |            1 |          0      |\n",
      "| 447 | O'Driscoll             |              0 |          1 |            1 |        100      |\n",
      "| 448 | O'Dwyer                |              0 |          1 |            1 |        100      |\n",
      "| 449 | O'Leary                |              0 |          1 |            1 |        100      |\n",
      "| 450 | O'Sullivan             |              1 |          0 |            1 |          0      |\n",
      "| 451 | Odahl                  |              1 |          0 |            1 |          0      |\n",
      "| 452 | Ohman                  |              0 |          1 |            1 |        100      |\n",
      "| 453 | Olsen                  |              3 |          0 |            3 |          0      |\n",
      "| 454 | Olsson                 |              2 |          0 |            2 |          0      |\n",
      "| 455 | Olsvigen               |              1 |          0 |            1 |          0      |\n",
      "| 456 | Oreskovic              |              2 |          0 |            2 |          0      |\n",
      "| 457 | Osen                   |              1 |          0 |            1 |          0      |\n",
      "| 458 | Osman                  |              0 |          1 |            1 |        100      |\n",
      "| 459 | Ostby                  |              1 |          0 |            1 |          0      |\n",
      "| 460 | Otter                  |              1 |          0 |            1 |          0      |\n",
      "| 461 | Padro y Manent         |              0 |          1 |            1 |        100      |\n",
      "| 462 | Pain                   |              1 |          0 |            1 |          0      |\n",
      "| 463 | Palsson                |              4 |          0 |            4 |          0      |\n",
      "| 464 | Panula                 |              6 |          0 |            6 |          0      |\n",
      "| 465 | Parkes                 |              1 |          0 |            1 |          0      |\n",
      "| 466 | Parr                   |              1 |          0 |            1 |          0      |\n",
      "| 467 | Parrish                |              0 |          1 |            1 |        100      |\n",
      "| 468 | Partner                |              1 |          0 |            1 |          0      |\n",
      "| 469 | Pasic                  |              1 |          0 |            1 |          0      |\n",
      "| 470 | Patchett               |              1 |          0 |            1 |          0      |\n",
      "| 471 | Paulner                |              1 |          0 |            1 |          0      |\n",
      "| 472 | Pavlovic               |              1 |          0 |            1 |          0      |\n",
      "| 473 | Pears                  |              1 |          1 |            2 |         50      |\n",
      "| 474 | Peduzzi                |              1 |          0 |            1 |          0      |\n",
      "| 475 | Pekoniemi              |              1 |          0 |            1 |          0      |\n",
      "| 476 | Penasco y Castellana   |              1 |          1 |            2 |         50      |\n",
      "| 477 | Pengelly               |              1 |          0 |            1 |          0      |\n",
      "| 478 | Perkin                 |              1 |          0 |            1 |          0      |\n",
      "| 479 | Pernot                 |              1 |          0 |            1 |          0      |\n",
      "| 480 | Perreault              |              0 |          1 |            1 |        100      |\n",
      "| 481 | Persson                |              0 |          1 |            1 |        100      |\n",
      "| 482 | Peter                  |              0 |          2 |            2 |        100      |\n",
      "| 483 | Peters                 |              1 |          0 |            1 |          0      |\n",
      "| 484 | Petranec               |              1 |          0 |            1 |          0      |\n",
      "| 485 | Petroff                |              2 |          0 |            2 |          0      |\n",
      "| 486 | Petterson              |              1 |          0 |            1 |          0      |\n",
      "| 487 | Pettersson             |              1 |          0 |            1 |          0      |\n",
      "| 488 | Peuchen                |              0 |          1 |            1 |        100      |\n",
      "| 489 | Phillips               |              0 |          1 |            1 |        100      |\n",
      "| 490 | Pickard                |              0 |          1 |            1 |        100      |\n",
      "| 491 | Pinsky                 |              0 |          1 |            1 |        100      |\n",
      "| 492 | Plotcharsky            |              1 |          0 |            1 |          0      |\n",
      "| 493 | Ponesell               |              1 |          0 |            1 |          0      |\n",
      "| 494 | Porter                 |              1 |          0 |            1 |          0      |\n",
      "| 495 | Potter                 |              0 |          1 |            1 |        100      |\n",
      "| 496 | Quick                  |              0 |          2 |            2 |        100      |\n",
      "| 497 | Radeff                 |              1 |          0 |            1 |          0      |\n",
      "| 498 | Razi                   |              1 |          0 |            1 |          0      |\n",
      "| 499 | Reed                   |              1 |          0 |            1 |          0      |\n",
      "| 500 | Reeves                 |              1 |          0 |            1 |          0      |\n",
      "| 501 | Rekic                  |              1 |          0 |            1 |          0      |\n",
      "| 502 | Renouf                 |              1 |          1 |            2 |         50      |\n",
      "| 503 | Reuchlin               |              1 |          0 |            1 |          0      |\n",
      "| 504 | Reynaldo               |              0 |          1 |            1 |        100      |\n",
      "| 505 | Rice                   |              5 |          0 |            5 |          0      |\n",
      "| 506 | Richard                |              1 |          0 |            1 |          0      |\n",
      "| 507 | Richards               |              0 |          3 |            3 |        100      |\n",
      "| 508 | Ridsdale               |              0 |          1 |            1 |        100      |\n",
      "| 509 | Ringhini               |              1 |          0 |            1 |          0      |\n",
      "| 510 | Rintamaki              |              1 |          0 |            1 |          0      |\n",
      "| 511 | Risien                 |              1 |          0 |            1 |          0      |\n",
      "| 512 | Robbins                |              1 |          0 |            1 |          0      |\n",
      "| 513 | Robert                 |              0 |          1 |            1 |        100      |\n",
      "| 514 | Robins                 |              1 |          0 |            1 |          0      |\n",
      "| 515 | Roebling               |              1 |          0 |            1 |          0      |\n",
      "| 516 | Rogers                 |              1 |          0 |            1 |          0      |\n",
      "| 517 | Romaine                |              0 |          1 |            1 |        100      |\n",
      "| 518 | Rommetvedt             |              1 |          0 |            1 |          0      |\n",
      "| 519 | Rood                   |              1 |          0 |            1 |          0      |\n",
      "| 520 | Rosblom                |              2 |          0 |            2 |          0      |\n",
      "| 521 | Ross                   |              1 |          0 |            1 |          0      |\n",
      "| 522 | Rothes                 |              0 |          1 |            1 |        100      |\n",
      "| 523 | Rothschild             |              0 |          1 |            1 |        100      |\n",
      "| 524 | Rouse                  |              1 |          0 |            1 |          0      |\n",
      "| 525 | Rugg                   |              0 |          1 |            1 |        100      |\n",
      "| 526 | Rush                   |              1 |          0 |            1 |          0      |\n",
      "| 527 | Ryan                   |              1 |          0 |            1 |          0      |\n",
      "| 528 | Ryerson                |              0 |          2 |            2 |        100      |\n",
      "| 529 | Saad                   |              2 |          0 |            2 |          0      |\n",
      "| 530 | Saalfeld               |              0 |          1 |            1 |        100      |\n",
      "| 531 | Sadlier                |              1 |          0 |            1 |          0      |\n",
      "| 532 | Sage                   |              7 |          0 |            7 |          0      |\n",
      "| 533 | Sagesser               |              0 |          1 |            1 |        100      |\n",
      "| 534 | Salkjelsvik            |              0 |          1 |            1 |        100      |\n",
      "| 535 | Salonen                |              1 |          0 |            1 |          0      |\n",
      "| 536 | Samaan                 |              1 |          0 |            1 |          0      |\n",
      "| 537 | Sandstrom              |              0 |          2 |            2 |        100      |\n",
      "| 538 | Saundercock            |              1 |          0 |            1 |          0      |\n",
      "| 539 | Sawyer                 |              1 |          0 |            1 |          0      |\n",
      "| 540 | Scanlan                |              1 |          0 |            1 |          0      |\n",
      "| 541 | Sdycoff                |              1 |          0 |            1 |          0      |\n",
      "| 542 | Sedgwick               |              1 |          0 |            1 |          0      |\n",
      "| 543 | Serepeca               |              0 |          1 |            1 |        100      |\n",
      "| 544 | Seward                 |              0 |          1 |            1 |        100      |\n",
      "| 545 | Sharp                  |              1 |          0 |            1 |          0      |\n",
      "| 546 | Sheerlinck             |              0 |          1 |            1 |        100      |\n",
      "| 547 | Shellard               |              1 |          0 |            1 |          0      |\n",
      "| 548 | Shelley                |              0 |          1 |            1 |        100      |\n",
      "| 549 | Shorney                |              1 |          0 |            1 |          0      |\n",
      "| 550 | Shutes                 |              0 |          1 |            1 |        100      |\n",
      "| 551 | Silven                 |              0 |          1 |            1 |        100      |\n",
      "| 552 | Silverthorne           |              0 |          1 |            1 |        100      |\n",
      "| 553 | Silvey                 |              1 |          1 |            2 |         50      |\n",
      "| 554 | Simmons                |              1 |          0 |            1 |          0      |\n",
      "| 555 | Simonius-Blumer        |              0 |          1 |            1 |        100      |\n",
      "| 556 | Sinkkonen              |              0 |          1 |            1 |        100      |\n",
      "| 557 | Sirayanian             |              1 |          0 |            1 |          0      |\n",
      "| 558 | Sirota                 |              1 |          0 |            1 |          0      |\n",
      "| 559 | Sivic                  |              1 |          0 |            1 |          0      |\n",
      "| 560 | Sivola                 |              1 |          0 |            1 |          0      |\n",
      "| 561 | Sjoblom                |              0 |          1 |            1 |        100      |\n",
      "| 562 | Sjostedt               |              1 |          0 |            1 |          0      |\n",
      "| 563 | Skoog                  |              6 |          0 |            6 |          0      |\n",
      "| 564 | Slabenoff              |              1 |          0 |            1 |          0      |\n",
      "| 565 | Slayter                |              0 |          1 |            1 |        100      |\n",
      "| 566 | Slemen                 |              1 |          0 |            1 |          0      |\n",
      "| 567 | Slocovski              |              1 |          0 |            1 |          0      |\n",
      "| 568 | Sloper                 |              0 |          1 |            1 |        100      |\n",
      "| 569 | Smart                  |              1 |          0 |            1 |          0      |\n",
      "| 570 | Smiljanic              |              1 |          0 |            1 |          0      |\n",
      "| 571 | Smith                  |              3 |          1 |            4 |         25      |\n",
      "| 572 | Sobey                  |              1 |          0 |            1 |          0      |\n",
      "| 573 | Soholt                 |              1 |          0 |            1 |          0      |\n",
      "| 574 | Somerton               |              1 |          0 |            1 |          0      |\n",
      "| 575 | Spedden                |              0 |          1 |            1 |        100      |\n",
      "| 576 | Spencer                |              0 |          1 |            1 |        100      |\n",
      "| 577 | Stahelin-Maeglin       |              0 |          1 |            1 |        100      |\n",
      "| 578 | Staneff                |              1 |          0 |            1 |          0      |\n",
      "| 579 | Stankovic              |              1 |          0 |            1 |          0      |\n",
      "| 580 | Stanley                |              1 |          1 |            2 |         50      |\n",
      "| 581 | Stead                  |              1 |          0 |            1 |          0      |\n",
      "| 582 | Stephenson             |              0 |          1 |            1 |        100      |\n",
      "| 583 | Stewart                |              1 |          0 |            1 |          0      |\n",
      "| 584 | Stone                  |              0 |          1 |            1 |        100      |\n",
      "| 585 | Stoytcheff             |              1 |          0 |            1 |          0      |\n",
      "| 586 | Strandberg             |              1 |          0 |            1 |          0      |\n",
      "| 587 | Stranden               |              0 |          1 |            1 |        100      |\n",
      "| 588 | Strom                  |              2 |          0 |            2 |          0      |\n",
      "| 589 | Sunderland             |              0 |          1 |            1 |        100      |\n",
      "| 590 | Sundman                |              0 |          1 |            1 |        100      |\n",
      "| 591 | Sutehall               |              1 |          0 |            1 |          0      |\n",
      "| 592 | Sutton                 |              1 |          0 |            1 |          0      |\n",
      "| 593 | Svensson               |              2 |          0 |            2 |          0      |\n",
      "| 594 | Swift                  |              0 |          1 |            1 |        100      |\n",
      "| 595 | Taussig                |              1 |          2 |            3 |         66.6667 |\n",
      "| 596 | Taylor                 |              0 |          2 |            2 |        100      |\n",
      "| 597 | Thayer                 |              1 |          2 |            3 |         66.6667 |\n",
      "| 598 | Theobald               |              1 |          0 |            1 |          0      |\n",
      "| 599 | Thomas                 |              0 |          1 |            1 |        100      |\n",
      "| 600 | Thorne                 |              0 |          1 |            1 |        100      |\n",
      "| 601 | Thorneycroft           |              1 |          1 |            2 |         50      |\n",
      "| 602 | Tikkanen               |              1 |          0 |            1 |          0      |\n",
      "| 603 | Tobin                  |              1 |          0 |            1 |          0      |\n",
      "| 604 | Todoroff               |              1 |          0 |            1 |          0      |\n",
      "| 605 | Tomlin                 |              1 |          0 |            1 |          0      |\n",
      "| 606 | Toomey                 |              0 |          1 |            1 |        100      |\n",
      "| 607 | Torber                 |              1 |          0 |            1 |          0      |\n",
      "| 608 | Tornquist              |              0 |          1 |            1 |        100      |\n",
      "| 609 | Toufik                 |              1 |          0 |            1 |          0      |\n",
      "| 610 | Touma                  |              0 |          1 |            1 |        100      |\n",
      "| 611 | Troupiansky            |              1 |          0 |            1 |          0      |\n",
      "| 612 | Trout                  |              0 |          1 |            1 |        100      |\n",
      "| 613 | Troutt                 |              0 |          1 |            1 |        100      |\n",
      "| 614 | Turcin                 |              1 |          0 |            1 |          0      |\n",
      "| 615 | Turja                  |              0 |          1 |            1 |        100      |\n",
      "| 616 | Turkula                |              0 |          1 |            1 |        100      |\n",
      "| 617 | Turpin                 |              2 |          0 |            2 |          0      |\n",
      "| 618 | Uruchurtu              |              1 |          0 |            1 |          0      |\n",
      "| 619 | Van Impe               |              3 |          0 |            3 |          0      |\n",
      "| 620 | Van der hoef           |              1 |          0 |            1 |          0      |\n",
      "| 621 | Vande Velde            |              1 |          0 |            1 |          0      |\n",
      "| 622 | Vande Walle            |              1 |          0 |            1 |          0      |\n",
      "| 623 | Vanden Steen           |              1 |          0 |            1 |          0      |\n",
      "| 624 | Vander Cruyssen        |              1 |          0 |            1 |          0      |\n",
      "| 625 | Vander Planke          |              3 |          0 |            3 |          0      |\n",
      "| 626 | Vestrom                |              1 |          0 |            1 |          0      |\n",
      "| 627 | Vovk                   |              1 |          0 |            1 |          0      |\n",
      "| 628 | Waelens                |              1 |          0 |            1 |          0      |\n",
      "| 629 | Walker                 |              1 |          0 |            1 |          0      |\n",
      "| 630 | Ward                   |              0 |          1 |            1 |        100      |\n",
      "| 631 | Warren                 |              0 |          1 |            1 |        100      |\n",
      "| 632 | Watson                 |              1 |          0 |            1 |          0      |\n",
      "| 633 | Watt                   |              0 |          1 |            1 |        100      |\n",
      "| 634 | Webber                 |              1 |          1 |            2 |         50      |\n",
      "| 635 | Weir                   |              1 |          0 |            1 |          0      |\n",
      "| 636 | Weisz                  |              0 |          1 |            1 |        100      |\n",
      "| 637 | Wells                  |              0 |          1 |            1 |        100      |\n",
      "| 638 | West                   |              1 |          2 |            3 |         66.6667 |\n",
      "| 639 | Wheadon                |              1 |          0 |            1 |          0      |\n",
      "| 640 | White                  |              2 |          0 |            2 |          0      |\n",
      "| 641 | Wick                   |              0 |          2 |            2 |        100      |\n",
      "| 642 | Widegren               |              1 |          0 |            1 |          0      |\n",
      "| 643 | Widener                |              1 |          0 |            1 |          0      |\n",
      "| 644 | Wiklund                |              1 |          0 |            1 |          0      |\n",
      "| 645 | Wilhelms               |              0 |          1 |            1 |        100      |\n",
      "| 646 | Willey                 |              1 |          0 |            1 |          0      |\n",
      "| 647 | Williams               |              3 |          1 |            4 |         25      |\n",
      "| 648 | Williams-Lambert       |              1 |          0 |            1 |          0      |\n",
      "| 649 | Windelov               |              1 |          0 |            1 |          0      |\n",
      "| 650 | Wiseman                |              1 |          0 |            1 |          0      |\n",
      "| 651 | Woolner                |              0 |          1 |            1 |        100      |\n",
      "| 652 | Wright                 |              1 |          0 |            1 |          0      |\n",
      "| 653 | Yasbeck                |              1 |          1 |            2 |         50      |\n",
      "| 654 | Young                  |              0 |          1 |            1 |        100      |\n",
      "| 655 | Youseff                |              1 |          0 |            1 |          0      |\n",
      "| 656 | Yousif                 |              1 |          0 |            1 |          0      |\n",
      "| 657 | Yousseff               |              1 |          0 |            1 |          0      |\n",
      "| 658 | Yrois                  |              1 |          0 |            1 |          0      |\n",
      "| 659 | Zabour                 |              2 |          0 |            2 |          0      |\n",
      "| 660 | Zimmerman              |              1 |          0 |            1 |          0      |\n",
      "| 661 | de Messemaeker         |              0 |          1 |            1 |        100      |\n",
      "| 662 | de Mulder              |              0 |          1 |            1 |        100      |\n",
      "| 663 | de Pelsmaeker          |              1 |          0 |            1 |          0      |\n",
      "| 664 | del Carlo              |              1 |          0 |            1 |          0      |\n",
      "| 665 | van Billiard           |              1 |          0 |            1 |          0      |\n",
      "| 666 | van Melkebeke          |              1 |          0 |            1 |          0      |\n"
     ]
    }
   ],
   "source": [
    "# plot the survival rate for each family\n",
    "df_LastName = pivot_survival_rate(df_train, 'Last')"
   ]
  },
  {
   "cell_type": "code",
   "execution_count": 15,
   "metadata": {},
   "outputs": [
    {
     "data": {
      "image/png": "[encoded data removed]",
      "text/plain": [
       "<Figure size 432x288 with 1 Axes>"
      ]
     },
     "metadata": {
      "needs_background": "light"
     },
     "output_type": "display_data"
    }
   ],
   "source": [
    "# create a histogram to visualize the survival rate\n",
    "df_LastName['survival_rate'].hist()\n",
    "plt.show()"
   ]
  },
  {
   "cell_type": "markdown",
   "metadata": {},
   "source": [
    "#### Result\n",
    "From the histogram we see that in most cases either all family members died (survival rate = 0) or survived (survival rate = 100). Therefore the new feature \"LastName\" could be an important feature to predict the survival rate if the training and test dataset both contain passengers of the same last name.\n",
    "\n",
    "-> Prove the assumption in a later stage of the project with feature importance."
   ]
  },
  {
   "cell_type": "markdown",
   "metadata": {},
   "source": [
    "### New feature: Title\n",
    "Create a new feature \"Title\" based on the feature \"Name\" because the feature \"Name\" is too unique that the algorithm could find a relation between the name and the survival rate. But because the name contains a title, we could save the title and maybe find a correlation between the title and the survival rate."
   ]
  },
  {
   "cell_type": "code",
   "execution_count": 16,
   "metadata": {},
   "outputs": [
    {
     "data": {
      "text/plain": [
       "Mr             517\n",
       "Miss           182\n",
       "Mrs            125\n",
       "Master          40\n",
       "Dr               7\n",
       "Rev              6\n",
       "Mlle             2\n",
       "Major            2\n",
       "Col              2\n",
       "theCountess      1\n",
       "Capt             1\n",
       "Ms               1\n",
       "Sir              1\n",
       "Lady             1\n",
       "Mme              1\n",
       "Don              1\n",
       "Jonkheer         1\n",
       "Name: Title, dtype: int64"
      ]
     },
     "execution_count": 16,
     "metadata": {},
     "output_type": "execute_result"
    }
   ],
   "source": [
    "df_train['Title'].value_counts()"
   ]
  },
  {
   "cell_type": "markdown",
   "metadata": {},
   "source": [
    "If we count all unique titles, we see that there are a lot of unique titles, that we want to group as rare title."
   ]
  },
  {
   "cell_type": "code",
   "execution_count": 17,
   "metadata": {},
   "outputs": [],
   "source": [
    "def rename_title(df):\n",
    "    df.loc[df[\"Title\"] == \"Dr\", \"Title\"] = 'Rare Title'\n",
    "    df.loc[df[\"Title\"] == \"Rev\", \"Title\"] = 'Rare Title'\n",
    "    df.loc[df[\"Title\"] == \"Col\", \"Title\"] = 'Rare Title'\n",
    "    df.loc[df[\"Title\"] == \"Ms\", \"Title\"] = 'Miss'\n",
    "    df.loc[df[\"Title\"] == \"Major\", \"Title\"] = 'Rare Title'\n",
    "    df.loc[df[\"Title\"] == \"Mlle\", \"Title\"] = 'Miss'\n",
    "    df.loc[df[\"Title\"] == \"Mme\", \"Title\"] = 'Mrs'\n",
    "    df.loc[df[\"Title\"] == \"Jonkheer\", \"Title\"] = 'Rare Title'\n",
    "    df.loc[df[\"Title\"] == \"Lady\", \"Title\"] = 'Rare Title'\n",
    "    df.loc[df[\"Title\"] == \"theCountess\", \"Title\"] = 'Rare Title'\n",
    "    df.loc[df[\"Title\"] == \"Capt\", \"Title\"] = 'Rare Title'\n",
    "    df.loc[df[\"Title\"] == \"Don\", \"Title\"] = 'Rare Title'\n",
    "    df.loc[df[\"Title\"] == \"Sir\", \"Title\"] = 'Rare Title'\n",
    "    df.loc[df[\"Title\"] == \"Dona\", \"Title\"] = 'Rare Title'\n",
    "    return df\n",
    "\n",
    "# apply the title rename function to the training and test set\n",
    "df_train = rename_title(df_train)\n",
    "df_test = rename_title(df_test)"
   ]
  },
  {
   "cell_type": "code",
   "execution_count": 18,
   "metadata": {},
   "outputs": [
    {
     "name": "stdout",
     "output_type": "stream",
     "text": [
      "|    | Title      |   not_survived |   survived |   passengers |   survival_rate |\n",
      "|---:|:-----------|---------------:|-----------:|-------------:|----------------:|\n",
      "|  0 | Master     |             17 |         23 |           40 |         57.5    |\n",
      "|  1 | Miss       |             55 |        130 |          185 |         70.2703 |\n",
      "|  2 | Mr         |            436 |         81 |          517 |         15.6673 |\n",
      "|  3 | Mrs        |             26 |        100 |          126 |         79.3651 |\n",
      "|  4 | Rare Title |             15 |          8 |           23 |         34.7826 |\n"
     ]
    }
   ],
   "source": [
    "_ = pivot_survival_rate(df_train, \"Title\")"
   ]
  },
  {
   "cell_type": "markdown",
   "metadata": {},
   "source": [
    "#### Result\n",
    "The survival rate for passengers with the title Mrs (79%) and Miss (70%) are the highest. If we compare the male title Master (59.5%) and Mr (15.7%), we see that passengers with the title Master have a 43.8% higher survival rate."
   ]
  },
  {
   "cell_type": "markdown",
   "metadata": {},
   "source": [
    "### New features from Ticket\n",
    "- **Prefix**: non numerical prefix of a ticket\n",
    "- **TNlen**: length of numeric ticket number\n",
    "- **LeadingDigit**: first digit of numeric ticket number\n",
    "- **TGroup**: numeric ticket number without the last digit"
   ]
  },
  {
   "cell_type": "code",
   "execution_count": 19,
   "metadata": {},
   "outputs": [
    {
     "data": {
      "text/html": [
       "<div>\n",
       "<style scoped>\n",
       "    .dataframe tbody tr th:only-of-type {\n",
       "        vertical-align: middle;\n",
       "    }\n",
       "\n",
       "    .dataframe tbody tr th {\n",
       "        vertical-align: top;\n",
       "    }\n",
       "\n",
       "    .dataframe thead th {\n",
       "        text-align: right;\n",
       "    }\n",
       "</style>\n",
       "<table border=\"1\" class=\"dataframe\">\n",
       "  <thead>\n",
       "    <tr style=\"text-align: right;\">\n",
       "      <th></th>\n",
       "      <th>Ticket</th>\n",
       "    </tr>\n",
       "  </thead>\n",
       "  <tbody>\n",
       "    <tr>\n",
       "      <th>0</th>\n",
       "      <td>A/5 21171</td>\n",
       "    </tr>\n",
       "    <tr>\n",
       "      <th>1</th>\n",
       "      <td>PC 17599</td>\n",
       "    </tr>\n",
       "    <tr>\n",
       "      <th>2</th>\n",
       "      <td>STON/O2. 3101282</td>\n",
       "    </tr>\n",
       "    <tr>\n",
       "      <th>3</th>\n",
       "      <td>113803</td>\n",
       "    </tr>\n",
       "    <tr>\n",
       "      <th>4</th>\n",
       "      <td>373450</td>\n",
       "    </tr>\n",
       "  </tbody>\n",
       "</table>\n",
       "</div>"
      ],
      "text/plain": [
       "             Ticket\n",
       "0         A/5 21171\n",
       "1          PC 17599\n",
       "2  STON/O2. 3101282\n",
       "3            113803\n",
       "4            373450"
      ]
     },
     "execution_count": 19,
     "metadata": {},
     "output_type": "execute_result"
    }
   ],
   "source": [
    "df_train[['Ticket']].head()"
   ]
  },
  {
   "cell_type": "markdown",
   "metadata": {},
   "source": [
    "If we take a look at the \"Ticket\" feature, we can see that there is a **schema in that ticket feature**. The ticket contains consists of a first non numeric part with or without special character and a second numeric part or only the numeric part. With this schema in mind, we can create a function to extract different features out of the ticket."
   ]
  },
  {
   "cell_type": "code",
   "execution_count": 20,
   "metadata": {},
   "outputs": [],
   "source": [
    "def get_prefix(ticket):\n",
    "    \"\"\"\n",
    "    check if the first part of the ticket (separated by a space) are letters\n",
    "    return only the letter or the information that the first part does not contain only letter\n",
    "    \"\"\"\n",
    "    lead = ticket.split(' ')[0][0]\n",
    "    if lead.isalpha():\n",
    "        return ticket.split(' ')[0]\n",
    "    else:\n",
    "        return 'NoPrefix'\n",
    "\n",
    "def ticket_features(df):\n",
    "    \"\"\"\n",
    "    Prefix: non numerical prefix of a ticket\n",
    "    TNlen: length of numeric ticket number\n",
    "    LeadingDigit: first digit of numeric ticket number\n",
    "    TGroup: numeric ticket number without the last digit\n",
    "    \"\"\"\n",
    "    df['Ticket'] = df['Ticket'].replace('LINE','LINE 0')\n",
    "    df['Ticket'] = df['Ticket'].apply(lambda x: x.replace('.','').replace('/','').lower())\n",
    "    df['Prefix'] = df['Ticket'].apply(lambda x: get_prefix(x))\n",
    "    df['TNumeric'] = df['Ticket'].apply(lambda x: int(x.split(' ')[-1]))\n",
    "    df['TNlen'] = df['TNumeric'].apply(lambda x : len(str(x)))\n",
    "    df['LeadingDigit'] = df['TNumeric'].apply(lambda x : int(str(x)[0]))\n",
    "    df['TGroup'] = df['TNumeric'].apply(lambda x: str(x//10))\n",
    "\n",
    "    df = df.drop(columns=['Ticket','TNumeric'])\n",
    "\n",
    "    return df\n",
    "\n",
    "df_train = ticket_features(df_train)\n",
    "df_test = ticket_features(df_test)"
   ]
  },
  {
   "cell_type": "code",
   "execution_count": 21,
   "metadata": {},
   "outputs": [
    {
     "data": {
      "text/html": [
       "<div>\n",
       "<style scoped>\n",
       "    .dataframe tbody tr th:only-of-type {\n",
       "        vertical-align: middle;\n",
       "    }\n",
       "\n",
       "    .dataframe tbody tr th {\n",
       "        vertical-align: top;\n",
       "    }\n",
       "\n",
       "    .dataframe thead th {\n",
       "        text-align: right;\n",
       "    }\n",
       "</style>\n",
       "<table border=\"1\" class=\"dataframe\">\n",
       "  <thead>\n",
       "    <tr style=\"text-align: right;\">\n",
       "      <th></th>\n",
       "      <th>Prefix</th>\n",
       "      <th>TNlen</th>\n",
       "      <th>LeadingDigit</th>\n",
       "      <th>TGroup</th>\n",
       "    </tr>\n",
       "  </thead>\n",
       "  <tbody>\n",
       "    <tr>\n",
       "      <th>0</th>\n",
       "      <td>a5</td>\n",
       "      <td>5</td>\n",
       "      <td>2</td>\n",
       "      <td>2117</td>\n",
       "    </tr>\n",
       "    <tr>\n",
       "      <th>1</th>\n",
       "      <td>pc</td>\n",
       "      <td>5</td>\n",
       "      <td>1</td>\n",
       "      <td>1759</td>\n",
       "    </tr>\n",
       "    <tr>\n",
       "      <th>2</th>\n",
       "      <td>stono2</td>\n",
       "      <td>7</td>\n",
       "      <td>3</td>\n",
       "      <td>310128</td>\n",
       "    </tr>\n",
       "    <tr>\n",
       "      <th>3</th>\n",
       "      <td>NoPrefix</td>\n",
       "      <td>6</td>\n",
       "      <td>1</td>\n",
       "      <td>11380</td>\n",
       "    </tr>\n",
       "    <tr>\n",
       "      <th>4</th>\n",
       "      <td>NoPrefix</td>\n",
       "      <td>6</td>\n",
       "      <td>3</td>\n",
       "      <td>37345</td>\n",
       "    </tr>\n",
       "  </tbody>\n",
       "</table>\n",
       "</div>"
      ],
      "text/plain": [
       "     Prefix  TNlen  LeadingDigit  TGroup\n",
       "0        a5      5             2    2117\n",
       "1        pc      5             1    1759\n",
       "2    stono2      7             3  310128\n",
       "3  NoPrefix      6             1   11380\n",
       "4  NoPrefix      6             3   37345"
      ]
     },
     "execution_count": 21,
     "metadata": {},
     "output_type": "execute_result"
    }
   ],
   "source": [
    "df_train[['Prefix', 'TNlen', 'LeadingDigit', 'TGroup']].head()"
   ]
  },
  {
   "cell_type": "markdown",
   "metadata": {},
   "source": [
    "#### Result LeadingDigit\n",
    "- the lower the leading digit, the higher is the survival rate\n",
    "- but for 0, the survival rate is lower (maybe these 4 passengers are some special passengers)"
   ]
  },
  {
   "cell_type": "code",
   "execution_count": 22,
   "metadata": {},
   "outputs": [
    {
     "name": "stdout",
     "output_type": "stream",
     "text": [
      "|    |   LeadingDigit |   not_survived |   survived |   passengers |   survival_rate |\n",
      "|---:|---------------:|---------------:|-----------:|-------------:|----------------:|\n",
      "|  0 |              0 |              3 |          1 |            4 |        25       |\n",
      "|  1 |              1 |             91 |        140 |          231 |        60.6061  |\n",
      "|  2 |              2 |            136 |         94 |          230 |        40.8696  |\n",
      "|  3 |              3 |            272 |         95 |          367 |        25.8856  |\n",
      "|  4 |              4 |             13 |          2 |           15 |        13.3333  |\n",
      "|  5 |              5 |              7 |          2 |            9 |        22.2222  |\n",
      "|  6 |              6 |             13 |          1 |           14 |         7.14286 |\n",
      "|  7 |              7 |             11 |          4 |           15 |        26.6667  |\n",
      "|  8 |              8 |              3 |          0 |            3 |         0       |\n",
      "|  9 |              9 |              0 |          3 |            3 |       100       |\n"
     ]
    }
   ],
   "source": [
    "# show the survival rate for each LeadingDigit\n",
    "_ = pivot_survival_rate(df_train, \"LeadingDigit\")"
   ]
  },
  {
   "cell_type": "markdown",
   "metadata": {},
   "source": [
    "#### Result TNlen\n",
    "- there are clear differences in the survival rate in the TNlen feature\n",
    "- passengers with a numeric ticket length of 5 have the highest survival rate of 65.5%\n",
    "- the two other TNlen classes with >100 passengers have only a survival rate of around 32%"
   ]
  },
  {
   "cell_type": "code",
   "execution_count": 23,
   "metadata": {},
   "outputs": [
    {
     "name": "stdout",
     "output_type": "stream",
     "text": [
      "|    |   TNlen |   not_survived |   survived |   passengers |   survival_rate |\n",
      "|---:|--------:|---------------:|-----------:|-------------:|----------------:|\n",
      "|  0 |       1 |              5 |          1 |            6 |         16.6667 |\n",
      "|  1 |       3 |              4 |          3 |            7 |         42.8571 |\n",
      "|  2 |       4 |            113 |         52 |          165 |         31.5152 |\n",
      "|  3 |       5 |            107 |        139 |          246 |         56.5041 |\n",
      "|  4 |       6 |            288 |        135 |          423 |         31.9149 |\n",
      "|  5 |       7 |             32 |         12 |           44 |         27.2727 |\n"
     ]
    }
   ],
   "source": [
    "# show the survival rate for each TNlen\n",
    "_ = pivot_survival_rate(df_train, \"TNlen\")"
   ]
  },
  {
   "cell_type": "markdown",
   "metadata": {},
   "source": [
    "#### Result Prefix\n",
    "- 661 passengers have no prefix in their tickets\n",
    "- for some classes with higher numer of passengers have eigher a higher or lower survival rate, compared to the mean survival rate of 38%\n",
    " - fcc: 80%\n",
    " - pc: 65%\n",
    " - sotonoq: 13%\n",
    " - wc: 10%\n",
    " - a5: 9.5%\n",
    " - a4: 0%"
   ]
  },
  {
   "cell_type": "code",
   "execution_count": 24,
   "metadata": {},
   "outputs": [
    {
     "name": "stdout",
     "output_type": "stream",
     "text": [
      "|    | Prefix   |   not_survived |   survived |   passengers |   survival_rate |\n",
      "|---:|:---------|---------------:|-----------:|-------------:|----------------:|\n",
      "|  0 | NoPrefix |            407 |        254 |          661 |        38.4266  |\n",
      "|  1 | a4       |              7 |          0 |            7 |         0       |\n",
      "|  2 | a5       |             19 |          2 |           21 |         9.52381 |\n",
      "|  3 | as       |              1 |          0 |            1 |         0       |\n",
      "|  4 | c        |              3 |          2 |            5 |        40       |\n",
      "|  5 | ca       |             27 |         14 |           41 |        34.1463  |\n",
      "|  6 | casoton  |              1 |          0 |            1 |         0       |\n",
      "|  7 | fa       |              1 |          0 |            1 |         0       |\n",
      "|  8 | fc       |              1 |          0 |            1 |         0       |\n",
      "|  9 | fcc      |              1 |          4 |            5 |        80       |\n",
      "| 10 | line     |              3 |          1 |            4 |        25       |\n",
      "| 11 | pc       |             21 |         39 |           60 |        65       |\n",
      "| 12 | pp       |              1 |          2 |            3 |        66.6667  |\n",
      "| 13 | ppp      |              1 |          1 |            2 |        50       |\n",
      "| 14 | sc       |              0 |          1 |            1 |       100       |\n",
      "| 15 | sca4     |              1 |          0 |            1 |         0       |\n",
      "| 16 | scah     |              1 |          2 |            3 |        66.6667  |\n",
      "| 17 | scow     |              1 |          0 |            1 |         0       |\n",
      "| 18 | scparis  |              6 |          5 |           11 |        45.4545  |\n",
      "| 19 | soc      |              5 |          1 |            6 |        16.6667  |\n",
      "| 20 | sop      |              1 |          0 |            1 |         0       |\n",
      "| 21 | sopp     |              3 |          0 |            3 |         0       |\n",
      "| 22 | sotono2  |              2 |          0 |            2 |         0       |\n",
      "| 23 | sotonoq  |             13 |          2 |           15 |        13.3333  |\n",
      "| 24 | sp       |              1 |          0 |            1 |         0       |\n",
      "| 25 | stono    |              7 |          5 |           12 |        41.6667  |\n",
      "| 26 | stono2   |              3 |          3 |            6 |        50       |\n",
      "| 27 | swpp     |              0 |          2 |            2 |       100       |\n",
      "| 28 | wc       |              9 |          1 |           10 |        10       |\n",
      "| 29 | wep      |              2 |          1 |            3 |        33.3333  |\n"
     ]
    }
   ],
   "source": [
    "# show the survival rate for each Prefix\n",
    "_ = pivot_survival_rate(df_train, \"Prefix\")"
   ]
  },
  {
   "cell_type": "markdown",
   "metadata": {},
   "source": [
    "#### Result TGroup\n",
    "There are too many unique values for TGroup to visualize in a table. Therefore we filter the training data to the samples with a TGroup, that contains more or equal 10 passengers and calculate the survival rate for this selection of TGroup.\n",
    "\n",
    "From the catplot you see that the survival rate differs much between the categories of TGroup, but all TGroup have also a high width of the confidence interval."
   ]
  },
  {
   "cell_type": "code",
   "execution_count": 25,
   "metadata": {},
   "outputs": [
    {
     "data": {
      "text/plain": [
       "338"
      ]
     },
     "execution_count": 25,
     "metadata": {},
     "output_type": "execute_result"
    }
   ],
   "source": [
    "# there are too many unique values for TGroup\n",
    "df_train.TGroup.nunique()"
   ]
  },
  {
   "cell_type": "code",
   "execution_count": 26,
   "metadata": {},
   "outputs": [
    {
     "data": {
      "image/png": "[encoded data removed]",
      "text/plain": [
       "<Figure size 360x360 with 1 Axes>"
      ]
     },
     "metadata": {
      "needs_background": "light"
     },
     "output_type": "display_data"
    }
   ],
   "source": [
    "# group the training data by TGroup to get the number of passengers per TGroup\n",
    "df_tgroup = df_train[['TGroup', 'PassengerId']].groupby(['TGroup']).nunique().sort_values(by='PassengerId', ascending=False)\n",
    "# filter TGroup that contains more or equal 10 passengers\n",
    "df_tgroup = df_tgroup[df_tgroup.PassengerId >= 10]\n",
    "\n",
    "# filter the whole training data to the samples that are in the selection of TGroup\n",
    "df_tgroup = df_train[df_train['TGroup'].isin(df_tgroup.index)]\n",
    "\n",
    "# create a catplot for the survival rate of each filtered TGroup\n",
    "sns.catplot(x='TGroup', y=\"Survived\", data=df_tgroup, kind=\"bar\")\n",
    "plt.show()"
   ]
  },
  {
   "cell_type": "markdown",
   "metadata": {},
   "source": [
    "## Fix or Remove Outliers\n",
    " **Numeric features that have only few unique values like, \"Parch\", \"Pclass\" and \"SibSp\" can have outliers.** The risk is too high to delete one unique value that has only a few entries, because if the test set contains this value, the algorithm has no chance to consider this value. Therefore, we only look for outliers in \"Age\" and \"Fare\".\n",
    "\n",
    " Moreover we will create two new features by clipping the Age and Fare features. That will also handle potential outliers."
   ]
  },
  {
   "cell_type": "markdown",
   "metadata": {},
   "source": [
    "### Find outliers using Box Plots\n",
    "Box plots are a graphical depiction of numerical data through their quantiles and therefore a very simple but effective way to visualize outliers."
   ]
  },
  {
   "cell_type": "code",
   "execution_count": 27,
   "metadata": {},
   "outputs": [
    {
     "data": {
      "image/png": "[encoded data removed]",
      "text/plain": [
       "<Figure size 432x288 with 1 Axes>"
      ]
     },
     "metadata": {
      "needs_background": "light"
     },
     "output_type": "display_data"
    },
    {
     "data": {
      "image/png": "[encoded data removed]",
      "text/plain": [
       "<Figure size 432x288 with 1 Axes>"
      ]
     },
     "metadata": {
      "needs_background": "light"
     },
     "output_type": "display_data"
    }
   ],
   "source": [
    "# define a list with numeric features of which we want to look at the boxplot\n",
    "num_features = [\"Age\", \"Fare\"]\n",
    "\n",
    "# combine the training and test dataset\n",
    "df_merge = pd.concat([df_train, df_test])\n",
    "\n",
    "# create a boxplot of each selected feature seperated by the training and test dataset\n",
    "for feature in num_features:\n",
    "    plt.figure() # create a new figure for each plot\n",
    "    sns.boxplot(data=df_merge, y=feature, x=\"dataset\")\n",
    "    plt.show()"
   ]
  },
  {
   "cell_type": "markdown",
   "metadata": {},
   "source": [
    "From the two boxplots we see that the age of some passengers could be seen as outliers, but are close enough to the upper whiskers to keep all values in \"Age\". For the feature **\"Fare\" all values higher than 300 could be classified as outliers but data points are in the training and test dataset**. Samples in the test dataset can not be removed because otherwise the submission has not the same number of samples. Therefore we do not remove samples as outliers."
   ]
  },
  {
   "cell_type": "markdown",
   "metadata": {},
   "source": [
    "### Find outliers using Inerquatile Range Method\n",
    "Using the Inerquatile Range Method, we create And create one feature per analyzed outlier feature that indicate that the sample has an outlier. We use this approach to find outliers, because we get more outliers in the feature. When we only flag the samples that are conspicous in the box-plot, the new feature has a low variance and the possibility is high that this new feature will be deteted in the feature selection section.\n",
    "\n",
    "<input type=\"checkbox\"> **One impoartant step will be to flag the missing values for Age after we either remove the missing samples or using an imputation method**"
   ]
  },
  {
   "cell_type": "code",
   "execution_count": 28,
   "metadata": {},
   "outputs": [],
   "source": [
    "def find_outlier_Interquartile_Range_Method(df_train, feature):\n",
    "    print(feature)\n",
    "    v_fraud = df_train[feature].dropna().values\n",
    "    q25, q75 = np.percentile(v_fraud, 25), np.percentile(v_fraud, 75)\n",
    "    print('Quartile25: {} | Quartile75: {}'.format(q25, q75))\n",
    "    v14_iqr = q75-q25\n",
    "    \n",
    "    print('iqr: {}'.format(v14_iqr))\n",
    "    v_cut_off = v14_iqr*1.5\n",
    "    v_lower, v_upper = q25-v_cut_off, q75+v_cut_off\n",
    "    print('CtOff: {}'.format(v_cut_off))\n",
    "    print('Lower: {}'.format(v_lower))\n",
    "    print('Upper: {}'.format(v_upper))\n",
    "    \n",
    "    outliers = [x for x in v_fraud if x<v_lower or x>v_upper]\n",
    "    print('Number of Outliers: {} ({}%)'.format(len(outliers), round(len(outliers)/len(df_train)*100,0)))\n",
    "    print(\"\\n\")\n",
    "\n",
    "    return v_lower, v_upper"
   ]
  },
  {
   "cell_type": "code",
   "execution_count": 29,
   "metadata": {},
   "outputs": [
    {
     "name": "stdout",
     "output_type": "stream",
     "text": [
      "Age\n",
      "Quartile25: 20.125 | Quartile75: 38.0\n",
      "iqr: 17.875\n",
      "CtOff: 26.8125\n",
      "Lower: -6.6875\n",
      "Upper: 64.8125\n",
      "Number of Outliers: 11 (1.0%)\n",
      "\n",
      "\n",
      "Fare\n",
      "Quartile25: 7.9104 | Quartile75: 31.0\n",
      "iqr: 23.0896\n",
      "CtOff: 34.6344\n",
      "Lower: -26.724\n",
      "Upper: 65.6344\n",
      "Number of Outliers: 116 (13.0%)\n",
      "\n",
      "\n"
     ]
    }
   ],
   "source": [
    "dict_interquartile_ranges = {}\n",
    "\n",
    "for feature in num_features:\n",
    "    # get the lower and upper bounds of the interquartile range method\n",
    "    v_lower, v_upper = find_outlier_Interquartile_Range_Method(df_train, feature)\n",
    "    dict_interquartile_ranges[feature] = (v_lower, v_upper)\n",
    "\n",
    "    # create a new feature in the training dataset and set the feature to 1 if the lower and upper bounds are cut\n",
    "    df_train[feature + \"_outlier\"] = 'no_outlier'\n",
    "    df_train[feature + \"_outlier\"].iloc[df_train[feature].isna()] = 'missing_value'\n",
    "    df_train[feature + \"_outlier\"].iloc[(df_train[feature]>v_upper) | (df_train[feature]<v_lower)] = 'outlier'\n",
    "\n",
    "    # create a new feature in the test dataset and set the feature to 1 if the lower and upper bounds are cut\n",
    "    df_test[feature + \"_outlier\"] = 'no_outlier'\n",
    "    df_train[feature + \"_outlier\"].iloc[df_train[feature].isna()] = 'missing_value'\n",
    "    df_test[feature + \"_outlier\"].iloc[(df_test[feature]>v_upper) | (df_test[feature]<v_lower)] = 'outlier'"
   ]
  },
  {
   "cell_type": "markdown",
   "metadata": {},
   "source": [
    "## Fix or Remove Missing Values\n",
    "From the statistic report we already saw that there are missing values in the training and test dataset. With the following function you get a better overview of the missing values."
   ]
  },
  {
   "cell_type": "code",
   "execution_count": 30,
   "metadata": {},
   "outputs": [],
   "source": [
    "def find_missing_values(df):\n",
    "    \"\"\"\n",
    "    find missing values in the dataframe\n",
    "    return the features with missing values, the total number of missing values and the percentage of missing values\n",
    "    \"\"\"\n",
    "    total = df.isnull().sum().sort_values(ascending=False) # compute the total number of missing values\n",
    "    percent = (df.isnull().sum()/df.isnull().count()).sort_values(ascending=False) # compute the percentage of missing values\n",
    "    missing_data = pd.concat([total, percent], axis=1, keys=['Total', 'Percent']) # add all information to one dataframe\n",
    "    missing_data = missing_data[missing_data['Total']>0] # filter the dataframe to only the features with missing values\n",
    "    return missing_data"
   ]
  },
  {
   "cell_type": "code",
   "execution_count": 31,
   "metadata": {},
   "outputs": [
    {
     "data": {
      "text/html": [
       "<div>\n",
       "<style scoped>\n",
       "    .dataframe tbody tr th:only-of-type {\n",
       "        vertical-align: middle;\n",
       "    }\n",
       "\n",
       "    .dataframe tbody tr th {\n",
       "        vertical-align: top;\n",
       "    }\n",
       "\n",
       "    .dataframe thead th {\n",
       "        text-align: right;\n",
       "    }\n",
       "</style>\n",
       "<table border=\"1\" class=\"dataframe\">\n",
       "  <thead>\n",
       "    <tr style=\"text-align: right;\">\n",
       "      <th></th>\n",
       "      <th>Total</th>\n",
       "      <th>Percent</th>\n",
       "    </tr>\n",
       "  </thead>\n",
       "  <tbody>\n",
       "    <tr>\n",
       "      <th>Cabin</th>\n",
       "      <td>687</td>\n",
       "      <td>0.771044</td>\n",
       "    </tr>\n",
       "    <tr>\n",
       "      <th>Age</th>\n",
       "      <td>177</td>\n",
       "      <td>0.198653</td>\n",
       "    </tr>\n",
       "    <tr>\n",
       "      <th>Embarked</th>\n",
       "      <td>2</td>\n",
       "      <td>0.002245</td>\n",
       "    </tr>\n",
       "  </tbody>\n",
       "</table>\n",
       "</div>"
      ],
      "text/plain": [
       "          Total   Percent\n",
       "Cabin       687  0.771044\n",
       "Age         177  0.198653\n",
       "Embarked      2  0.002245"
      ]
     },
     "execution_count": 31,
     "metadata": {},
     "output_type": "execute_result"
    }
   ],
   "source": [
    "find_missing_values(df_train)"
   ]
  },
  {
   "cell_type": "code",
   "execution_count": 32,
   "metadata": {},
   "outputs": [
    {
     "data": {
      "text/html": [
       "<div>\n",
       "<style scoped>\n",
       "    .dataframe tbody tr th:only-of-type {\n",
       "        vertical-align: middle;\n",
       "    }\n",
       "\n",
       "    .dataframe tbody tr th {\n",
       "        vertical-align: top;\n",
       "    }\n",
       "\n",
       "    .dataframe thead th {\n",
       "        text-align: right;\n",
       "    }\n",
       "</style>\n",
       "<table border=\"1\" class=\"dataframe\">\n",
       "  <thead>\n",
       "    <tr style=\"text-align: right;\">\n",
       "      <th></th>\n",
       "      <th>Total</th>\n",
       "      <th>Percent</th>\n",
       "    </tr>\n",
       "  </thead>\n",
       "  <tbody>\n",
       "    <tr>\n",
       "      <th>Cabin</th>\n",
       "      <td>327</td>\n",
       "      <td>0.782297</td>\n",
       "    </tr>\n",
       "    <tr>\n",
       "      <th>Age</th>\n",
       "      <td>86</td>\n",
       "      <td>0.205742</td>\n",
       "    </tr>\n",
       "    <tr>\n",
       "      <th>Fare</th>\n",
       "      <td>1</td>\n",
       "      <td>0.002392</td>\n",
       "    </tr>\n",
       "  </tbody>\n",
       "</table>\n",
       "</div>"
      ],
      "text/plain": [
       "       Total   Percent\n",
       "Cabin    327  0.782297\n",
       "Age       86  0.205742\n",
       "Fare       1  0.002392"
      ]
     },
     "execution_count": 32,
     "metadata": {},
     "output_type": "execute_result"
    }
   ],
   "source": [
    "find_missing_values(df_test)"
   ]
  },
  {
   "cell_type": "markdown",
   "metadata": {},
   "source": [
    "### Results\n",
    "- There are 77% and 78% missing values in \"Cabine\" **-> delete feature**\n",
    "- There are 2 missing values in \"Embarked\" only in the training data **-> input by comparison**\n",
    "- There is 1 missing values in \"Fare\" only in the test data  **-> input by comparison**\n",
    "- There are 20% missing values in \"Age\" **-> input by algorithm**"
   ]
  },
  {
   "cell_type": "markdown",
   "metadata": {},
   "source": [
    "### Missing values of \"Cabin\"\n",
    "For the column \"Cabin\" there are more than 77% and 78% of missing values, too much to find a system to fill the missing values. Therefore we delete the whole feature from the training and in the test dataset because the algorithm needs the same features for the learning model and the prediction."
   ]
  },
  {
   "cell_type": "code",
   "execution_count": 33,
   "metadata": {},
   "outputs": [],
   "source": [
    "df_train = df_train.drop(['Cabin'], axis=1)\n",
    "df_test = df_test.drop(['Cabin'], axis=1)"
   ]
  },
  {
   "cell_type": "markdown",
   "metadata": {},
   "source": [
    "### Missing values of \"Embarked\"\n",
    "There are two missing values for \"Embarked\" in the training dataset. We want to take a closer look of these two samples."
   ]
  },
  {
   "cell_type": "code",
   "execution_count": 34,
   "metadata": {},
   "outputs": [
    {
     "data": {
      "text/html": [
       "<div>\n",
       "<style scoped>\n",
       "    .dataframe tbody tr th:only-of-type {\n",
       "        vertical-align: middle;\n",
       "    }\n",
       "\n",
       "    .dataframe tbody tr th {\n",
       "        vertical-align: top;\n",
       "    }\n",
       "\n",
       "    .dataframe thead th {\n",
       "        text-align: right;\n",
       "    }\n",
       "</style>\n",
       "<table border=\"1\" class=\"dataframe\">\n",
       "  <thead>\n",
       "    <tr style=\"text-align: right;\">\n",
       "      <th></th>\n",
       "      <th>PassengerId</th>\n",
       "      <th>Survived</th>\n",
       "      <th>Pclass</th>\n",
       "      <th>Name</th>\n",
       "      <th>Sex</th>\n",
       "      <th>Age</th>\n",
       "      <th>SibSp</th>\n",
       "      <th>Parch</th>\n",
       "      <th>Fare</th>\n",
       "      <th>Embarked</th>\n",
       "      <th>...</th>\n",
       "      <th>dataset</th>\n",
       "      <th>Last</th>\n",
       "      <th>First</th>\n",
       "      <th>Title</th>\n",
       "      <th>Prefix</th>\n",
       "      <th>TNlen</th>\n",
       "      <th>LeadingDigit</th>\n",
       "      <th>TGroup</th>\n",
       "      <th>Age_outlier</th>\n",
       "      <th>Fare_outlier</th>\n",
       "    </tr>\n",
       "  </thead>\n",
       "  <tbody>\n",
       "    <tr>\n",
       "      <th>61</th>\n",
       "      <td>62</td>\n",
       "      <td>1</td>\n",
       "      <td>1</td>\n",
       "      <td>Icard, Miss. Amelie</td>\n",
       "      <td>female</td>\n",
       "      <td>38.0</td>\n",
       "      <td>0</td>\n",
       "      <td>0</td>\n",
       "      <td>80.0</td>\n",
       "      <td>NaN</td>\n",
       "      <td>...</td>\n",
       "      <td>train</td>\n",
       "      <td>Icard</td>\n",
       "      <td>Amelie</td>\n",
       "      <td>Miss</td>\n",
       "      <td>NoPrefix</td>\n",
       "      <td>6</td>\n",
       "      <td>1</td>\n",
       "      <td>11357</td>\n",
       "      <td>no_outlier</td>\n",
       "      <td>outlier</td>\n",
       "    </tr>\n",
       "    <tr>\n",
       "      <th>829</th>\n",
       "      <td>830</td>\n",
       "      <td>1</td>\n",
       "      <td>1</td>\n",
       "      <td>Stone, Mrs. George Nelson (Martha Evelyn)</td>\n",
       "      <td>female</td>\n",
       "      <td>62.0</td>\n",
       "      <td>0</td>\n",
       "      <td>0</td>\n",
       "      <td>80.0</td>\n",
       "      <td>NaN</td>\n",
       "      <td>...</td>\n",
       "      <td>train</td>\n",
       "      <td>Stone</td>\n",
       "      <td>George Nelson (Martha Evelyn)</td>\n",
       "      <td>Mrs</td>\n",
       "      <td>NoPrefix</td>\n",
       "      <td>6</td>\n",
       "      <td>1</td>\n",
       "      <td>11357</td>\n",
       "      <td>no_outlier</td>\n",
       "      <td>outlier</td>\n",
       "    </tr>\n",
       "  </tbody>\n",
       "</table>\n",
       "<p>2 rows × 23 columns</p>\n",
       "</div>"
      ],
      "text/plain": [
       "     PassengerId  Survived  Pclass                                       Name  \\\n",
       "61            62         1       1                        Icard, Miss. Amelie   \n",
       "829          830         1       1  Stone, Mrs. George Nelson (Martha Evelyn)   \n",
       "\n",
       "        Sex   Age  SibSp  Parch  Fare Embarked  ... dataset   Last  \\\n",
       "61   female  38.0      0      0  80.0      NaN  ...   train  Icard   \n",
       "829  female  62.0      0      0  80.0      NaN  ...   train  Stone   \n",
       "\n",
       "                              First Title    Prefix TNlen LeadingDigit TGroup  \\\n",
       "61                           Amelie  Miss  NoPrefix     6            1  11357   \n",
       "829   George Nelson (Martha Evelyn)   Mrs  NoPrefix     6            1  11357   \n",
       "\n",
       "     Age_outlier  Fare_outlier  \n",
       "61    no_outlier       outlier  \n",
       "829   no_outlier       outlier  \n",
       "\n",
       "[2 rows x 23 columns]"
      ]
     },
     "execution_count": 34,
     "metadata": {},
     "output_type": "execute_result"
    }
   ],
   "source": [
    "df_train[df_train['Embarked'].isnull()]"
   ]
  },
  {
   "cell_type": "markdown",
   "metadata": {},
   "source": [
    "From the table we see that both passengers have the \"Pclass\" of 1 and a \"Fare\" of 80. We want to find out what is the port of embarkation with the highest likelihood for passengers with a \"Pclass\" of 1 and a \"Fare\" of 80. Therefore we create a boxplot with \"Embarked\" as x-axis, \"Fare\" as y-axis and separated by the \"Pclass\".\n",
    "\n",
    "If we limit the Fare to < 200, we have a little error in the boxplot. But this error does not change the result and improves the readability."
   ]
  },
  {
   "cell_type": "code",
   "execution_count": 35,
   "metadata": {},
   "outputs": [
    {
     "data": {
      "image/png": "[encoded data removed]",
      "text/plain": [
       "<Figure size 432x288 with 1 Axes>"
      ]
     },
     "metadata": {
      "needs_background": "light"
     },
     "output_type": "display_data"
    }
   ],
   "source": [
    "# limit the \"Fare\" to values lower than 200 to make the chart more readable\n",
    "sns.boxplot(x=\"Embarked\", y=\"Fare\", hue=\"Pclass\", data=df_train[df_train['Fare']<200])\n",
    "plt.show()"
   ]
  },
  {
   "cell_type": "markdown",
   "metadata": {},
   "source": [
    "From the boxplot we see that passengers that embarked from Cherbourg had a median fare of 80 of the 1 passenger class. Also we already know that passengers of Cherbourg (C) have the highest survival rate with 55% and both passengers survived. Therefore we will fill the two missing values of \"Embarked\" with Cherbourg."
   ]
  },
  {
   "cell_type": "code",
   "execution_count": 36,
   "metadata": {},
   "outputs": [],
   "source": [
    "df_train[\"Embarked\"] = df_train[\"Embarked\"].fillna(\"C\")"
   ]
  },
  {
   "cell_type": "markdown",
   "metadata": {},
   "source": [
    "### Missing values of \"Fare\"\n",
    "There is one missing values of \"Fare\" in the test dataset. We will use the same process like we did with the missing values of \"Embarked\". Fist we take a closer look at the passenger with the missing value of \"Fare\"."
   ]
  },
  {
   "cell_type": "code",
   "execution_count": 37,
   "metadata": {},
   "outputs": [
    {
     "data": {
      "text/html": [
       "<div>\n",
       "<style scoped>\n",
       "    .dataframe tbody tr th:only-of-type {\n",
       "        vertical-align: middle;\n",
       "    }\n",
       "\n",
       "    .dataframe tbody tr th {\n",
       "        vertical-align: top;\n",
       "    }\n",
       "\n",
       "    .dataframe thead th {\n",
       "        text-align: right;\n",
       "    }\n",
       "</style>\n",
       "<table border=\"1\" class=\"dataframe\">\n",
       "  <thead>\n",
       "    <tr style=\"text-align: right;\">\n",
       "      <th></th>\n",
       "      <th>PassengerId</th>\n",
       "      <th>Pclass</th>\n",
       "      <th>Name</th>\n",
       "      <th>Sex</th>\n",
       "      <th>Age</th>\n",
       "      <th>SibSp</th>\n",
       "      <th>Parch</th>\n",
       "      <th>Fare</th>\n",
       "      <th>Embarked</th>\n",
       "      <th>Age_category</th>\n",
       "      <th>...</th>\n",
       "      <th>dataset</th>\n",
       "      <th>Last</th>\n",
       "      <th>First</th>\n",
       "      <th>Title</th>\n",
       "      <th>Prefix</th>\n",
       "      <th>TNlen</th>\n",
       "      <th>LeadingDigit</th>\n",
       "      <th>TGroup</th>\n",
       "      <th>Age_outlier</th>\n",
       "      <th>Fare_outlier</th>\n",
       "    </tr>\n",
       "  </thead>\n",
       "  <tbody>\n",
       "    <tr>\n",
       "      <th>152</th>\n",
       "      <td>1044</td>\n",
       "      <td>3</td>\n",
       "      <td>Storey, Mr. Thomas</td>\n",
       "      <td>male</td>\n",
       "      <td>60.5</td>\n",
       "      <td>0</td>\n",
       "      <td>0</td>\n",
       "      <td>NaN</td>\n",
       "      <td>S</td>\n",
       "      <td>senior</td>\n",
       "      <td>...</td>\n",
       "      <td>test</td>\n",
       "      <td>Storey</td>\n",
       "      <td>Thomas</td>\n",
       "      <td>Mr</td>\n",
       "      <td>NoPrefix</td>\n",
       "      <td>4</td>\n",
       "      <td>3</td>\n",
       "      <td>370</td>\n",
       "      <td>no_outlier</td>\n",
       "      <td>no_outlier</td>\n",
       "    </tr>\n",
       "  </tbody>\n",
       "</table>\n",
       "<p>1 rows × 22 columns</p>\n",
       "</div>"
      ],
      "text/plain": [
       "     PassengerId  Pclass                Name   Sex   Age  SibSp  Parch  Fare  \\\n",
       "152         1044       3  Storey, Mr. Thomas  male  60.5      0      0   NaN   \n",
       "\n",
       "    Embarked Age_category  ...  dataset    Last    First Title    Prefix  \\\n",
       "152        S       senior  ...     test  Storey   Thomas    Mr  NoPrefix   \n",
       "\n",
       "    TNlen LeadingDigit  TGroup  Age_outlier Fare_outlier  \n",
       "152     4            3     370   no_outlier   no_outlier  \n",
       "\n",
       "[1 rows x 22 columns]"
      ]
     },
     "execution_count": 37,
     "metadata": {},
     "output_type": "execute_result"
    }
   ],
   "source": [
    "df_test[df_test['Fare'].isnull()]"
   ]
  },
  {
   "cell_type": "markdown",
   "metadata": {},
   "source": [
    "We see that the passenger had a \"Pclass\" of 3 and \"Embarked\" in Southampton. Therefore we fill the missing value of \"Fare\" with the median fare for all passengers that embarked in Southampton with the passenger class 3."
   ]
  },
  {
   "cell_type": "code",
   "execution_count": 38,
   "metadata": {},
   "outputs": [],
   "source": [
    "median_fare = df_test[(df_test['Pclass'] == 3) & (df_test['Embarked'] == 'S')]['Fare'].median()\n",
    "df_test[\"Fare\"] = df_test[\"Fare\"].fillna(median_fare)"
   ]
  },
  {
   "cell_type": "markdown",
   "metadata": {},
   "source": [
    "### Fill missing values for \"Age\"\n",
    "For the feature “Age” there are around 20% of missing values in the training and test dataset. The missing values of age are very hard to estimate or calculate by a mean or median. Therefore, we use a Random Forest Regressor to fill the missing values. The following points show the process:\n",
    "1.\tFirst, we combine the training and test set to be able to fill the missing values in both datasets. Afterwards we input the missing values, we split the datasets again into the training and test set.\n",
    "2.\tThe second step is to split the combined dataset into a dataset where we know the age of the passengers (age_train) and in one dataset, where is \"Age\" column contains the missing values (age_test).\n",
    "3.\tThen we train the Random Forest Regressor with the training set and predict the \"Age\" of the test set.\n",
    "4.\tIn the last step we replace the missing values of age with the predicted output of the test set."
   ]
  },
  {
   "cell_type": "code",
   "execution_count": 39,
   "metadata": {},
   "outputs": [],
   "source": [
    "from sklearn.ensemble import RandomForestRegressor\n",
    "from sklearn.preprocessing import OneHotEncoder, StandardScaler\n",
    "from sklearn.compose import ColumnTransformer\n",
    "from sklearn.pipeline import Pipeline\n",
    "from sklearn.decomposition import TruncatedSVD\n",
    "\n",
    "# predicting missing values in age using Random Forest\n",
    "def fill_missing_age(df):\n",
    "    # Feature set\n",
    "    age_df = df[[\n",
    "        'Pclass', 'Sex', 'Age', 'SibSp', 'Parch', 'Fare', 'Embarked', 'Family', 'Family_Grouped', 'Title',\n",
    "        'Prefix', 'TGroup', 'Age_outlier', 'Fare_outlier']]\n",
    "    # Split sets into train and test\n",
    "    age_train = age_df.loc[(age_df.Age.notnull())]  # known Age values\n",
    "    age_test = age_df.loc[(age_df.Age.isnull())]  # null Ages\n",
    "\n",
    "    # All age values are stored in a target array\n",
    "    age_train_y = age_train[['Age']]\n",
    "\n",
    "    # All the other values are stored in the feature array\n",
    "    age_train_x = age_train.drop('Age', axis=1)\n",
    "\n",
    "    # Create a RandomForestRegressor object\n",
    "    rtr = RandomForestRegressor(n_estimators=1000, n_jobs=-1)\n",
    "    \n",
    "    categorical_features = ['Pclass', 'Sex', 'SibSp', 'Parch', 'Embarked', 'Family', 'Family_Grouped', 'Title',\n",
    "        'Prefix', 'TGroup', 'Age_outlier', 'Fare_outlier']\n",
    "    numeric_features = ['Fare']\n",
    "    \n",
    "    col_transform = ColumnTransformer(\n",
    "            transformers=[\n",
    "                ('cat', OneHotEncoder(handle_unknown='ignore'), categorical_features),\n",
    "                ('num', StandardScaler(), numeric_features)\n",
    "            ]\n",
    "        )\n",
    "    \n",
    "    # define pipeline\n",
    "    pipeline = Pipeline(steps=[\n",
    "        ('columnprep', col_transform),\n",
    "        ('reducedim', TruncatedSVD(n_components=20)),\n",
    "        ('regression', rtr)\n",
    "    ])\n",
    "    \n",
    "    \n",
    "    pipeline.fit(age_train_x, age_train_y.values.ravel())\n",
    "\n",
    "    # Print the R2 score for the training set\n",
    "    print(\"R2 score for training set: \" + str(pipeline.score(age_train_x, age_train_y)))\n",
    "    age_train_y_pred = pipeline.predict(age_train_x)\n",
    "\n",
    "    # plot the actual and predicted values of the training set\n",
    "    plt.scatter(age_train_y, age_train_y_pred)\n",
    "    plt.plot([min(age_train_y_pred),max(age_train_y_pred)], [min(age_train_y_pred),max(age_train_y_pred)], c=\"red\")\n",
    "    plt.xlabel('Age training set')\n",
    "    plt.ylabel('Age training set predicted')\n",
    "    plt.show()\n",
    "\n",
    "    # Use the fitted model to predict the missing values\n",
    "    predictedAges = pipeline.predict(age_test.drop('Age', axis=1))\n",
    "\n",
    "    # Assign those predictions to the full data set\n",
    "    df.loc[(df.Age.isnull()), 'Age'] = predictedAges\n",
    "\n",
    "    return df"
   ]
  },
  {
   "cell_type": "code",
   "execution_count": 40,
   "metadata": {},
   "outputs": [
    {
     "name": "stdout",
     "output_type": "stream",
     "text": [
      "R2 score for training set: 0.847409049851687\n"
     ]
    },
    {
     "data": {
      "image/png": "[encoded data removed]",
      "text/plain": [
       "<Figure size 432x288 with 1 Axes>"
      ]
     },
     "metadata": {
      "needs_background": "light"
     },
     "output_type": "display_data"
    }
   ],
   "source": [
    "train_objs_num = len(df_train)\n",
    "\n",
    "features_all = pd.concat([df_train, df_test], axis=0)\n",
    "features_all = fill_missing_age(features_all)\n",
    "\n",
    "df_train = features_all[:train_objs_num]\n",
    "df_test = features_all[train_objs_num:]"
   ]
  },
  {
   "cell_type": "markdown",
   "metadata": {},
   "source": [
    "The R2 score of the training data is 0.84 which is very good. The picture shows for the age trainings set the actual values and the predicted values. With a perfect solution of R2=1, all points would be on the red line.\n",
    "\n",
    "After we filled the missing values of age, we have to recompute the age category from the data analysis part, because the feature \"age_category\" is currently \"no age\" for these samples and we have to mark again the outliers that could be created via the imputation of the missing values of age."
   ]
  },
  {
   "cell_type": "code",
   "execution_count": 41,
   "metadata": {},
   "outputs": [
    {
     "name": "stdout",
     "output_type": "stream",
     "text": [
      "|    | Age_category   |   not_survived |   survived |   passengers |   survival_rate |\n",
      "|---:|:---------------|---------------:|-----------:|-------------:|----------------:|\n",
      "|  0 | adult          |            492 |        289 |          781 |         37.0038 |\n",
      "|  1 | children       |             33 |         42 |           75 |         56      |\n",
      "|  2 | senior         |             24 |         11 |           35 |         31.4286 |\n"
     ]
    }
   ],
   "source": [
    "def age_category(row):\n",
    "    \"\"\"\n",
    "    Function to transform the actual age in to an age category\n",
    "    Thresholds are deduced from the distribution plot of age\n",
    "    \"\"\"\n",
    "    if row < 12:\n",
    "        return 'children'\n",
    "    if (row >= 12) & (row < 60):\n",
    "        return 'adult'\n",
    "    if row >= 60:\n",
    "        return 'senior'\n",
    "    else:\n",
    "        return 'no age'\n",
    "\n",
    "# apply the function age_category to each row of the dataset\n",
    "df_train['Age_category'] = df_train['Age'].apply(lambda row: age_category(row))\n",
    "df_test['Age_category'] = df_test['Age'].apply(lambda row: age_category(row))\n",
    "\n",
    "# show the suvival table with the previously created function\n",
    "_ = pivot_survival_rate(df_train, \"Age_category\")"
   ]
  },
  {
   "cell_type": "markdown",
   "metadata": {},
   "source": [
    "There are some changes in the survival rate after we input the missing values of age:\n",
    "- adult: from 39% to 37%\n",
    "- children: from 57% to 55%\n",
    "- senior: from 27% to 32%"
   ]
  },
  {
   "cell_type": "code",
   "execution_count": 42,
   "metadata": {},
   "outputs": [
    {
     "data": {
      "text/plain": [
       "no_outlier       703\n",
       "missing_value    177\n",
       "outlier           11\n",
       "Name: Age_outlier, dtype: int64"
      ]
     },
     "execution_count": 42,
     "metadata": {},
     "output_type": "execute_result"
    }
   ],
   "source": [
    "df_train[\"Age_outlier\"].value_counts()"
   ]
  },
  {
   "cell_type": "code",
   "execution_count": 43,
   "metadata": {},
   "outputs": [],
   "source": [
    "df_train[\"Age_outlier\"] = \"no_outlier\"\n",
    "df_test[\"Age_outlier\"] = \"no_outlier\"\n",
    "\n",
    "df_train[\"Age_outlier\"].iloc[(df_train[feature] > dict_interquartile_ranges[\"Age\"][1]) | (df_train[feature] < dict_interquartile_ranges[\"Age\"][0])] = \"outlier\"\n",
    "df_test[\"Age_outlier\"].iloc[(df_test[feature] > dict_interquartile_ranges[\"Age\"][1]) | (df_test[feature] < dict_interquartile_ranges[\"Age\"][0])] = \"outlier\""
   ]
  },
  {
   "cell_type": "code",
   "execution_count": 44,
   "metadata": {},
   "outputs": [
    {
     "data": {
      "text/plain": [
       "no_outlier    773\n",
       "outlier       118\n",
       "Name: Age_outlier, dtype: int64"
      ]
     },
     "execution_count": 44,
     "metadata": {},
     "output_type": "execute_result"
    }
   ],
   "source": [
    "df_train[\"Age_outlier\"].value_counts()"
   ]
  },
  {
   "cell_type": "markdown",
   "metadata": {},
   "source": [
    "From the imputation of the Age feature, we can see that from 177 missing values, 107 (60%) are now categorized as missing values, and 70 (40%) are no outlier, when we do not change the calculated interquartiles."
   ]
  },
  {
   "cell_type": "code",
   "execution_count": 45,
   "metadata": {},
   "outputs": [],
   "source": [
    "df_train.to_pickle('df_train_prepared_unfinished.pkl')\n",
    "df_test.to_pickle('df_test_prepared_unfinished.pkl')"
   ]
  },
  {
   "cell_type": "markdown",
   "metadata": {},
   "source": [
    "## Feature Engineering (2/2)\n",
    "Discretize Fare and Age after inputing the missing values, because otherwise the discretized age feature would also contain missing values, that prevents our algorithm from running.\n",
    "\n",
    "Why discretize features?\n",
    "- Helped to expose groups with higher survival rate.\n",
    "- Summarizes outliers in the lowest or highest class."
   ]
  },
  {
   "cell_type": "markdown",
   "metadata": {},
   "source": [
    "### New features: Discretize Fare"
   ]
  },
  {
   "cell_type": "code",
   "execution_count": 48,
   "metadata": {},
   "outputs": [
    {
     "data": {
      "image/png": "[encoded data removed]",
      "text/plain": [
       "<Figure size 1440x576 with 1 Axes>"
      ]
     },
     "metadata": {
      "needs_background": "light"
     },
     "output_type": "display_data"
    }
   ],
   "source": [
    "df_train['Fare_bin'] = pd.qcut(df_train['Fare'], 13)\n",
    "\n",
    "fig, axs = plt.subplots(figsize=(20, 8))\n",
    "sns.countplot(x='Fare_bin', hue='Survived', data=df_train)\n",
    "plt.show()"
   ]
  },
  {
   "cell_type": "code",
   "execution_count": 49,
   "metadata": {},
   "outputs": [
    {
     "data": {
      "image/png": "[encoded data removed]",
      "text/plain": [
       "<Figure size 412x360 with 1 Axes>"
      ]
     },
     "metadata": {
      "needs_background": "light"
     },
     "output_type": "display_data"
    }
   ],
   "source": [
    "df_train['Fare_bin'] = pd.qcut(df_train['Fare'], 13, labels=False)\n",
    "df_test['Fare_bin'] = pd.qcut(df_test['Fare'], 13, labels=False)\n",
    "\n",
    "(df_train\n",
    ".groupby(\"Fare_bin\")[\"Survived\"]\n",
    ".value_counts(normalize=True)\n",
    ".mul(100)\n",
    ".rename('percent')\n",
    ".reset_index()\n",
    ".pipe((sns.catplot,'data'), x=\"Fare_bin\", y='percent',hue=\"Survived\",kind='bar'))\n",
    "plt.axhline(y=38, color='g', linestyle='-')\n",
    "plt.show()"
   ]
  },
  {
   "cell_type": "markdown",
   "metadata": {},
   "source": [
    "### New features: Discretize Age"
   ]
  },
  {
   "cell_type": "code",
   "execution_count": 50,
   "metadata": {},
   "outputs": [
    {
     "data": {
      "image/png": "[encoded data removed]",
      "text/plain": [
       "<Figure size 412x360 with 1 Axes>"
      ]
     },
     "metadata": {
      "needs_background": "light"
     },
     "output_type": "display_data"
    }
   ],
   "source": [
    "df_train['Age_bin'] = pd.qcut(df_train['Age'], 10, labels=False)\n",
    "df_test['Age_bin'] = pd.qcut(df_test['Age'], 10, labels=False)\n",
    "\n",
    "(df_train\n",
    ".groupby(\"Age_bin\")[\"Survived\"]\n",
    ".value_counts(normalize=True)\n",
    ".mul(100)\n",
    ".rename('percent')\n",
    ".reset_index()\n",
    ".pipe((sns.catplot,'data'), x=\"Age_bin\", y='percent',hue=\"Survived\",kind='bar'))\n",
    "plt.axhline(y=38, color='g', linestyle='-')\n",
    "plt.show()"
   ]
  },
  {
   "cell_type": "markdown",
   "metadata": {},
   "source": [
    "## Noise in Features (Data Scaling)\n",
    "The next part of the data cleaning is to analyze if there is any noise in the features. There are multiple kinds of noise, but we will focus on the following two kinds:\n",
    "\n",
    "- **Is there a noise between the training and test dataset** that would prevent the machine learning algorithm from learning because there are missing values for a feature either in the training or test dataset?\n",
    "- **Is there any noise in one or more feature based on its distribution?** If there is any noise for example through outliers or rounding errors, we maybe must process the data to create a more normal distribution."
   ]
  },
  {
   "cell_type": "markdown",
   "metadata": {},
   "source": [
    "### Is there Noise between the Training and Test Dataset?\n",
    "The easiest and fastest way to analyze the noise in a feature is to view the distribution of each numeric feature separated by the training and test dataset."
   ]
  },
  {
   "cell_type": "code",
   "execution_count": 51,
   "metadata": {
    "collapsed": true,
    "jupyter": {
     "outputs_hidden": true
    },
    "tags": []
   },
   "outputs": [
    {
     "data": {
      "image/png": "[encoded data removed]",
      "text/plain": [
       "<Figure size 419.375x360 with 1 Axes>"
      ]
     },
     "metadata": {
      "needs_background": "light"
     },
     "output_type": "display_data"
    },
    {
     "data": {
      "image/png": "[encoded data removed]",
      "text/plain": [
       "<Figure size 419.375x360 with 1 Axes>"
      ]
     },
     "metadata": {
      "needs_background": "light"
     },
     "output_type": "display_data"
    },
    {
     "data": {
      "image/png": "[encoded data removed]",
      "text/plain": [
       "<Figure size 419.375x360 with 1 Axes>"
      ]
     },
     "metadata": {
      "needs_background": "light"
     },
     "output_type": "display_data"
    },
    {
     "data": {
      "image/png": "[encoded data removed]",
      "text/plain": [
       "<Figure size 419.375x360 with 1 Axes>"
      ]
     },
     "metadata": {
      "needs_background": "light"
     },
     "output_type": "display_data"
    },
    {
     "data": {
      "image/png": "[encoded data removed]",
      "text/plain": [
       "<Figure size 419.375x360 with 1 Axes>"
      ]
     },
     "metadata": {
      "needs_background": "light"
     },
     "output_type": "display_data"
    },
    {
     "data": {
      "image/png": "[encoded data removed]",
      "text/plain": [
       "<Figure size 419.375x360 with 1 Axes>"
      ]
     },
     "metadata": {
      "needs_background": "light"
     },
     "output_type": "display_data"
    },
    {
     "data": {
      "image/png": "[encoded data removed]",
      "text/plain": [
       "<Figure size 419.375x360 with 1 Axes>"
      ]
     },
     "metadata": {
      "needs_background": "light"
     },
     "output_type": "display_data"
    },
    {
     "data": {
      "image/png": "[encoded data removed]",
      "text/plain": [
       "<Figure size 419.375x360 with 1 Axes>"
      ]
     },
     "metadata": {
      "needs_background": "light"
     },
     "output_type": "display_data"
    },
    {
     "data": {
      "image/png": "[encoded data removed]",
      "text/plain": [
       "<Figure size 419.375x360 with 1 Axes>"
      ]
     },
     "metadata": {
      "needs_background": "light"
     },
     "output_type": "display_data"
    },
    {
     "data": {
      "image/png": "[encoded data removed]",
      "text/plain": [
       "<Figure size 419.375x360 with 1 Axes>"
      ]
     },
     "metadata": {
      "needs_background": "light"
     },
     "output_type": "display_data"
    },
    {
     "data": {
      "image/png": "[encoded data removed]",
      "text/plain": [
       "<Figure size 419.375x360 with 1 Axes>"
      ]
     },
     "metadata": {
      "needs_background": "light"
     },
     "output_type": "display_data"
    },
    {
     "data": {
      "image/png": "[encoded data removed]",
      "text/plain": [
       "<Figure size 419.375x360 with 1 Axes>"
      ]
     },
     "metadata": {
      "needs_background": "light"
     },
     "output_type": "display_data"
    },
    {
     "data": {
      "image/png": "[encoded data removed]",
      "text/plain": [
       "<Figure size 419.375x360 with 1 Axes>"
      ]
     },
     "metadata": {
      "needs_background": "light"
     },
     "output_type": "display_data"
    },
    {
     "data": {
      "image/png": "[encoded data removed]",
      "text/plain": [
       "<Figure size 419.375x360 with 1 Axes>"
      ]
     },
     "metadata": {
      "needs_background": "light"
     },
     "output_type": "display_data"
    },
    {
     "data": {
      "image/png": "[encoded data removed]",
      "text/plain": [
       "<Figure size 419.375x360 with 1 Axes>"
      ]
     },
     "metadata": {
      "needs_background": "light"
     },
     "output_type": "display_data"
    },
    {
     "data": {
      "image/png": "[encoded data removed]",
      "text/plain": [
       "<Figure size 419.375x360 with 1 Axes>"
      ]
     },
     "metadata": {
      "needs_background": "light"
     },
     "output_type": "display_data"
    },
    {
     "data": {
      "image/png": "[encoded data removed]",
      "text/plain": [
       "<Figure size 419.375x360 with 1 Axes>"
      ]
     },
     "metadata": {
      "needs_background": "light"
     },
     "output_type": "display_data"
    },
    {
     "data": {
      "image/png": "[encoded data removed]",
      "text/plain": [
       "<Figure size 419.375x360 with 1 Axes>"
      ]
     },
     "metadata": {
      "needs_background": "light"
     },
     "output_type": "display_data"
    }
   ],
   "source": [
    "# combine the training and test dataset\n",
    "df_merge = pd.concat([df_train, df_test], ignore_index=True)\n",
    "\n",
    "# plot the distribution plot of each selected feature seperated by the training and test dataset\n",
    "for feature in df_merge.columns:\n",
    "    # plot only the distribution if there are less than 100 unique values for the feature\n",
    "    # for example name has a lot of unique values that will be one-hot-encoded for the classifier\n",
    "    if df_merge[feature].nunique() < 100:\n",
    "        sns.displot(df_merge, x=feature, hue=\"dataset\", multiple=\"stack\")\n",
    "        plt.show()"
   ]
  },
  {
   "cell_type": "markdown",
   "metadata": {},
   "source": [
    "The result of the histograms is that the features are well distributed between the training and test dataset. There is no class that is only present in only the training or test dataset."
   ]
  },
  {
   "cell_type": "markdown",
   "metadata": {
    "tags": []
   },
   "source": [
    "### Is there any Noise in one or more Feature based on its Distribution?\n",
    "To analyze the dataset for general noise based on its distribution, we use the scipy stats library to compute the skewness of every feature:\n",
    "- skewness = 0: normally distributed\n",
    "- skewness > 0: more weight in the left tail of the distribution → square , cube root and logarithmic\n",
    "- skewness < 0: more weight in the right tail of the distribution → possible transformations: square root, cube root, and log\n",
    "\n",
    "We compute the skewness of the combined training and test data with the following function and only return features that have a strong skewness >1 or <-1."
   ]
  },
  {
   "cell_type": "code",
   "execution_count": 52,
   "metadata": {},
   "outputs": [
    {
     "data": {
      "text/html": [
       "<div>\n",
       "<style scoped>\n",
       "    .dataframe tbody tr th:only-of-type {\n",
       "        vertical-align: middle;\n",
       "    }\n",
       "\n",
       "    .dataframe tbody tr th {\n",
       "        vertical-align: top;\n",
       "    }\n",
       "\n",
       "    .dataframe thead th {\n",
       "        text-align: right;\n",
       "    }\n",
       "</style>\n",
       "<table border=\"1\" class=\"dataframe\">\n",
       "  <thead>\n",
       "    <tr style=\"text-align: right;\">\n",
       "      <th></th>\n",
       "      <th>skewness</th>\n",
       "      <th>unique_values</th>\n",
       "    </tr>\n",
       "  </thead>\n",
       "  <tbody>\n",
       "    <tr>\n",
       "      <th>SibSp</th>\n",
       "      <td>3.839814</td>\n",
       "      <td>7</td>\n",
       "    </tr>\n",
       "    <tr>\n",
       "      <th>Parch</th>\n",
       "      <td>3.664872</td>\n",
       "      <td>8</td>\n",
       "    </tr>\n",
       "    <tr>\n",
       "      <th>Fare</th>\n",
       "      <td>4.364205</td>\n",
       "      <td>281</td>\n",
       "    </tr>\n",
       "    <tr>\n",
       "      <th>Family</th>\n",
       "      <td>2.849808</td>\n",
       "      <td>9</td>\n",
       "    </tr>\n",
       "    <tr>\n",
       "      <th>LeadingDigit</th>\n",
       "      <td>1.725896</td>\n",
       "      <td>10</td>\n",
       "    </tr>\n",
       "  </tbody>\n",
       "</table>\n",
       "</div>"
      ],
      "text/plain": [
       "              skewness  unique_values\n",
       "SibSp         3.839814              7\n",
       "Parch         3.664872              8\n",
       "Fare          4.364205            281\n",
       "Family        2.849808              9\n",
       "LeadingDigit  1.725896             10"
      ]
     },
     "execution_count": 52,
     "metadata": {},
     "output_type": "execute_result"
    }
   ],
   "source": [
    "from scipy.stats import skew\n",
    "def compute_skewed_features(df):\n",
    "    \"\"\"\n",
    "    compute the skewness of all numeric features and the total number of unique values\n",
    "    return only the features that have a relevant skewness\n",
    "    \"\"\"\n",
    "    numeric_feats = df.dtypes[df.dtypes != \"object\"].index\n",
    "    skewed_feats = pd.DataFrame(index=numeric_feats, columns=['skewness', 'unique_values'])\n",
    "    skewed_feats['skewness'] = df[numeric_feats].apply(lambda x: skew(x))\n",
    "    skewed_feats['unique_values'] = df.nunique()\n",
    "    skewed_feats = skewed_feats[(skewed_feats['skewness'] > 1) | (skewed_feats['skewness'] < -1)]\n",
    "\n",
    "    return skewed_feats\n",
    "\n",
    "# combine the training and test dataset\n",
    "df_merge = pd.concat([df_train, df_test])\n",
    "skewed_feats = compute_skewed_features(df_merge)\n",
    "\n",
    "skewed_feats"
   ]
  },
  {
   "cell_type": "markdown",
   "metadata": {},
   "source": [
    "From the table, we see that there are\n",
    "- 4 features (\"SibSp\", \"Parch\", \"Family\", \"LeadingDigit\") that are positive skewed but have few unique values because they are classes. **→ no transformation**\n",
    "- 1 feature (\"Fare\") is positive skewed and has >=10 unique values. **→ apply the logarithmic transformation**"
   ]
  },
  {
   "cell_type": "markdown",
   "metadata": {},
   "source": [
    "**Log transform Fare**\n",
    "\n",
    "Apply the log transformation to \"Fare\" and \"Prefix\" of the training and test dataset and show the distribution chart after the log transformation."
   ]
  },
  {
   "cell_type": "code",
   "execution_count": 53,
   "metadata": {
    "tags": []
   },
   "outputs": [
    {
     "data": {
      "image/png": "[encoded data removed]",
      "text/plain": [
       "<Figure size 360x360 with 1 Axes>"
      ]
     },
     "metadata": {
      "needs_background": "light"
     },
     "output_type": "display_data"
    },
    {
     "data": {
      "image/png": "[encoded data removed]",
      "text/plain": [
       "<Figure size 360x360 with 1 Axes>"
      ]
     },
     "metadata": {
      "needs_background": "light"
     },
     "output_type": "display_data"
    }
   ],
   "source": [
    "for feature in ['Fare']:\n",
    "    \n",
    "    # view the distribution of Fare after the log transformation with the skewness\n",
    "    df_merge = pd.concat([df_train, df_test])\n",
    "    g = sns.displot(df_merge[feature])\n",
    "    plt.title(\"Skewness : %.2f\"%(df_merge[feature].skew()))\n",
    "    plt.show()\n",
    "    \n",
    "    df_train[feature] = df_train[feature].apply(np.log)\n",
    "    df_test[feature] = df_test[feature].apply(np.log)\n",
    "\n",
    "    # the not transformed data that contains 0\n",
    "    # after the transformation we have -inf values that have to be replaced by 0\n",
    "    df_train[feature][np.isneginf(df_train[feature])]=0\n",
    "    df_test[feature][np.isneginf(df_test[feature])]=0\n",
    "\n",
    "    # view the distribution of Fare after the log transformation with the skewness\n",
    "    df_merge = pd.concat([df_train, df_test])\n",
    "    g = sns.displot(df_merge[feature])\n",
    "    plt.title(\"Skewness : %.2f\"%(df_merge[feature].skew()))\n",
    "    plt.show()"
   ]
  },
  {
   "cell_type": "markdown",
   "metadata": {},
   "source": [
    "## Feature Selection (1/2)\n",
    "It makes sense to logically think about every feature in the dataset, if this feature could have an influence on the survival rate of a passenger. If not, we can delete this feature from the training and test dataset. The following list shows you the features we delete from both datasets with the appropriate reason.\n",
    "- \"PassengerID\" is only a continuous numeration of each row and only a technical feature of the datasets.\n",
    "- \"Name\" and \"First\" have (nearly) only unique values. Therefore the chances to find an influence on the survival rate is close to zero. We created the additional features \"Name\".\n",
    "- \"dataset\" was created during our analysis, when we combined the training and test dataset is has therefore be deleted."
   ]
  },
  {
   "cell_type": "code",
   "execution_count": 54,
   "metadata": {},
   "outputs": [],
   "source": [
    "df_train.drop(['PassengerId', 'Name', 'dataset', 'First'], axis=1, inplace=True)\n",
    "df_test.drop(['PassengerId', 'Name',  'dataset', 'Survived', 'First'], axis=1, inplace=True)"
   ]
  },
  {
   "cell_type": "markdown",
   "metadata": {},
   "source": [
    "## Transform Categoric Features to Numeric\n",
    "Categorical features have to be transformed to numbers to be an input to an algorithm. Therefore we will decompose these features. We can also build custom transformations that are part of the optimization process of the machine learning process and very handy to quickly change decisions of the feature engineering. Also there are advantages to scale features with different transformations to improve the machine learning algorithm.\n",
    "\n",
    "There are multiple options to transform categorical features into numeric:\n",
    "- Labels\n",
    "    - **Lable Encoder:** transform each category in a serial number. Disadvantage is that the machine learning algorithm will assume that two nearby values are more similar than two distant values, what is not the case.\n",
    "    - **Label Binarizer:** Label Binarizer extends the problem to a multi-class classification case. The returning 2-d matrix only contains 0 and 1.\n",
    "- Features\n",
    "    - **One Hot Encoder:** Creates one binary attribute per category, called One-Hot. If you have categorical features with thousands of categories you would end with thousands of columns. Therefore the output of the One Hot Encoder is stored as sparse matrix.\n",
    "\n",
    "Because our label is already numeric, we will apply the One Hot Encoder to our categorical features.\n",
    "\n",
    "But is it good to blindly apply the One-Hot Encoder to our categorical features? Well, yes when we apply the feature selection technique \"VarianceThreshold\" afterwards, because there is the possibility that some few features with a lot lot unique values create a lot for new columns. The problem is that after applying the One-Hot Encoder to our categorical features, for example 90% of the columns are based on a few features and therefore contrain only a fraction of information.\n",
    "\n",
    "So first let's look if there are any features that have a lot of unique values."
   ]
  },
  {
   "cell_type": "code",
   "execution_count": 56,
   "metadata": {},
   "outputs": [
    {
     "data": {
      "text/plain": [
       "Sex                 2\n",
       "Embarked            3\n",
       "Age_category        3\n",
       "Family_Grouped      4\n",
       "Last              667\n",
       "Title               5\n",
       "Prefix             30\n",
       "TGroup            338\n",
       "Age_outlier         2\n",
       "Fare_outlier        2\n",
       "dtype: int64"
      ]
     },
     "execution_count": 56,
     "metadata": {},
     "output_type": "execute_result"
    }
   ],
   "source": [
    "df_train[df_train.dtypes[df_train.dtypes == \"object\"].index].nunique()"
   ]
  },
  {
   "cell_type": "code",
   "execution_count": 57,
   "metadata": {},
   "outputs": [
    {
     "name": "stdout",
     "output_type": "stream",
     "text": [
      "df_train old shape: (891, 21)\n",
      "ohe_train old shape: (891, 1053)\n",
      "df_train new shape: (891, 1064)\n",
      "df_test old shape: (418, 20)\n",
      "ohe_test old shape: (418, 1053)\n",
      "df_test new shape: (418, 1063)\n"
     ]
    },
    {
     "name": "stderr",
     "output_type": "stream",
     "text": [
      "e:\\programs\\anaconda3\\lib\\site-packages\\sklearn\\utils\\deprecation.py:87: FutureWarning: Function get_feature_names is deprecated; get_feature_names is deprecated in 1.0 and will be removed in 1.2. Please use get_feature_names_out instead.\n",
      "  warnings.warn(msg, category=FutureWarning)\n",
      "e:\\programs\\anaconda3\\lib\\site-packages\\sklearn\\preprocessing\\_encoders.py:170: UserWarning: Found unknown categories in columns [4, 6, 7] during transform. These unknown categories will be encoded as all zeros\n",
      "  warnings.warn(\n",
      "e:\\programs\\anaconda3\\lib\\site-packages\\sklearn\\utils\\deprecation.py:87: FutureWarning: Function get_feature_names is deprecated; get_feature_names is deprecated in 1.0 and will be removed in 1.2. Please use get_feature_names_out instead.\n",
      "  warnings.warn(msg, category=FutureWarning)\n"
     ]
    }
   ],
   "source": [
    "from sklearn.preprocessing import OneHotEncoder\n",
    "enc = OneHotEncoder(handle_unknown='ignore', sparse=False, drop=\"if_binary\")\n",
    "cat_vars = df_train.dtypes[df_train.dtypes == \"object\"].index\n",
    "\n",
    "ohe_train = pd.DataFrame(enc.fit_transform(df_train[cat_vars]), columns=enc.get_feature_names())\n",
    "print(\"df_train old shape: \" + str(df_train.shape))\n",
    "print(\"ohe_train old shape: \" + str(ohe_train.shape))\n",
    "df_train = pd.concat([df_train, ohe_train], axis=1).drop(cat_vars, axis=1)\n",
    "print(\"df_train new shape: \" + str(df_train.shape))\n",
    "\n",
    "ohe_test = pd.DataFrame(enc.transform(df_test[cat_vars]), columns=enc.get_feature_names())\n",
    "print(\"df_test old shape: \" + str(df_test.shape))\n",
    "print(\"ohe_test old shape: \" + str(ohe_test.shape))\n",
    "df_test = pd.concat([df_test, ohe_test], axis=1).drop(cat_vars, axis=1)\n",
    "print(\"df_test new shape: \" + str(df_test.shape))"
   ]
  },
  {
   "cell_type": "markdown",
   "metadata": {},
   "source": [
    "After applying the One Hot Encoder we see that the number of features exploded from 21 to 1064 in the training dataset. Mainly because the features \"Last\" and \"TGroup\" have a lot of unique values (667+338=1005). So the information in \"Last\" and \"TGroup\" represents now 94% for the test dataset after applying the OneHot Encoder. The machine learning model will likely overrepresent the information from \"Last\" and \"TGroup\" during the training process.\n",
    "\n",
    "However, we will apply some feature reduction techniques to reduce the number of features for the datasets."
   ]
  },
  {
   "cell_type": "markdown",
   "metadata": {},
   "source": [
    "## Save Prepared Dataset"
   ]
  },
  {
   "cell_type": "code",
   "execution_count": 58,
   "metadata": {},
   "outputs": [],
   "source": [
    "# save prepared dataset as pickle file\n",
    "df_train.to_pickle('df_train_prepared.pkl')\n",
    "df_test.to_pickle('df_test_prepared.pkl')"
   ]
  },
  {
   "cell_type": "markdown",
   "metadata": {},
   "source": [
    "## Feature Selection (2/2)\n",
    "Through the OneHotEncoder we got a lot of features that we will try to reduce with the following methods\n",
    "- Drop features that have a low variance\n",
    "- Drop features that are equal\n",
    "- Drop one of two features with a high correlation"
   ]
  },
  {
   "cell_type": "markdown",
   "metadata": {},
   "source": [
    "### Drop Features with Low Variance"
   ]
  },
  {
   "cell_type": "code",
   "execution_count": 59,
   "metadata": {},
   "outputs": [],
   "source": [
    "from sklearn.feature_selection import VarianceThreshold\n",
    "\n",
    "# remove all features that are either one or zero in more than 95% of the samples\n",
    "sel = VarianceThreshold(threshold=(.95 * (1 - .95)))\n",
    "sel_features = list(df_train)\n",
    "\n",
    "# remove the label from the list of columns\n",
    "sel_features.remove(\"Survived\")\n",
    "\n",
    "# fit the VarianceThreshold object to the training data\n",
    "sel.fit(df_train[sel_features])\n",
    "\n",
    "# get the column names after the variance threshold reduction\n",
    "sel_features_reduced = [sel_features[i] for i in sel.get_support(indices=True)]\n",
    "\n",
    "# create the training and test dataset by transform the datasets to the variance threshold object\n",
    "df_train_ = pd.DataFrame(sel.transform(df_train[sel_features]), columns=sel_features_reduced)\n",
    "# dont forget to join the label back to the training data\n",
    "df_train = pd.concat([df_train_, df_train[\"Survived\"]], axis=1)\n",
    "df_test = pd.DataFrame(sel.transform(df_test[sel_features]), columns=sel_features_reduced)"
   ]
  },
  {
   "cell_type": "markdown",
   "metadata": {},
   "source": [
    "### Drop Features with a High Correlation\n",
    "If two or more features have a high correlation, only one feature add information to the machine learning algorithm. Multiple features with a high correlation can lead to overfitting, like coping a feature 10 times does not add any useful information to the dataset. Therefore we calculate the Pearson correlation between each feature."
   ]
  },
  {
   "cell_type": "code",
   "execution_count": 61,
   "metadata": {},
   "outputs": [
    {
     "name": "stdout",
     "output_type": "stream",
     "text": [
      "Fare_bin <-> Fare: 0.9332961170608554\n",
      "Age_bin <-> Age: 0.9671894992784131\n",
      "x9_outlier <-> x8_outlier: 0.9902090395693397\n"
     ]
    },
    {
     "name": "stderr",
     "output_type": "stream",
     "text": [
      "C:\\Users\\chris\\AppData\\Local\\Temp\\ipykernel_7596\\1501349958.py:4: DeprecationWarning: `np.bool` is a deprecated alias for the builtin `bool`. To silence this warning, use `bool` by itself. Doing this will not modify any behavior and is safe. If you specifically wanted the numpy scalar type, use `np.bool_` here.\n",
      "Deprecated in NumPy 1.20; for more details and guidance: https://numpy.org/devdocs/release/1.20.0-notes.html#deprecations\n",
      "  upper = corr_matrix.where(np.triu(np.ones(corr_matrix.shape), k=1).astype(np.bool))\n"
     ]
    }
   ],
   "source": [
    "corr_matrix = df_train.corr().abs()\n",
    "\n",
    "# Select upper triangle of correlation matrix\n",
    "upper = corr_matrix.where(np.triu(np.ones(corr_matrix.shape), k=1).astype(np.bool))\n",
    "\n",
    "# Find features with correlation higher than 0.9 or lower -0.9\n",
    "to_drop = [column for column in upper.columns if any((upper[column] > 0.9) | (upper[column] < -0.9))]\n",
    "\n",
    "for element in to_drop:\n",
    "    column_list = list(df_train.columns[np.where(\n",
    "        (df_train.corrwith(df_train[element]) > 0.9) |\n",
    "        (df_train.corrwith(df_train[element]) < -0.9))])\n",
    "    column_list.remove(element)\n",
    "    for column in column_list:\n",
    "        print(str(element) + \" <-> \" + str(column) + \": \" + str(df_train[element].corr(df_train[column])))"
   ]
  },
  {
   "cell_type": "code",
   "execution_count": 62,
   "metadata": {},
   "outputs": [],
   "source": [
    "df_train.drop(['Fare', 'Age', 'x9_outlier'], axis=1, inplace=True)\n",
    "df_test.drop(['Fare', 'Age', 'x9_outlier'], axis=1, inplace=True)"
   ]
  },
  {
   "cell_type": "code",
   "execution_count": 63,
   "metadata": {},
   "outputs": [
    {
     "data": {
      "image/png": "[encoded data removed]",
      "text/plain": [
       "<Figure size 1152x864 with 1 Axes>"
      ]
     },
     "metadata": {
      "needs_background": "light"
     },
     "output_type": "display_data"
    }
   ],
   "source": [
    "plt.figure(figsize=(16,12))\n",
    "plt.title('Pearson Correlation of Features', y=1.05, size=25)\n",
    "sns.heatmap(df_train.corr(), linewidths=0.1, vmax=1.0, square=False, linecolor='white', annot=True, cmap=\"YlGnBu\", cbar=False)\n",
    "plt.show()"
   ]
  },
  {
   "cell_type": "markdown",
   "metadata": {},
   "source": [
    "## Save Prepared Dataset after Feature Selection"
   ]
  },
  {
   "cell_type": "code",
   "execution_count": 65,
   "metadata": {},
   "outputs": [],
   "source": [
    "# save prepared dataset as pickle file\n",
    "df_train.to_pickle('df_train_prepared_reduced.pkl')\n",
    "df_test.to_pickle('df_test_prepared_reduced.pkl')"
   ]
  },
  {
   "cell_type": "code",
   "execution_count": null,
   "metadata": {},
   "outputs": [],
   "source": []
  }
 ],
 "metadata": {
  "kernelspec": {
   "display_name": "Python 3.9.12 ('base')",
   "language": "python",
   "name": "python3"
  },
  "language_info": {
   "codemirror_mode": {
    "name": "ipython",
    "version": 3
   },
   "file_extension": ".py",
   "mimetype": "text/x-python",
   "name": "python",
   "nbconvert_exporter": "python",
   "pygments_lexer": "ipython3",
   "version": "3.9.12 (main, Apr  4 2022, 05:22:27) [MSC v.1916 64 bit (AMD64)]"
  },
  "toc": {
   "base_numbering": 1,
   "nav_menu": {},
   "number_sections": true,
   "sideBar": true,
   "skip_h1_title": true,
   "title_cell": "Table of Contents",
   "title_sidebar": "Contents",
   "toc_cell": false,
   "toc_position": {
    "height": "calc(100% - 180px)",
    "left": "10px",
    "top": "150px",
    "width": "308.391px"
   },
   "toc_section_display": true,
   "toc_window_display": true
  },
  "vscode": {
   "interpreter": {
    "hash": "30d15984fd22aa96de85f16433eec91bbe2faea5d46ed3d4d24713e4f4ec970c"
   }
  }
 },
 "nbformat": 4,
 "nbformat_minor": 4
}
