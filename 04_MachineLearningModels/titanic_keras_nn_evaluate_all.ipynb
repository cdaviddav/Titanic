{
 "cells": [
  {
   "cell_type": "code",
   "execution_count": 1,
   "metadata": {},
   "outputs": [
    {
     "name": "stdout",
     "output_type": "stream",
     "text": [
      "pandas version: 1.4.3\n",
      "numpy version: 1.23.2\n",
      "sklearn version: 1.0.2\n",
      "keras version: 2.10.0\n",
      "tensorflow version: 2.10.0\n"
     ]
    },
    {
     "name": "stderr",
     "output_type": "stream",
     "text": [
      "e:\\programs\\anaconda3\\envs\\keras_mlflow\\lib\\site-packages\\tqdm\\auto.py:22: TqdmWarning: IProgress not found. Please update jupyter and ipywidgets. See https://ipywidgets.readthedocs.io/en/stable/user_install.html\n",
      "  from .autonotebook import tqdm as notebook_tqdm\n"
     ]
    },
    {
     "name": "stdout",
     "output_type": "stream",
     "text": [
      "optuna version: 3.0.1\n",
      "mlflow version: 1.28.0\n"
     ]
    }
   ],
   "source": [
    "import pandas as pd\n",
    "print(\"pandas version: {}\". format(pd.__version__))\n",
    "\n",
    "import numpy as np\n",
    "print(\"numpy version: {}\". format(np.__version__))\n",
    "\n",
    "import sklearn\n",
    "from sklearn.model_selection import ShuffleSplit, StratifiedShuffleSplit, train_test_split\n",
    "from sklearn.metrics import precision_recall_curve, roc_curve, confusion_matrix, roc_auc_score\n",
    "print(\"sklearn version: {}\". format(sklearn.__version__))\n",
    "\n",
    "import keras\n",
    "from keras.models import Sequential\n",
    "from keras.layers import Dense, Activation, Dropout, BatchNormalization\n",
    "print(\"keras version: {}\". format(keras.__version__))\n",
    "\n",
    "import tensorflow as tf\n",
    "print(\"tensorflow version: {}\". format(tf.__version__))\n",
    "\n",
    "import optuna\n",
    "print(\"optuna version: {}\". format(optuna.__version__))\n",
    "\n",
    "import mlflow\n",
    "from mlflow.utils.mlflow_tags import MLFLOW_PARENT_RUN_ID\n",
    "from mlflow.tracking import MlflowClient\n",
    "print(\"mlflow version: {}\". format(mlflow.__version__))\n",
    "\n",
    "import matplotlib.pyplot as plt\n",
    "import seaborn as sns\n",
    "\n",
    "from datetime import datetime\n",
    "import os\n",
    "import io\n",
    "import warnings\n",
    "warnings.simplefilter('ignore')\n",
    "\n",
    "import yaml\n",
    "with open('ml_parameter.yaml') as file:\n",
    "  config_data= yaml.safe_load(file)"
   ]
  },
  {
   "cell_type": "code",
   "execution_count": 2,
   "metadata": {},
   "outputs": [],
   "source": [
    "VERSION = \"2.0\"\n",
    "SCRIPT = \"titanic_keras_nn_evaluate_all\""
   ]
  },
  {
   "cell_type": "code",
   "execution_count": 3,
   "metadata": {},
   "outputs": [],
   "source": [
    "client = MlflowClient()\n",
    "try:\n",
    "    experiment = client.create_experiment(\"Titanic_NN\")\n",
    "except:\n",
    "    experiment = client.get_experiment_by_name(\"Titanic_NN\").experiment_id\n",
    "\n",
    "parent_run = client.create_run(experiment_id=experiment, tags={\"mlflow.runName\": SCRIPT, \"script_version\": VERSION})"
   ]
  },
  {
   "cell_type": "code",
   "execution_count": 4,
   "metadata": {},
   "outputs": [],
   "source": [
    "def load_data():\n",
    "    # load prepared training and test dataset\n",
    "    df_train = pd.read_pickle('../03_DataPreprocessing/df_train_prepared_reduced.pkl')\n",
    "    df_test = pd.read_pickle('../03_DataPreprocessing/df_test_prepared_reduced.pkl')\n",
    "\n",
    "    # split the training and test dataset to the input features (x_train, x_test) and the survival class (y_train)\n",
    "    y_train = df_train['Survived']\n",
    "    x_train = df_train.drop(['Survived'], axis=1)\n",
    "    x_test = df_test\n",
    "\n",
    "    x_train, x_validate, y_train, y_validate = train_test_split(x_train, y_train, test_size=config_data[\"TEST_SIZE\"], stratify=y_train, random_state=config_data[\"RANDOM_STATE\"])\n",
    "\n",
    "    return x_train, y_train, x_validate, y_validate, x_test, df_train, df_test\n",
    "\n",
    "x_train, y_train, x_validate, y_validate, x_test, df_train, df_test = load_data()"
   ]
  },
  {
   "cell_type": "code",
   "execution_count": 5,
   "metadata": {},
   "outputs": [],
   "source": [
    "def evaluate_model(y_validate, y_validate_pred, y_validate_scores, child_run):\n",
    "    \"\"\"\n",
    "    evaluate the classification model with\n",
    "    - classification report\n",
    "    - precision-recall-curve\n",
    "    - ROC curve\n",
    "    \"\"\"\n",
    "\n",
    "\n",
    "    def plot_confusion_matrix(y_validate, y_validate_pred):\n",
    "        group_names = [\"True Neg\", \"False Pos\", \"False Neg\", \"True Pos\"]\n",
    "        group_counts = [\"{0:0.0f}\".format(value) for value in\n",
    "                        confusion_matrix(y_validate, y_validate_pred).flatten()]\n",
    "        group_percentages = [\"{0:.2%}\".format(value) for value in\n",
    "                             confusion_matrix(y_validate, y_validate_pred).flatten()/np.sum(confusion_matrix(y_validate, y_validate_pred))]\n",
    "        labels = [f\"{v1}\\n{v2}\\n{v3}\" for v1, v2, v3 in\n",
    "                  zip(group_names,group_counts,group_percentages)]\n",
    "        labels = np.asarray(labels).reshape(2,2)\n",
    "\n",
    "        fig2, ax2 = plt.subplots()\n",
    "        sns.heatmap(confusion_matrix(y_validate, y_validate_pred), annot=labels, fmt=\"\", cmap='Blues')\n",
    "        plt.xlabel('Predicted Label')\n",
    "        plt.ylabel('True Label')\n",
    "        client.log_figure(child_run.info.run_id, fig2, 'plot_confusion_matrix.png')\n",
    "        plt.close()\n",
    "\n",
    "\n",
    "    def plot_precision_recall_vs_threshold(y_validate, y_scores, child_run):\n",
    "        precisions, recalls, thresholds = precision_recall_curve(y_validate, y_scores)\n",
    "\n",
    "        # convert to f score\n",
    "        fscore = (2 * precisions * recalls) / (precisions + recalls)\n",
    "        # locate the index of the largest f score\n",
    "        ix = np.argmax(fscore)\n",
    "        \n",
    "        client.log_metric(child_run.info.run_id, \"f1_score\", round(fscore[ix], 5))\n",
    "\n",
    "        fig3, ax3 = plt.subplots()\n",
    "        ax3.plot(thresholds, precisions[:-1], \"b\", label=\"Precision\")\n",
    "        ax3.plot(thresholds, recalls[:-1], \"g\", label=\"Recall\")\n",
    "        ax3.plot(thresholds, fscore[:-1], \"r\", label=\"F1 Score\")\n",
    "        ax3.axvline(x=thresholds[ix], color='red', linestyle='--')\n",
    "        plt.axhline(y=precisions[ix], color='b', linestyle='--')\n",
    "        plt.axhline(y=recalls[ix], color='g', linestyle='--')\n",
    "        ax3.set_xlabel(\"Threshold\")\n",
    "        ax3.legend(loc=\"upper left\")\n",
    "        ax3.set_ylim([0,1])\n",
    "        client.log_figure(child_run.info.run_id, fig3, 'plot_f1.png')\n",
    "        plt.close()\n",
    "\n",
    "        fig4, ax4 = plt.subplots()\n",
    "        ax4.plot(recalls, precisions, marker='.', label='Logistic')\n",
    "        ax4.scatter(recalls[ix], precisions[ix], 200, marker='o', color='red', label='Best')\n",
    "        ax4.set_xlabel('Recall')\n",
    "        ax4.set_ylabel('Precision')\n",
    "        client.log_figure(child_run.info.run_id, fig4, 'plot_precision_recall.png')\n",
    "        plt.close()\n",
    "        \n",
    "\n",
    "    def plot_roc_curve(y_validate, y_scores, child_run):\n",
    "        fpr, tpr, thresholds = roc_curve(y_validate, y_scores)\n",
    "\n",
    "        roc_auc = round(roc_auc_score(y_validate, y_scores), 3)\n",
    "        \n",
    "        optimal_idx = np.argmax(tpr - fpr)\n",
    "\n",
    "        fig5, ax5 = plt.subplots()\n",
    "        ax5.plot(fpr, tpr, linewidth=2)\n",
    "        ax5.plot([0,1], [0,1], 'k--')\n",
    "        ax5.axis([0,1,0,1])\n",
    "        ax5.scatter(fpr[optimal_idx], tpr[optimal_idx], 200, marker='o', color='red', label='Best')\n",
    "        ax5.set_xlabel('False Positive Rate')\n",
    "        ax5.set_ylabel('True Positive Rate')\n",
    "        client.log_figure(child_run.info.run_id, fig5, 'plot_roc_curve.png')\n",
    "        plt.close()\n",
    "\n",
    "        client.log_metric(child_run.info.run_id, \"roc_auc\", roc_auc)\n",
    "\n",
    "        \n",
    "\n",
    "    print(\"plot_confusion_matrix\")\n",
    "    plot_confusion_matrix(y_validate, y_validate_pred)\n",
    "    \n",
    "    print(\"plot_precision_recall_vs_threshold\")\n",
    "    plot_precision_recall_vs_threshold(y_validate, y_validate_scores, child_run)\n",
    "    \n",
    "    print(\"plot_roc_curve\")\n",
    "    plot_roc_curve(y_validate, y_validate_scores, child_run)"
   ]
  },
  {
   "cell_type": "code",
   "execution_count": 6,
   "metadata": {},
   "outputs": [],
   "source": [
    "def create_submission(best_model, x_test, parent_run):\n",
    "    # predict the test values with the training classification model\n",
    "    y_pred = best_model.predict(x_test).astype(int)\n",
    "    \n",
    "    df_submission = pd.read_csv(\"../01_RawData/gender_submission.csv\")\n",
    "    df_submission['Survived'] = y_pred\n",
    "    \n",
    "    df_submission.to_csv('submissions/%s.csv'%parent_run.info.run_id, index=False)"
   ]
  },
  {
   "cell_type": "code",
   "execution_count": 7,
   "metadata": {},
   "outputs": [],
   "source": [
    "def create_model(trial, child_run):\n",
    "\n",
    "    model = Sequential()\n",
    "    model.add(keras.Input(shape=(x_train.shape[1],)))\n",
    "\n",
    "    n_layers = trial.suggest_int('n_layers', 2, 4)\n",
    "    client.log_param(child_run.info.run_id, \"n_layers\", n_layers-1)\n",
    "\n",
    "    for layer in range(1,n_layers):\n",
    "        n_units = trial.suggest_int('n_units_'+str(layer), 2, 20)\n",
    "        client.log_param(child_run.info.run_id, 'n_units_'+str(layer), n_units)\n",
    "        activation = trial.suggest_categorical('activation_'+str(layer), ['relu', 'tanh', 'elu'])\n",
    "        client.log_param(child_run.info.run_id, 'activation_'+str(layer), activation)\n",
    "        dropout = trial.suggest_float('dropout', 0.1, 0.6, log=False)\n",
    "        client.log_param(child_run.info.run_id, 'dropout_'+str(layer), dropout)\n",
    "\n",
    "        model.add(Dense(units=n_units))\n",
    "        model.add(BatchNormalization())\n",
    "        model.add(Activation(activation))\n",
    "        model.add(Dropout(dropout))\n",
    "\n",
    "    model.add(Dense(1, activation='sigmoid'))\n",
    "\n",
    "\n",
    "    lr =  trial.suggest_float('lr', 0.001, 1, log=True)\n",
    "    client.log_param(child_run.info.run_id, 'lr', lr)\n",
    "    beta_1 = trial.suggest_float('beta_1', 0.07, 0.99, log=False)\n",
    "    client.log_param(child_run.info.run_id, 'beta_1', beta_1)\n",
    "    beta_2 = trial.suggest_float('beta_2', 0.07, 0.99, log=False)\n",
    "    client.log_param(child_run.info.run_id, 'beta_2', beta_2)\n",
    "\n",
    "    adam = keras.optimizers.Adam(\n",
    "        lr=lr,\n",
    "        beta_1=beta_1,\n",
    "        beta_2=beta_2,\n",
    "        amsgrad=False\n",
    "        )\n",
    "\n",
    "    # compile the keras model\n",
    "    model.compile(\n",
    "        loss='binary_crossentropy',\n",
    "        optimizer=adam,\n",
    "        metrics=['accuracy']\n",
    "        )\n",
    "\n",
    "    return model, child_run"
   ]
  },
  {
   "cell_type": "code",
   "execution_count": 8,
   "metadata": {},
   "outputs": [],
   "source": [
    "class Objective:\n",
    "    \n",
    "    def __init__(self, parent_run):\n",
    "        self.best_model = None\n",
    "        self._model = None\n",
    "\n",
    "        self.parent_run = parent_run\n",
    "\n",
    "    \n",
    "    def __call__(self, trial):\n",
    "        \n",
    "        child_run = client.create_run(\n",
    "            experiment_id=experiment,\n",
    "            tags={\n",
    "                MLFLOW_PARENT_RUN_ID: self.parent_run.info.run_id,\n",
    "                \"mlflow.runName\": SCRIPT,\n",
    "                \"script_version\": VERSION\n",
    "            }\n",
    "        )\n",
    "\n",
    "        # mlflow.tensorflow.autolog()\n",
    "\n",
    "        model, child_run = create_model(trial, child_run)\n",
    "        self._model = model\n",
    "\n",
    "        tensorboard_identifier = datetime.now().strftime('%Y-%m-%d_%H-%M-%S')\n",
    "        logdir = os.path.join('tensorboard', tensorboard_identifier)\n",
    "        client.log_param(child_run.info.run_id, \"tensorboard\", tensorboard_identifier)\n",
    "        # file_writer_cm = tf.summary.create_file_writer(logdir + '/cm')\n",
    "\n",
    "        tensorboard_callback = keras.callbacks.TensorBoard(log_dir=logdir, histogram_freq=1)\n",
    "\n",
    "\n",
    "        def log_confusion_matrix(epoch, logs):\n",
    "            y_validate_scores = model.predict(x_validate)\n",
    "            y_validate_pred = tf.greater(y_validate_scores, .5)\n",
    "\n",
    "            # con_mat = tf.math.confusion_matrix(labels=y_validate, predictions=y_validate_pred).numpy()\n",
    "            con_mat = tf.math.confusion_matrix(labels=y_validate, predictions=y_validate_pred)\n",
    "            con_mat_norm = np.around(con_mat.astype('float') / con_mat.sum(axis=1)[:, np.newaxis], decimals=2)\n",
    "\n",
    "            con_mat_df = pd.DataFrame(con_mat_norm, index=[0,1], columns=[0,1])\n",
    "\n",
    "            figure = plt.figure(figsize=(8, 8))\n",
    "            # sns.heatmap(con_mat_df, annot=True,cmap=plt.cm.Blues)\n",
    "            sns.heatmap(con_mat_df, annot=True,cmap=plt.cm.Blues)\n",
    "            plt.tight_layout()\n",
    "            plt.ylabel('True label')\n",
    "            plt.xlabel('Predicted label')\n",
    "\n",
    "            plt.close()\n",
    "\n",
    "            return figure\n",
    "\n",
    "        cm_callback = keras.callbacks.LambdaCallback(on_epoch_end=log_confusion_matrix)\n",
    "\n",
    "        # early stopping\n",
    "        earlystopping = keras.callbacks.EarlyStopping(\n",
    "            monitor='accuracy',\n",
    "            patience=50,\n",
    "            verbose=1,\n",
    "            mode='min'\n",
    "            )\n",
    "\n",
    "\n",
    "        # fit the keras model on the dataset\n",
    "        model.fit(\n",
    "            x_train, y_train,\n",
    "            epochs=500,\n",
    "            verbose=0,\n",
    "            batch_size=10,\n",
    "            callbacks=[earlystopping, tensorboard_callback],\n",
    "            validation_data=(x_validate, y_validate)\n",
    "        )\n",
    "\n",
    "\n",
    "        # evaluate the keras model\n",
    "        _, accuracy = model.evaluate(x_validate, y_validate)\n",
    "        client.log_metric(child_run.info.run_id, \"cv_score\", accuracy)\n",
    "\n",
    "        # Keras maodel predicts the probabilities instead of the classes\n",
    "        y_validate_scores = model.predict(x_validate)\n",
    "\n",
    "        # set the thresholds for the classes to 0.5 to get the prediction from the probabilities\n",
    "        y_validate_pred = tf.greater(y_validate_scores, .5)\n",
    "\n",
    "        print(\"Evaludate Model during parent run\")\n",
    "        evaluate_model(y_validate, y_validate_pred, y_validate_scores, child_run)\n",
    "\n",
    "\n",
    "\n",
    "        return accuracy\n",
    "\n",
    "    def callback(self, study, trial):\n",
    "        if study.best_trial == trial:\n",
    "            self.best_model = self._model\n"
   ]
  },
  {
   "cell_type": "code",
   "execution_count": 9,
   "metadata": {},
   "outputs": [
    {
     "name": "stderr",
     "output_type": "stream",
     "text": [
      "\u001b[32m[I 2022-12-22 16:32:32,550]\u001b[0m A new study created in memory with name: no-name-7b2a74ae-aeb8-42b1-994c-333ad98b8226\u001b[0m\n"
     ]
    },
    {
     "name": "stdout",
     "output_type": "stream",
     "text": [
      "Epoch 60: early stopping\n",
      "6/6 [==============================] - 0s 7ms/step - loss: 0.7929 - accuracy: 0.8045\n",
      "6/6 [==============================] - 0s 5ms/step\n",
      "Evaludate Model during parent run\n",
      "plot_confusion_matrix\n",
      "plot_precision_recall_vs_threshold\n"
     ]
    },
    {
     "name": "stderr",
     "output_type": "stream",
     "text": [
      "\u001b[32m[I 2022-12-22 16:33:59,106]\u001b[0m Trial 0 finished with value: 0.8044692873954773 and parameters: {'n_layers': 2, 'n_units_1': 15, 'activation_1': 'tanh', 'dropout': 0.16954981801621175, 'lr': 0.3464985732806362, 'beta_1': 0.8517224400222236, 'beta_2': 0.6449417598402196}. Best is trial 0 with value: 0.8044692873954773.\u001b[0m\n"
     ]
    },
    {
     "name": "stdout",
     "output_type": "stream",
     "text": [
      "plot_roc_curve\n",
      "Epoch 51: early stopping\n",
      "6/6 [==============================] - 0s 10ms/step - loss: 0.4537 - accuracy: 0.8212\n",
      "Epoch 51: early stopping\n",
      "6/6 [==============================] - 0s 9ms/step - loss: 0.4289 - accuracy: 0.8212\n",
      "6/6 [==============================] - 0s 6ms/step\n",
      "Evaludate Model during parent run\n",
      "plot_confusion_matrix\n",
      "6/6 [==============================] - 0s 4ms/step\n",
      "Evaludate Model during parent run\n",
      "plot_confusion_matrix\n",
      "plot_precision_recall_vs_threshold\n",
      "plot_precision_recall_vs_threshold\n"
     ]
    },
    {
     "name": "stderr",
     "output_type": "stream",
     "text": [
      "\u001b[32m[I 2022-12-22 16:34:47,580]\u001b[0m Trial 2 finished with value: 0.8212290406227112 and parameters: {'n_layers': 4, 'n_units_1': 8, 'activation_1': 'relu', 'dropout': 0.1483694132296199, 'n_units_2': 7, 'activation_2': 'elu', 'n_units_3': 15, 'activation_3': 'tanh', 'lr': 0.03951779112836795, 'beta_1': 0.6112767421133738, 'beta_2': 0.7443139314355685}. Best is trial 2 with value: 0.8212290406227112.\u001b[0m\n"
     ]
    },
    {
     "name": "stdout",
     "output_type": "stream",
     "text": [
      "plot_roc_curve\n",
      "plot_roc_curve\n"
     ]
    },
    {
     "name": "stderr",
     "output_type": "stream",
     "text": [
      "\u001b[32m[I 2022-12-22 16:34:47,628]\u001b[0m Trial 3 finished with value: 0.8212290406227112 and parameters: {'n_layers': 4, 'n_units_1': 18, 'activation_1': 'tanh', 'dropout': 0.3384540503367024, 'n_units_2': 19, 'activation_2': 'tanh', 'n_units_3': 16, 'activation_3': 'tanh', 'lr': 0.017480849948963262, 'beta_1': 0.700261835973174, 'beta_2': 0.5748125526403114}. Best is trial 2 with value: 0.8212290406227112.\u001b[0m\n"
     ]
    },
    {
     "name": "stdout",
     "output_type": "stream",
     "text": [
      "Epoch 81: early stopping\n",
      "6/6 [==============================] - 0s 10ms/step - loss: 0.7020 - accuracy: 0.6145\n",
      "6/6 [==============================] - 0s 7ms/step\n",
      "Evaludate Model during parent run\n",
      "plot_confusion_matrix\n",
      "plot_precision_recall_vs_threshold\n",
      "plot_roc_curve\n"
     ]
    },
    {
     "name": "stderr",
     "output_type": "stream",
     "text": [
      "\u001b[32m[I 2022-12-22 16:35:05,088]\u001b[0m Trial 1 finished with value: 0.6145251393318176 and parameters: {'n_layers': 3, 'n_units_1': 20, 'activation_1': 'elu', 'dropout': 0.2747040795700555, 'n_units_2': 18, 'activation_2': 'tanh', 'lr': 0.22729781597466647, 'beta_1': 0.8171487813382132, 'beta_2': 0.18716226067324032}. Best is trial 2 with value: 0.8212290406227112.\u001b[0m\n"
     ]
    },
    {
     "name": "stdout",
     "output_type": "stream",
     "text": [
      "Epoch 51: early stopping\n",
      "6/6 [==============================] - 0s 8ms/step - loss: 0.4314 - accuracy: 0.8101\n",
      "6/6 [==============================] - 0s 6ms/step\n",
      "Evaludate Model during parent run\n",
      "plot_confusion_matrix\n",
      "plot_precision_recall_vs_threshold\n"
     ]
    },
    {
     "name": "stderr",
     "output_type": "stream",
     "text": [
      "\u001b[32m[I 2022-12-22 16:35:09,100]\u001b[0m Trial 4 finished with value: 0.8100558519363403 and parameters: {'n_layers': 2, 'n_units_1': 3, 'activation_1': 'elu', 'dropout': 0.50066731186466, 'lr': 0.0015481902065469586, 'beta_1': 0.16365652665878022, 'beta_2': 0.45336484228802193}. Best is trial 2 with value: 0.8212290406227112.\u001b[0m\n"
     ]
    },
    {
     "name": "stdout",
     "output_type": "stream",
     "text": [
      "plot_roc_curve\n",
      "Epoch 51: early stopping\n",
      "6/6 [==============================] - 0s 11ms/step - loss: 0.4394 - accuracy: 0.8156\n",
      "6/6 [==============================] - 0s 5ms/step\n",
      "Evaludate Model during parent run\n",
      "plot_confusion_matrix\n",
      "plot_precision_recall_vs_threshold\n",
      "plot_roc_curve\n"
     ]
    },
    {
     "name": "stderr",
     "output_type": "stream",
     "text": [
      "\u001b[32m[I 2022-12-22 16:36:16,735]\u001b[0m Trial 7 finished with value: 0.8156424760818481 and parameters: {'n_layers': 2, 'n_units_1': 9, 'activation_1': 'relu', 'dropout': 0.45273322142558337, 'lr': 0.0014371938684630283, 'beta_1': 0.4989863098916126, 'beta_2': 0.6806240981631875}. Best is trial 2 with value: 0.8212290406227112.\u001b[0m\n"
     ]
    },
    {
     "name": "stdout",
     "output_type": "stream",
     "text": [
      "Epoch 51: early stopping\n",
      "6/6 [==============================] - 0s 11ms/step - loss: 0.4609 - accuracy: 0.7989\n",
      "6/6 [==============================] - 0s 5ms/step\n",
      "Evaludate Model during parent run\n",
      "plot_confusion_matrix\n",
      "plot_precision_recall_vs_threshold\n"
     ]
    },
    {
     "name": "stderr",
     "output_type": "stream",
     "text": [
      "\u001b[32m[I 2022-12-22 16:36:24,001]\u001b[0m Trial 6 finished with value: 0.7988826632499695 and parameters: {'n_layers': 3, 'n_units_1': 4, 'activation_1': 'tanh', 'dropout': 0.13018827585719037, 'n_units_2': 18, 'activation_2': 'relu', 'lr': 0.008387161383786356, 'beta_1': 0.26824425646441563, 'beta_2': 0.8591650226032979}. Best is trial 2 with value: 0.8212290406227112.\u001b[0m\n"
     ]
    },
    {
     "name": "stdout",
     "output_type": "stream",
     "text": [
      "plot_roc_curve\n",
      "Epoch 51: early stopping\n",
      "6/6 [==============================] - 0s 11ms/step - loss: 0.4630 - accuracy: 0.8101\n",
      "6/6 [==============================] - 0s 8ms/step\n",
      "Evaludate Model during parent run\n",
      "plot_confusion_matrix\n",
      "plot_precision_recall_vs_threshold\n"
     ]
    },
    {
     "name": "stderr",
     "output_type": "stream",
     "text": [
      "\u001b[32m[I 2022-12-22 16:36:45,589]\u001b[0m Trial 8 finished with value: 0.8100558519363403 and parameters: {'n_layers': 3, 'n_units_1': 10, 'activation_1': 'relu', 'dropout': 0.3295600537004306, 'n_units_2': 14, 'activation_2': 'elu', 'lr': 0.01821828595954998, 'beta_1': 0.607149747822999, 'beta_2': 0.09596791872553748}. Best is trial 2 with value: 0.8212290406227112.\u001b[0m\n"
     ]
    },
    {
     "name": "stdout",
     "output_type": "stream",
     "text": [
      "plot_roc_curve\n",
      "Epoch 82: early stopping\n",
      "6/6 [==============================] - 0s 11ms/step - loss: 0.5124 - accuracy: 0.8101\n",
      "6/6 [==============================] - 0s 6ms/step\n",
      "Evaludate Model during parent run\n",
      "plot_confusion_matrix\n",
      "plot_precision_recall_vs_threshold\n"
     ]
    },
    {
     "name": "stderr",
     "output_type": "stream",
     "text": [
      "\u001b[32m[I 2022-12-22 16:37:55,076]\u001b[0m Trial 5 finished with value: 0.8100558519363403 and parameters: {'n_layers': 4, 'n_units_1': 5, 'activation_1': 'relu', 'dropout': 0.3799960206501459, 'n_units_2': 20, 'activation_2': 'relu', 'n_units_3': 20, 'activation_3': 'relu', 'lr': 0.07064799303792822, 'beta_1': 0.2620984837033603, 'beta_2': 0.14570318906305785}. Best is trial 2 with value: 0.8212290406227112.\u001b[0m\n"
     ]
    },
    {
     "name": "stdout",
     "output_type": "stream",
     "text": [
      "plot_roc_curve\n",
      "Epoch 51: early stopping\n",
      "6/6 [==============================] - 0s 7ms/step - loss: 0.4489 - accuracy: 0.8268\n",
      "6/6 [==============================] - 0s 7ms/step\n",
      "Evaludate Model during parent run\n",
      "plot_confusion_matrix\n",
      "plot_precision_recall_vs_threshold\n"
     ]
    },
    {
     "name": "stderr",
     "output_type": "stream",
     "text": [
      "\u001b[32m[I 2022-12-22 16:37:58,438]\u001b[0m Trial 9 finished with value: 0.826815664768219 and parameters: {'n_layers': 3, 'n_units_1': 18, 'activation_1': 'tanh', 'dropout': 0.14289349950373822, 'n_units_2': 13, 'activation_2': 'relu', 'lr': 0.003880285824488726, 'beta_1': 0.7120824484204298, 'beta_2': 0.3973184242565813}. Best is trial 9 with value: 0.826815664768219.\u001b[0m\n"
     ]
    },
    {
     "name": "stdout",
     "output_type": "stream",
     "text": [
      "plot_roc_curve\n",
      "Epoch 51: early stopping\n",
      "6/6 [==============================] - 0s 10ms/step - loss: 0.4550 - accuracy: 0.8156\n",
      "6/6 [==============================] - 0s 6ms/step\n",
      "Evaludate Model during parent run\n",
      "plot_confusion_matrix\n",
      "plot_precision_recall_vs_threshold\n"
     ]
    },
    {
     "name": "stderr",
     "output_type": "stream",
     "text": [
      "\u001b[32m[I 2022-12-22 16:38:01,604]\u001b[0m Trial 10 finished with value: 0.8156424760818481 and parameters: {'n_layers': 3, 'n_units_1': 8, 'activation_1': 'relu', 'dropout': 0.34923415751774123, 'n_units_2': 15, 'activation_2': 'elu', 'lr': 0.0010931586888384233, 'beta_1': 0.4375959160813987, 'beta_2': 0.5131983685411594}. Best is trial 9 with value: 0.826815664768219.\u001b[0m\n"
     ]
    },
    {
     "name": "stdout",
     "output_type": "stream",
     "text": [
      "plot_roc_curve\n",
      "Epoch 51: early stopping\n",
      "6/6 [==============================] - 0s 11ms/step - loss: 0.4311 - accuracy: 0.8212\n",
      "6/6 [==============================] - 0s 5ms/step\n",
      "Evaludate Model during parent run\n",
      "plot_confusion_matrix\n",
      "plot_precision_recall_vs_threshold\n"
     ]
    },
    {
     "name": "stderr",
     "output_type": "stream",
     "text": [
      "\u001b[32m[I 2022-12-22 16:38:24,269]\u001b[0m Trial 11 finished with value: 0.8212290406227112 and parameters: {'n_layers': 3, 'n_units_1': 5, 'activation_1': 'elu', 'dropout': 0.40212589046797953, 'n_units_2': 4, 'activation_2': 'tanh', 'lr': 0.006337614101203436, 'beta_1': 0.10526112955584103, 'beta_2': 0.958613062626273}. Best is trial 9 with value: 0.826815664768219.\u001b[0m\n"
     ]
    },
    {
     "name": "stdout",
     "output_type": "stream",
     "text": [
      "plot_roc_curve\n",
      "Epoch 51: early stopping\n",
      "6/6 [==============================] - 0s 14ms/step - loss: 0.5443 - accuracy: 0.7095\n",
      "6/6 [==============================] - 1s 5ms/step\n",
      "Evaludate Model during parent run\n",
      "plot_confusion_matrix\n",
      "plot_precision_recall_vs_threshold\n"
     ]
    },
    {
     "name": "stderr",
     "output_type": "stream",
     "text": [
      "\u001b[32m[I 2022-12-22 16:39:36,210]\u001b[0m Trial 13 finished with value: 0.7094972133636475 and parameters: {'n_layers': 3, 'n_units_1': 14, 'activation_1': 'tanh', 'dropout': 0.5766990522876385, 'n_units_2': 2, 'activation_2': 'relu', 'lr': 0.006123932539611914, 'beta_1': 0.9675801223675431, 'beta_2': 0.3562664306271083}. Best is trial 9 with value: 0.826815664768219.\u001b[0m\n"
     ]
    },
    {
     "name": "stdout",
     "output_type": "stream",
     "text": [
      "plot_roc_curve\n",
      "Epoch 51: early stopping\n",
      "6/6 [==============================] - 0s 16ms/step - loss: 0.5553 - accuracy: 0.8101\n",
      "6/6 [==============================] - 0s 8ms/step\n",
      "Evaludate Model during parent run\n",
      "plot_confusion_matrix\n",
      "plot_precision_recall_vs_threshold\n",
      "plot_roc_curve\n"
     ]
    },
    {
     "name": "stderr",
     "output_type": "stream",
     "text": [
      "\u001b[32m[I 2022-12-22 16:39:52,622]\u001b[0m Trial 12 finished with value: 0.8100558519363403 and parameters: {'n_layers': 4, 'n_units_1': 19, 'activation_1': 'relu', 'dropout': 0.18575110780079893, 'n_units_2': 20, 'activation_2': 'relu', 'n_units_3': 17, 'activation_3': 'elu', 'lr': 0.16661883181280798, 'beta_1': 0.6477090119718338, 'beta_2': 0.7755683288617772}. Best is trial 9 with value: 0.826815664768219.\u001b[0m\n"
     ]
    },
    {
     "name": "stdout",
     "output_type": "stream",
     "text": [
      "Epoch 51: early stopping\n",
      "6/6 [==============================] - 0s 7ms/step - loss: 0.4661 - accuracy: 0.8101\n",
      "6/6 [==============================] - 0s 9ms/step\n",
      "Evaludate Model during parent run\n",
      "plot_confusion_matrix\n",
      "plot_precision_recall_vs_threshold\n"
     ]
    },
    {
     "name": "stderr",
     "output_type": "stream",
     "text": [
      "\u001b[32m[I 2022-12-22 16:40:01,613]\u001b[0m Trial 14 finished with value: 0.8100558519363403 and parameters: {'n_layers': 4, 'n_units_1': 13, 'activation_1': 'tanh', 'dropout': 0.2060406804563571, 'n_units_2': 6, 'activation_2': 'elu', 'n_units_3': 4, 'activation_3': 'tanh', 'lr': 0.07805122941396732, 'beta_1': 0.7092062733371294, 'beta_2': 0.3314872512887659}. Best is trial 9 with value: 0.826815664768219.\u001b[0m\n"
     ]
    },
    {
     "name": "stdout",
     "output_type": "stream",
     "text": [
      "plot_roc_curve\n",
      "Epoch 58: early stopping\n",
      "6/6 [==============================] - 0s 14ms/step - loss: 0.6656 - accuracy: 0.6145\n",
      "6/6 [==============================] - 0s 8ms/step\n",
      "Evaludate Model during parent run\n",
      "plot_confusion_matrix\n",
      "plot_precision_recall_vs_threshold\n"
     ]
    },
    {
     "name": "stderr",
     "output_type": "stream",
     "text": [
      "\u001b[32m[I 2022-12-22 16:40:41,330]\u001b[0m Trial 15 finished with value: 0.6145251393318176 and parameters: {'n_layers': 4, 'n_units_1': 14, 'activation_1': 'tanh', 'dropout': 0.2104978827161157, 'n_units_2': 7, 'activation_2': 'relu', 'n_units_3': 3, 'activation_3': 'tanh', 'lr': 0.05826185765466827, 'beta_1': 0.9859393795147795, 'beta_2': 0.33732197366443306}. Best is trial 9 with value: 0.826815664768219.\u001b[0m\n"
     ]
    },
    {
     "name": "stdout",
     "output_type": "stream",
     "text": [
      "plot_roc_curve\n",
      "Epoch 51: early stopping\n",
      "6/6 [==============================] - 0s 13ms/step - loss: 0.4890 - accuracy: 0.8156\n",
      "6/6 [==============================] - 0s 7ms/step\n",
      "Evaludate Model during parent run\n",
      "plot_confusion_matrix\n",
      "plot_precision_recall_vs_threshold\n"
     ]
    },
    {
     "name": "stderr",
     "output_type": "stream",
     "text": [
      "\u001b[32m[I 2022-12-22 16:41:37,787]\u001b[0m Trial 16 finished with value: 0.8156424760818481 and parameters: {'n_layers': 4, 'n_units_1': 13, 'activation_1': 'relu', 'dropout': 0.20702424012981174, 'n_units_2': 8, 'activation_2': 'elu', 'n_units_3': 5, 'activation_3': 'tanh', 'lr': 0.11969521759065647, 'beta_1': 0.6680445358324868, 'beta_2': 0.32261313274428827}. Best is trial 9 with value: 0.826815664768219.\u001b[0m\n"
     ]
    },
    {
     "name": "stdout",
     "output_type": "stream",
     "text": [
      "plot_roc_curve\n",
      "Epoch 51: early stopping\n",
      "6/6 [==============================] - 0s 13ms/step - loss: 0.4357 - accuracy: 0.8268\n",
      "6/6 [==============================] - 0s 7ms/step\n",
      "Evaludate Model during parent run\n",
      "plot_confusion_matrix\n",
      "plot_precision_recall_vs_threshold\n"
     ]
    },
    {
     "name": "stderr",
     "output_type": "stream",
     "text": [
      "\u001b[32m[I 2022-12-22 16:41:53,664]\u001b[0m Trial 17 finished with value: 0.826815664768219 and parameters: {'n_layers': 4, 'n_units_1': 13, 'activation_1': 'tanh', 'dropout': 0.23608428329331593, 'n_units_2': 7, 'activation_2': 'elu', 'n_units_3': 6, 'activation_3': 'tanh', 'lr': 0.049130265332071384, 'beta_1': 0.44128732430768935, 'beta_2': 0.31295188622576264}. Best is trial 9 with value: 0.826815664768219.\u001b[0m\n"
     ]
    },
    {
     "name": "stdout",
     "output_type": "stream",
     "text": [
      "plot_roc_curve\n",
      "Epoch 63: early stopping\n",
      "6/6 [==============================] - 0s 12ms/step - loss: 0.6910 - accuracy: 0.6145\n",
      "6/6 [==============================] - 0s 5ms/step\n",
      "Evaludate Model during parent run\n",
      "plot_confusion_matrix\n",
      "plot_precision_recall_vs_threshold\n"
     ]
    },
    {
     "name": "stderr",
     "output_type": "stream",
     "text": [
      "\u001b[32m[I 2022-12-22 16:43:06,779]\u001b[0m Trial 19 finished with value: 0.6145251393318176 and parameters: {'n_layers': 4, 'n_units_1': 17, 'activation_1': 'relu', 'dropout': 0.10568361087612635, 'n_units_2': 10, 'activation_2': 'elu', 'n_units_3': 11, 'activation_3': 'relu', 'lr': 0.8770801219112064, 'beta_1': 0.39196495217634136, 'beta_2': 0.7738990240614971}. Best is trial 9 with value: 0.826815664768219.\u001b[0m\n"
     ]
    },
    {
     "name": "stdout",
     "output_type": "stream",
     "text": [
      "plot_roc_curve\n",
      "Epoch 51: early stopping\n",
      "6/6 [==============================] - 0s 7ms/step - loss: 10.2113 - accuracy: 0.3855\n",
      "6/6 [==============================] - 0s 5ms/step\n",
      "Evaludate Model during parent run\n",
      "plot_confusion_matrix\n",
      "plot_precision_recall_vs_threshold\n"
     ]
    },
    {
     "name": "stderr",
     "output_type": "stream",
     "text": [
      "\u001b[32m[I 2022-12-22 16:43:08,208]\u001b[0m Trial 21 finished with value: 0.3854748606681824 and parameters: {'n_layers': 2, 'n_units_1': 17, 'activation_1': 'tanh', 'dropout': 0.10412998551826028, 'lr': 0.8995319539492418, 'beta_1': 0.3642208513337744, 'beta_2': 0.23588167515534547}. Best is trial 9 with value: 0.826815664768219.\u001b[0m\n"
     ]
    },
    {
     "name": "stdout",
     "output_type": "stream",
     "text": [
      "plot_roc_curve\n",
      "Epoch 91: early stopping\n",
      "6/6 [==============================] - 0s 6ms/step - loss: 1.4944 - accuracy: 0.6145\n",
      "6/6 [==============================] - 0s 4ms/step\n",
      "Evaludate Model during parent run\n",
      "plot_confusion_matrix\n",
      "plot_precision_recall_vs_threshold\n"
     ]
    },
    {
     "name": "stderr",
     "output_type": "stream",
     "text": [
      "\u001b[32m[I 2022-12-22 16:43:19,089]\u001b[0m Trial 18 finished with value: 0.6145251393318176 and parameters: {'n_layers': 4, 'n_units_1': 17, 'activation_1': 'relu', 'dropout': 0.260496511799293, 'n_units_2': 9, 'activation_2': 'elu', 'n_units_3': 9, 'activation_3': 'tanh', 'lr': 0.8189915129479245, 'beta_1': 0.4137261530824524, 'beta_2': 0.3196187342549342}. Best is trial 9 with value: 0.826815664768219.\u001b[0m\n"
     ]
    },
    {
     "name": "stdout",
     "output_type": "stream",
     "text": [
      "plot_roc_curve\n",
      "Epoch 94: early stopping\n",
      "6/6 [==============================] - 0s 5ms/step - loss: 0.7303 - accuracy: 0.6145\n",
      "6/6 [==============================] - 0s 2ms/step\n",
      "Evaludate Model during parent run\n",
      "plot_confusion_matrix\n",
      "plot_precision_recall_vs_threshold\n",
      "plot_roc_curve\n"
     ]
    },
    {
     "name": "stderr",
     "output_type": "stream",
     "text": [
      "\u001b[32m[I 2022-12-22 16:43:30,118]\u001b[0m Trial 20 finished with value: 0.6145251393318176 and parameters: {'n_layers': 2, 'n_units_1': 7, 'activation_1': 'relu', 'dropout': 0.1279395211271021, 'lr': 0.9251405117639769, 'beta_1': 0.46461420602523723, 'beta_2': 0.745001325500569}. Best is trial 9 with value: 0.826815664768219.\u001b[0m\n"
     ]
    },
    {
     "name": "stdout",
     "output_type": "stream",
     "text": [
      "Study statistics: \n",
      "Number of finished trials:  22\n",
      "Best trial:\n",
      "0.826815664768219\n",
      "{'n_layers': 3, 'n_units_1': 18, 'activation_1': 'tanh', 'dropout': 0.14289349950373822, 'n_units_2': 13, 'activation_2': 'relu', 'lr': 0.003880285824488726, 'beta_1': 0.7120824484204298, 'beta_2': 0.3973184242565813}\n",
      "Save best model\n",
      "INFO:tensorflow:Assets written to: ram://3adf95c6-6756-4241-b85f-ecee7947e7b9/assets\n"
     ]
    },
    {
     "name": "stderr",
     "output_type": "stream",
     "text": [
      "2022/12/22 16:43:39 WARNING mlflow.utils.environment: Encountered an unexpected error while inferring pip requirements (model URI: models/2cfaef7917a1493a83167e68adb9c7d7/model.pkl, flavor: sklearn), fall back to return ['scikit-learn==1.0.2', 'cloudpickle==2.0.0']. Set logging level to DEBUG to see the full traceback.\n"
     ]
    },
    {
     "name": "stdout",
     "output_type": "stream",
     "text": [
      "Fit best model\n",
      "28/28 [==============================] - 0s 10ms/step - loss: 0.4963 - accuracy: 0.7957\n",
      "Create submission\n",
      "14/14 [==============================] - 0s 3ms/step\n",
      "Predict training outcome\n",
      "6/6 [==============================] - 0s 3ms/step\n",
      "Evaluate model performance\n",
      "plot_confusion_matrix\n",
      "plot_precision_recall_vs_threshold\n",
      "plot_roc_curve\n"
     ]
    }
   ],
   "source": [
    "objective = Objective(parent_run)\n",
    "\n",
    "study = optuna.create_study(direction=\"maximize\")\n",
    "\n",
    "study.optimize(\n",
    "  objective,\n",
    "  n_trials=config_data[\"N_TRAILS\"],\n",
    "  timeout=config_data[\"TIMEOUT\"],\n",
    "  n_jobs=-1,\n",
    "  callbacks=[objective.callback]\n",
    "  )\n",
    "\n",
    "print(\"Study statistics: \")\n",
    "print(\"Number of finished trials: \", len(study.trials))\n",
    "\n",
    "print(\"Best trial:\")\n",
    "print(study.best_value)\n",
    "print(study.best_params)\n",
    "\n",
    "client.log_metric(parent_run.info.run_id, \"best_cv_score\", round(study.best_value, 3))\n",
    "\n",
    "for param in study.best_params:\n",
    "  client.log_param(parent_run.info.run_id, param, study.best_params[param])\n",
    "\n",
    "\n",
    "print(\"Save best model\")\n",
    "# save the best model as file\n",
    "best_model = objective.best_model\n",
    "mlflow.sklearn.save_model(best_model, \"models/%s/\"%parent_run.info.run_id)\n",
    "\n",
    "print(\"Fit best model\")\n",
    "# fit the pipeline with the total training dataset to compute the validation results\n",
    "best_model.fit(df_train.drop(['Survived'], axis=1), df_train['Survived'])\n",
    "\n",
    "print(\"Create submission\")\n",
    "# create submission of best model\n",
    "create_submission(best_model, df_test, parent_run)\n",
    "\n",
    "print(\"Predict training outcome\")\n",
    "# Keras maodel predicts the probabilities instead of the classes\n",
    "y_validate_scores = best_model.predict(x_validate)\n",
    "\n",
    "# set the thresholds for the classes to 0.5 to get the prediction from the probabilities\n",
    "y_validate_pred = tf.greater(y_validate_scores, .5)\n",
    "\n",
    "\n",
    "print(\"Evaluate model performance\")\n",
    "evaluate_model(y_validate, y_validate_pred, y_validate_scores, parent_run)\n",
    "\n",
    "\n",
    "mlflow.end_run()"
   ]
  },
  {
   "cell_type": "code",
   "execution_count": 6,
   "metadata": {},
   "outputs": [],
   "source": [
    "mlflow.end_run()"
   ]
  },
  {
   "cell_type": "code",
   "execution_count": 4,
   "metadata": {},
   "outputs": [],
   "source": [
    "def add_Kaggle_score(run_id, kaggle_score):\n",
    "    # show if kaggle_score is already present\n",
    "    if \"kaggle_score\" not in dict(dict(mlflow.get_run(run_id))[\"data\"])[\"metrics\"].keys():\n",
    "        # if no kaggle_score is present, start run and write kaggle_score\n",
    "        with mlflow.start_run(run_id=run_id):\n",
    "            mlflow.log_metric(\"kaggle_score\", kaggle_score)"
   ]
  },
  {
   "cell_type": "code",
   "execution_count": 5,
   "metadata": {},
   "outputs": [],
   "source": [
    "add_Kaggle_score(run_id=\"2cfaef7917a1493a83167e68adb9c7d7\", kaggle_score=0.622) # Keras NN"
   ]
  },
  {
   "cell_type": "code",
   "execution_count": null,
   "metadata": {},
   "outputs": [],
   "source": []
  }
 ],
 "metadata": {
  "kernelspec": {
   "display_name": "Python 3.10.4 ('keras_mlflow')",
   "language": "python",
   "name": "python3"
  },
  "language_info": {
   "codemirror_mode": {
    "name": "ipython",
    "version": 3
   },
   "file_extension": ".py",
   "mimetype": "text/x-python",
   "name": "python",
   "nbconvert_exporter": "python",
   "pygments_lexer": "ipython3",
   "version": "3.10.4"
  },
  "orig_nbformat": 4,
  "vscode": {
   "interpreter": {
    "hash": "cef7139f413ee8669f71b8d6b763807270aeae07ebea74ef0e203b1537bbec5c"
   }
  }
 },
 "nbformat": 4,
 "nbformat_minor": 2
}
