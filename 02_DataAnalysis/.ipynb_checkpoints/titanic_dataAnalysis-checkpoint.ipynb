{
 "cells": [
  {
   "cell_type": "markdown",
   "metadata": {},
   "source": [
    "# Data Analysis of the Kaggle Titanic Dataset\n",
    "\n",
    "Machine Learning Problem: Classification  \n",
    "Output Variable: Survived"
   ]
  },
  {
   "cell_type": "markdown",
   "metadata": {},
   "source": [
    "## Import all Libraries"
   ]
  },
  {
   "cell_type": "code",
   "execution_count": null,
   "metadata": {},
   "outputs": [],
   "source": [
    "# pandas: handle the datasets in the pandas dataframe for data processing and analysis\n",
    "import pandas as pd\n",
    "print(\"pandas version: {}\". format(pd.__version__))\n",
    "\n",
    "# matplotlib: standard library to create visualizations\n",
    "import matplotlib\n",
    "import matplotlib.pyplot as plt\n",
    "print(\"matplotlib version: {}\". format(matplotlib.__version__))\n",
    "\n",
    "# seaborn: advanced visualization library to create more advanced charts\n",
    "import seaborn as sns\n",
    "print(\"seaborn version: {}\". format(sns.__version__))\n",
    "\n",
    "# turn off warnings for better reading in the Jupyter notebbok\n",
    "pd.options.mode.chained_assignment = None  # default='warn'"
   ]
  },
  {
   "cell_type": "markdown",
   "metadata": {},
   "source": [
    "## Load Training and Test Dataset\n",
    "Load the training and test dataset, that you find on the kaggle website. Make sure that you maybe have to change the folder path."
   ]
  },
  {
   "cell_type": "code",
   "execution_count": null,
   "metadata": {},
   "outputs": [],
   "source": [
    "# load training and test dataset\n",
    "df_train = pd.read_csv('../01_rawdata/train.csv')\n",
    "df_test = pd.read_csv('../01_rawdata/test.csv')"
   ]
  },
  {
   "cell_type": "markdown",
   "metadata": {},
   "source": [
    "## First Look at the Training and Test Dataset\n",
    "To get a fist look at the training and test datasets, we plot the first few lines and create basic statistical reports."
   ]
  },
  {
   "cell_type": "markdown",
   "metadata": {},
   "source": [
    "### Print the first lines of the dataset"
   ]
  },
  {
   "cell_type": "code",
   "execution_count": null,
   "metadata": {},
   "outputs": [],
   "source": [
    "# print the first 10 lines of the training data\n",
    "df_train.head(10)"
   ]
  },
  {
   "cell_type": "code",
   "execution_count": null,
   "metadata": {},
   "outputs": [],
   "source": [
    "# print the first 10 lines of the test data\n",
    "df_test.head(10)"
   ]
  },
  {
   "cell_type": "markdown",
   "metadata": {},
   "source": [
    "### Create a Statistical Report of Numeric and Categorical Features"
   ]
  },
  {
   "cell_type": "code",
   "execution_count": null,
   "metadata": {},
   "outputs": [],
   "source": [
    "# create the statistic report of the numeric features of the training dataset\n",
    "df_train.describe().transpose()"
   ]
  },
  {
   "cell_type": "code",
   "execution_count": null,
   "metadata": {},
   "outputs": [],
   "source": [
    "# create the statistic report of the numeric features of the test dataset\n",
    "df_test.describe().transpose()"
   ]
  },
  {
   "cell_type": "markdown",
   "metadata": {},
   "source": [
    "#### Result: statistical resport of numeric features\n",
    "\n",
    "- The **training dataset contains 891 samples** (number of rows in training dataset) and the **test dataset 418 samples** (number .of rows in test dataset)\n",
    "- The \"PassengerId\" is consecutively numbered -> does not add any information if a passenger survived or not but harms the ML algorithm because it adds false added afterwards information\n",
    "- The feature **\"Age\" has missing values**. (714 instead of 891 in the training dataset and 332 instead of 418 in the test dataset) -> handle later\n",
    "- The mean of \"Survived\" is 0.38, therefore we already know that **38% of all passengers survived**.\n",
    "- 75% of all passengers are between 38 and 39 years old or younger. There are a few older passengers with the oldest 80 years old.\n",
    "- More than 75% of all passengers travel without parents or children (75% percentile of Parch == 0)\n",
    "- The minimum fare is 0 -> check if Children did not have to pay.\n",
    "- For the test dataset the feature **\"Fare\" has missing values** (417 instead of 418) -> handle later"
   ]
  },
  {
   "cell_type": "code",
   "execution_count": null,
   "metadata": {},
   "outputs": [],
   "source": [
    "# create the statistic report of the categoric features of the training dataset\n",
    "df_train.describe(include=['O']).transpose()"
   ]
  },
  {
   "cell_type": "code",
   "execution_count": null,
   "metadata": {},
   "outputs": [],
   "source": [
    "# create the statistic report of the categoric features of the test dataset\n",
    "df_test.describe(include=['O']).transpose()"
   ]
  },
  {
   "cell_type": "markdown",
   "metadata": {},
   "source": [
    "#### Results: statistical report of categorical features\n",
    "- All names in the column \"Name\" are unique\n",
    "- There are 843 (577+266) male passengers and (891+418)-843 = 472 female passengers\n",
    "- 914 (644+270) out of 1.309 passengers embarked in Southampton\n",
    "- Not all ticket numbers are unique -> maybe children have the ticket number from their parents\n",
    "- The feature **\"Cabin\" has missing values** (204 instead of 891 in the training dataset and 91 instead of 418 in the test dataset) -> handle later\n",
    "- The feature **\"Embarked\" has missing values** (889 instead of 891 in the training dataset) -> handle later"
   ]
  },
  {
   "cell_type": "markdown",
   "metadata": {},
   "source": [
    "## Key Questions for the Data Analysis\n",
    "It is important to get a better understanding of the features, because it might help you to create a better dataset for the machine learning algorithm through feature engineering. Therefore I prepared some key questions."
   ]
  },
  {
   "cell_type": "code",
   "execution_count": null,
   "metadata": {},
   "outputs": [],
   "source": [
    "def pivot_survival_rate(df_train, target_column):\n",
    "    # create a pivot table with the target_column as index and \"Survived\" as columns\n",
    "    # count the number of entries of \"PassengerId\" for each combination of target_column and \"Survived\"\n",
    "    # fill all empty cells with 0\n",
    "    df_pivot = pd.pivot_table(\n",
    "        df_train[['PassengerId', target_column, 'Survived']],\n",
    "        index=[target_column],\n",
    "        columns=[\"Survived\"],\n",
    "        aggfunc='count',\n",
    "        fill_value=0)\\\n",
    "        .reset_index()\n",
    "\n",
    "    # rename the columns to avoid numbers as column name\n",
    "    df_pivot.columns = [target_column, 'not_survived', 'survived']\n",
    "\n",
    "    # create a new column with the total number of survived and not survived passengers\n",
    "    df_pivot['passengers'] = df_pivot['not_survived']+df_pivot['survived']\n",
    "\n",
    "    # create a new column with the proportion of survivors to total passengers\n",
    "    df_pivot['survival_rate'] = df_pivot['survived']/df_pivot['passengers']*100\n",
    "\n",
    "    print(df_pivot.to_markdown())"
   ]
  },
  {
   "cell_type": "markdown",
   "metadata": {},
   "source": [
    "### Had Older Passengers and Children a Higher Chance of Survival?\n",
    "Create a basic univariate distribution plot of \"Age\" in the training data to find the threshold values when the survival rate is changing. Based on this thresholds, we create a new feature that categorizes the age feature (children, adult, senior). Based on the number of survived passengers, we can then calculate the survival rate for each age category."
   ]
  },
  {
   "cell_type": "markdown",
   "metadata": {},
   "source": [
    "#### Univariate Dirstribution Plot: \"Age\""
   ]
  },
  {
   "cell_type": "code",
   "execution_count": null,
   "metadata": {},
   "outputs": [],
   "source": [
    "# create univariate dirstribution plot for \"Age\" seperated by \"Survived\"\n",
    "# common_norm=False: distribution for survived and not survived passengers sum up individually to 1\n",
    "sns.kdeplot(data=df_train, x=\"Age\", hue=\"Survived\", common_norm=False)\n",
    "#sns.kdeplot(data=df_train, x=\"Age\", hue=\"Survived\")\n",
    "\n",
    "# limit the x-axes to the max age\n",
    "plt.xlim(0, df_train['Age'].max())\n",
    "\n",
    "plt.grid()\n",
    "plt.show()"
   ]
  },
  {
   "cell_type": "markdown",
   "metadata": {},
   "source": [
    "From the distribution plot we can get the following information, by comparing the difference between the line of survived (orange) and not survived (blue):\n",
    "\n",
    "- Below 12 years, the chances of survival are higher than not to survive, especially for children around 5 years (peak in the survived curve).\n",
    "- If a passenger is older than the 60 years, the chance to survive reduces very fast."
   ]
  },
  {
   "cell_type": "markdown",
   "metadata": {},
   "source": [
    "#### Create Age Category and Calculate Survival Rate of each Category"
   ]
  },
  {
   "cell_type": "code",
   "execution_count": null,
   "metadata": {},
   "outputs": [],
   "source": [
    "def age_category(row):\n",
    "    \"\"\"\n",
    "    Function to transform the actual age in to an age category\n",
    "    Thresholds are deduced from the distribution plot of age\n",
    "    \"\"\"\n",
    "    if row < 12:\n",
    "        return 'children'\n",
    "    if (row >= 12) & (row < 60):\n",
    "        return 'adult'\n",
    "    if row >= 60:\n",
    "        return 'senior'\n",
    "    else:\n",
    "        return 'no age'\n",
    "\n",
    "# apply the function age_category to each row of the dataset\n",
    "df_train['Age_category'] = df_train['Age'].apply(lambda row: age_category(row))\n",
    "df_test['Age_category'] = df_test['Age'].apply(lambda row: age_category(row))"
   ]
  },
  {
   "cell_type": "code",
   "execution_count": null,
   "metadata": {},
   "outputs": [],
   "source": [
    "# show the survival table with the previously created function\n",
    "pivot_survival_rate(df_train, \"Age_category\")"
   ]
  },
  {
   "cell_type": "markdown",
   "metadata": {},
   "source": [
    "#### Results\n",
    "- Children under 12 years have a higher survival rate (57%).\n",
    "- Passangers older 60 years have a lower survival rate (27%)."
   ]
  },
  {
   "cell_type": "markdown",
   "metadata": {},
   "source": [
    "### Had Passengers of a Higher Pclass also a Higher Change of Survival?\n",
    "First we compute the countplot with the seaborn library and use the \"Survived\" feature as category to see the absolute amount of passengers that survived and died in the three different passenger classes. Then we group the dataset by the passenger class and calculate the relative survival rate for each passenger class."
   ]
  },
  {
   "cell_type": "code",
   "execution_count": null,
   "metadata": {},
   "outputs": [],
   "source": [
    "# create a count plot that counts the survived and not survived passengers for each passenger class\n",
    "ax=sns.countplot(data=df_train, x='Pclass', hue='Survived')\n",
    "\n",
    "# show numbers above the bars\n",
    "for p in ax.patches:\n",
    "    ax.annotate('{}'.format(p.get_height()), (p.get_x()+0.1, p.get_height()+10))\n",
    "\n",
    "# show the ledgend outside of the plot\n",
    "ax.legend(title='Survived', bbox_to_anchor=(1.05, 1), loc='upper left')\n",
    "\n",
    "plt.show()"
   ]
  },
  {
   "cell_type": "markdown",
   "metadata": {},
   "source": [
    "From the bar chart we can see that most passengers that survived are from the 1st class, but to get the exact numbers, we use the pivot_survival_rate function."
   ]
  },
  {
   "cell_type": "code",
   "execution_count": null,
   "metadata": {},
   "outputs": [],
   "source": [
    "pivot_survival_rate(df_train, \"Pclass\")"
   ]
  },
  {
   "cell_type": "markdown",
   "metadata": {},
   "source": [
    "#### Results\n",
    "- The higher the passenger class, the higher was the survival rate.\n",
    "- **The highest survival rate had passengers in the first class (63%) compared to the survival rate of the lowest class (24%).**"
   ]
  },
  {
   "cell_type": "markdown",
   "metadata": {},
   "source": [
    "### Did Passengers that Paid a Higher Fare also had a Higher Survival Rate?\n",
    "To see if the fare influences the survival rate, we create a basic univariate distribution plot of \"Fare\" for the training data because we need the information if the passengers survived not or. For the distribution plot we use the kdeplot function of the seaborn library and separate the distribution by \"Survived\"."
   ]
  },
  {
   "cell_type": "code",
   "execution_count": null,
   "metadata": {},
   "outputs": [],
   "source": [
    "# create univariate dirstribution plot for \"Fare\" seperated by \"Survived\"\n",
    "# common_norm=False: distribution for survived and not survived passengers sum up individually to 1\n",
    "sns.kdeplot(data=df_train, x=\"Fare\", hue=\"Survived\", common_norm=False)\n",
    "plt.grid()\n",
    "plt.xlim(0, 100)\n",
    "plt.show()"
   ]
  },
  {
   "cell_type": "markdown",
   "metadata": {},
   "source": [
    "#### Results\n",
    "- Under a fare of 30 the survival rate is very low with the top at around a fare of 10. \n",
    "- If a passengers paid a fare higher then 30, the chance to survive was higher than to not survive the Titanic."
   ]
  },
  {
   "cell_type": "markdown",
   "metadata": {
    "tags": []
   },
   "source": [
    "### Did women have a Higher Chance of Survival?\n",
    "To find out if the sex of a passenger had an influence on the survival rate, we pivot the training data with \"Sex\" as index and \"Survived\" as columns. "
   ]
  },
  {
   "cell_type": "code",
   "execution_count": null,
   "metadata": {},
   "outputs": [],
   "source": [
    "pivot_survival_rate(df_train, \"Sex\")"
   ]
  },
  {
   "cell_type": "markdown",
   "metadata": {},
   "source": [
    "#### Result\n",
    "- **The survival rate of female passengers is much higher with 74% compared to the survival rate of male passengers with 19%.**"
   ]
  },
  {
   "cell_type": "markdown",
   "metadata": {},
   "source": [
    "### Did the Port of Embarkation influence the Survival Rate?\n",
    "To find out if the port of embarkation influenced the survival rate, we pivot the training data with \"Embarked\" as index and \"Survived\" as columns. "
   ]
  },
  {
   "cell_type": "code",
   "execution_count": null,
   "metadata": {},
   "outputs": [],
   "source": [
    "pivot_survival_rate(df_train, \"Embarked\")"
   ]
  },
  {
   "cell_type": "markdown",
   "metadata": {},
   "source": [
    "#### Results\n",
    "- There is a difference in the survival rate between the three different ports.\n",
    "- The lowest survival rate had passengers that embarked in Southampton (S) with 34%.\n",
    "- The highest survival rate had passengers that embarked in Cherbourg (C) with 55%."
   ]
  },
  {
   "cell_type": "markdown",
   "metadata": {},
   "source": [
    "## Try to separate Survived and not Survived Passengers\n",
    "In addition to the key questions, we create different visualizations to see if one or a combination of features are able to separate the survived and not survived passengers. This task gives an indication which features could be important for the machine learning algorithm."
   ]
  },
  {
   "cell_type": "markdown",
   "metadata": {},
   "source": [
    "### Survival Rate for Sex and Pclass\n",
    "During the data analysis process we saw that the Sex as well as the Pclass had a significant influence on the survival rate. Therefore we would like to see the combined influence of Sex and Pclass on the survival rate.\n",
    "\n",
    "- Use catplot for categorical and numerical features\n",
    "- Use bar_label (matplotlib >= v3.4.2) to show the numbers for each bar"
   ]
  },
  {
   "cell_type": "code",
   "execution_count": null,
   "metadata": {},
   "outputs": [],
   "source": [
    "sns.set(font_scale=1.3)\n",
    "g = sns.catplot(x=\"Sex\", y=\"Survived\", col=\"Pclass\", data=df_train, kind=\"bar\")\n",
    "\n",
    "# loop over the three different axes crated by the col feature\n",
    "for i in range(3):\n",
    "    # extract the matplotlib axes_subplot objects from the FacetGrid\n",
    "    ax = g.facet_axis(0, i)\n",
    "\n",
    "    # iterate through the axes containers\n",
    "    for c in ax.containers:\n",
    "        labels = [f'{(v.get_height()):.2f}' for v in c]\n",
    "        ax.bar_label(c, labels=labels, label_type='center')\n",
    "\n",
    "plt.show()"
   ]
  },
  {
   "cell_type": "markdown",
   "metadata": {},
   "source": [
    "#### Results Catplot of Survival Rate for Sex and Pclass\n",
    "- Almost all female passengers of the first class (97%) as well as the second class (92%) survived.\n",
    "- Female passengers of the 3rd class had a higher chance of survival than male passengers of the first class **-> the feature Sex has a higher influence of the survival rate than the Pclass.**\n",
    "- Male passengers from the first class had more than twice as high a change in survival as male from the second and third class.\n",
    "- The survival rate of male passengers between the second and third class differs not much."
   ]
  },
  {
   "cell_type": "markdown",
   "metadata": {},
   "source": [
    "### Survival Rate for Age and Pclass\n",
    "- Almost all young passengers from the first and second passenger class survived, but there are a lot of young passengers from the third class that died.\n",
    "- The second observation from the swarmplot is that older passengers have a higher survival change if they are in a higher passenger class (imagine a horizontal line, starting around the age of 50)."
   ]
  },
  {
   "cell_type": "code",
   "execution_count": null,
   "metadata": {},
   "outputs": [],
   "source": [
    "g = sns.catplot(x=\"Survived\", y=\"Age\", col=\"Pclass\", data=df_train, kind=\"swarm\")\n",
    "plt.show()"
   ]
  },
  {
   "cell_type": "markdown",
   "metadata": {},
   "source": [
    "### Survival Rate for selected Categorical and Numerical Features\n",
    "- Use\n",
    "    - catplot for categorical and\n",
    "    - kdeplot for numerical features\n",
    "- Use bar_label (matplotlib >= v3.4.2) to show the numbers for each bar"
   ]
  },
  {
   "cell_type": "code",
   "execution_count": null,
   "metadata": {
    "tags": []
   },
   "outputs": [],
   "source": [
    "for feature in [\"Sex\", \"Embarked\", \"Pclass\", \"SibSp\", \"Parch\"]:\n",
    "    g = sns.catplot(x=feature, y=\"Survived\", data=df_train, kind=\"bar\")\n",
    "    \n",
    "    # extract the matplotlib axes_subplot objects from the FacetGrid\n",
    "    ax = g.facet_axis(0, -1)\n",
    "\n",
    "    # iterate through the axes containers\n",
    "    for c in ax.containers:\n",
    "        labels = [f'{(v.get_height()):.2f}' for v in c]\n",
    "        ax.bar_label(c, labels=labels, label_type='center')\n",
    "    \n",
    "    plt.show()"
   ]
  },
  {
   "cell_type": "markdown",
   "metadata": {},
   "source": [
    "#### Results Catplot of selected Categorical Features\n",
    "- **Sex:** The survival rate of female passengers is much higher with 74% compared to the survival rate of male passengers with 19%.\n",
    "- **Embarked:** There is a difference in the survival rate between the three different ports. The lowest survival rate had passengers that embarked in Southampton (S) with 34%. The highest survival rate had passengers that embarked in Cherbourg (C) with 55%.\n",
    "- **Pclass:** The higher the passenger class, the higher was the survival rate. The highest survival rate had passengers in the first class (63%) compared to the survival rate of the lowest class (24%).\n",
    "- **SibSp:** The highest survival rate had passengers with 1 sibling or spouse (54%). The second highest survival rate had passengers with 2 siblings or spouses (45%) but the confidence interval gets very wide. Therefore the reliability of the results gets weaker.\n",
    "- **Parch:** Passengers with 3 parents or children had the highest survival rate (60%) but with a wide confidence interval. Therefore passengers with 1 parch had a slightly lower mean survival rate (55%) but is it a more confidence result."
   ]
  },
  {
   "cell_type": "code",
   "execution_count": null,
   "metadata": {},
   "outputs": [],
   "source": [
    "for feature in [\"Age\", \"Fare\"]:\n",
    "    g = sns.kdeplot(data=df_train, x=feature, hue=\"Survived\", common_norm=False)\n",
    "    plt.show()"
   ]
  },
  {
   "cell_type": "markdown",
   "metadata": {},
   "source": [
    "#### Results Catplot of selected Numerical Features\n",
    "- **Age:** Below 12 years, the chances of survival are higher than not to survive, especially for children around 5 years. If a passenger is older than the 60 years, the change to survive reduces very fast.\n",
    "- **Fare:** The kernel density estimate (KDE) plot shows values that does not exists in the dataset, like a negative \"Fare\". Under a fare of 30 the survival rate is very low with the top at around a fare of 10. If a passengers paid a fare higher then 30, the chance to survive was higher than to not survive the Titanic. **-> see the the kdeplot with the limited x-axis in the key question section.**"
   ]
  },
  {
   "cell_type": "markdown",
   "metadata": {},
   "source": [
    "## Save the Analyzed Dataset"
   ]
  },
  {
   "cell_type": "code",
   "execution_count": null,
   "metadata": {},
   "outputs": [],
   "source": [
    "df_train.to_pickle('df_train.pkl')\n",
    "df_test.to_pickle('df_test.pkl')"
   ]
  },
  {
   "cell_type": "code",
   "execution_count": null,
   "metadata": {},
   "outputs": [],
   "source": []
  }
 ],
 "metadata": {
  "interpreter": {
   "hash": "e11dce06bad411636731fbd5738e20f8c9d69dcf8137c8382fe342b465ebc46d"
  },
  "kernelspec": {
   "display_name": "Python 3",
   "language": "python",
   "name": "python3"
  },
  "language_info": {
   "codemirror_mode": {
    "name": "ipython",
    "version": 3
   },
   "file_extension": ".py",
   "mimetype": "text/x-python",
   "name": "python",
   "nbconvert_exporter": "python",
   "pygments_lexer": "ipython3",
   "version": "3.8.10"
  },
  "toc": {
   "base_numbering": 1,
   "nav_menu": {},
   "number_sections": true,
   "sideBar": true,
   "skip_h1_title": true,
   "title_cell": "Table of Contents",
   "title_sidebar": "Contents",
   "toc_cell": true,
   "toc_position": {
    "height": "calc(100% - 180px)",
    "left": "10px",
    "top": "150px",
    "width": "342.188px"
   },
   "toc_section_display": true,
   "toc_window_display": true
  },
  "toc-autonumbering": false
 },
 "nbformat": 4,
 "nbformat_minor": 4
}
